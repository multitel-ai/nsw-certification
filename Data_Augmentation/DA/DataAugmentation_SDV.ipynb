{
 "cells": [
  {
   "cell_type": "code",
   "execution_count": 17,
   "metadata": {},
   "outputs": [],
   "source": [
    "import os\n",
    "import numpy as np\n",
    "import torch\n",
    "from torch import nn\n",
    "from torch import optim\n",
    "from sklearn.preprocessing import StandardScaler\n",
    "from functools import partial\n",
    "from Data_Augmentation.vpower_src.utils.auxiliary_functions import *\n",
    "import matplotlib.pyplot as plt"
   ]
  },
  {
   "cell_type": "code",
   "execution_count": 18,
   "metadata": {},
   "outputs": [
    {
     "name": "stdout",
     "output_type": "stream",
     "text": [
      "Defaulting to user installation because normal site-packages is not writeable\n",
      "Requirement already satisfied: sdv==1.3.0 in /home/user/.local/lib/python3.8/site-packages (1.3.0)\n",
      "Requirement already satisfied: boto3<2,>=1.15.0 in /home/user/.local/lib/python3.8/site-packages (from sdv==1.3.0) (1.28.42)\n",
      "Requirement already satisfied: graphviz<1,>=0.13.2 in /opt/conda/lib/python3.8/site-packages (from sdv==1.3.0) (0.20.1)\n",
      "Requirement already satisfied: Faker<15,>=10 in /home/user/.local/lib/python3.8/site-packages (from sdv==1.3.0) (14.2.1)\n",
      "Requirement already satisfied: deepecho<0.5,>=0.4.2 in /home/user/.local/lib/python3.8/site-packages (from sdv==1.3.0) (0.4.2)\n",
      "Requirement already satisfied: cloudpickle<3.0,>=2.1.0 in /opt/conda/lib/python3.8/site-packages (from sdv==1.3.0) (2.2.1)\n",
      "Requirement already satisfied: sdmetrics<0.12,>=0.11.0 in /home/user/.local/lib/python3.8/site-packages (from sdv==1.3.0) (0.11.0)\n",
      "Requirement already satisfied: pandas>=1.1.3 in /home/user/.local/lib/python3.8/site-packages (from sdv==1.3.0) (1.1.3)\n",
      "Requirement already satisfied: numpy<1.25.0,>=1.20.0 in /home/user/.local/lib/python3.8/site-packages (from sdv==1.3.0) (1.24.4)\n",
      "Requirement already satisfied: ctgan<0.8,>=0.7.4 in /home/user/.local/lib/python3.8/site-packages (from sdv==1.3.0) (0.7.4)\n",
      "Requirement already satisfied: copulas<0.10,>=0.9.0 in /home/user/.local/lib/python3.8/site-packages (from sdv==1.3.0) (0.9.1)\n",
      "Requirement already satisfied: rdt<2,>=1.6.1 in /home/user/.local/lib/python3.8/site-packages (from sdv==1.3.0) (1.7.0)\n",
      "Requirement already satisfied: botocore<2,>=1.18 in /home/user/.local/lib/python3.8/site-packages (from sdv==1.3.0) (1.31.42)\n",
      "Requirement already satisfied: tqdm<5,>=4.15 in /opt/conda/lib/python3.8/site-packages (from sdv==1.3.0) (4.43.0)\n",
      "Requirement already satisfied: jmespath<2.0.0,>=0.7.1 in /home/user/.local/lib/python3.8/site-packages (from boto3<2,>=1.15.0->sdv==1.3.0) (1.0.1)\n",
      "Requirement already satisfied: s3transfer<0.7.0,>=0.6.0 in /home/user/.local/lib/python3.8/site-packages (from boto3<2,>=1.15.0->sdv==1.3.0) (0.6.2)\n",
      "Requirement already satisfied: python-dateutil<3.0.0,>=2.1 in /opt/conda/lib/python3.8/site-packages (from botocore<2,>=1.18->sdv==1.3.0) (2.8.2)\n",
      "Requirement already satisfied: urllib3<1.27,>=1.25.4 in /opt/conda/lib/python3.8/site-packages (from botocore<2,>=1.18->sdv==1.3.0) (1.26.7)\n",
      "Requirement already satisfied: scipy<2,>=1.5.4 in /opt/conda/lib/python3.8/site-packages (from copulas<0.10,>=0.9.0->sdv==1.3.0) (1.10.1)\n",
      "Requirement already satisfied: matplotlib<4,>=3.4.0 in /home/user/.local/lib/python3.8/site-packages (from copulas<0.10,>=0.9.0->sdv==1.3.0) (3.7.2)\n",
      "Requirement already satisfied: torch>=1.8.0 in /opt/conda/lib/python3.8/site-packages (from ctgan<0.8,>=0.7.4->sdv==1.3.0) (1.11.0)\n",
      "Requirement already satisfied: importlib-resources>=3.2.0 in /opt/conda/lib/python3.8/site-packages (from matplotlib<4,>=3.4.0->copulas<0.10,>=0.9.0->sdv==1.3.0) (6.0.1)\n",
      "Requirement already satisfied: fonttools>=4.22.0 in /home/user/.local/lib/python3.8/site-packages (from matplotlib<4,>=3.4.0->copulas<0.10,>=0.9.0->sdv==1.3.0) (4.42.1)\n",
      "Requirement already satisfied: contourpy>=1.0.1 in /home/user/.local/lib/python3.8/site-packages (from matplotlib<4,>=3.4.0->copulas<0.10,>=0.9.0->sdv==1.3.0) (1.1.0)\n",
      "Requirement already satisfied: pyparsing<3.1,>=2.3.1 in /home/user/.local/lib/python3.8/site-packages (from matplotlib<4,>=3.4.0->copulas<0.10,>=0.9.0->sdv==1.3.0) (3.0.9)\n",
      "Requirement already satisfied: kiwisolver>=1.0.1 in /opt/conda/lib/python3.8/site-packages (from matplotlib<4,>=3.4.0->copulas<0.10,>=0.9.0->sdv==1.3.0) (1.4.5)\n",
      "Requirement already satisfied: pillow>=6.2.0 in /opt/conda/lib/python3.8/site-packages (from matplotlib<4,>=3.4.0->copulas<0.10,>=0.9.0->sdv==1.3.0) (9.0.1)\n",
      "Requirement already satisfied: cycler>=0.10 in /opt/conda/lib/python3.8/site-packages (from matplotlib<4,>=3.4.0->copulas<0.10,>=0.9.0->sdv==1.3.0) (0.11.0)\n",
      "Requirement already satisfied: packaging>=20.0 in /opt/conda/lib/python3.8/site-packages (from matplotlib<4,>=3.4.0->copulas<0.10,>=0.9.0->sdv==1.3.0) (23.1)\n",
      "Requirement already satisfied: zipp>=3.1.0 in /opt/conda/lib/python3.8/site-packages (from importlib-resources>=3.2.0->matplotlib<4,>=3.4.0->copulas<0.10,>=0.9.0->sdv==1.3.0) (3.16.2)\n",
      "Requirement already satisfied: pytz>=2017.2 in /opt/conda/lib/python3.8/site-packages (from pandas>=1.1.3->sdv==1.3.0) (2021.3)\n",
      "Requirement already satisfied: six>=1.5 in /opt/conda/lib/python3.8/site-packages (from python-dateutil<3.0.0,>=2.1->botocore<2,>=1.18->sdv==1.3.0) (1.16.0)\n",
      "Requirement already satisfied: scikit-learn<2,>=0.24 in /opt/conda/lib/python3.8/site-packages (from rdt<2,>=1.6.1->sdv==1.3.0) (0.24.2)\n",
      "Requirement already satisfied: psutil<6,>=5.7 in /opt/conda/lib/python3.8/site-packages (from rdt<2,>=1.6.1->sdv==1.3.0) (5.8.0)\n",
      "Requirement already satisfied: threadpoolctl>=2.0.0 in /opt/conda/lib/python3.8/site-packages (from scikit-learn<2,>=0.24->rdt<2,>=1.6.1->sdv==1.3.0) (3.2.0)\n",
      "Requirement already satisfied: joblib>=0.11 in /opt/conda/lib/python3.8/site-packages (from scikit-learn<2,>=0.24->rdt<2,>=1.6.1->sdv==1.3.0) (1.3.2)\n",
      "Requirement already satisfied: plotly<6,>=5.10.0 in /opt/conda/lib/python3.8/site-packages (from sdmetrics<0.12,>=0.11.0->sdv==1.3.0) (5.16.1)\n",
      "Requirement already satisfied: tenacity>=6.2.0 in /opt/conda/lib/python3.8/site-packages (from plotly<6,>=5.10.0->sdmetrics<0.12,>=0.11.0->sdv==1.3.0) (8.2.3)\n",
      "Requirement already satisfied: typing_extensions in /opt/conda/lib/python3.8/site-packages (from torch>=1.8.0->ctgan<0.8,>=0.7.4->sdv==1.3.0) (4.5.0)\n"
     ]
    }
   ],
   "source": [
    "#!pip install deep_tabular_augmentation\n",
    "!pip install sdv==1.3.0"
   ]
  },
  {
   "cell_type": "code",
   "execution_count": 19,
   "metadata": {},
   "outputs": [],
   "source": [
    "import sdv\n",
    "from sdv.metadata import SingleTableMetadata\n",
    "from sdv.single_table import GaussianCopulaSynthesizer\n",
    "from sdv.lite import SingleTablePreset\n",
    "from sdv.single_table import CTGANSynthesizer\n",
    "from sdv.single_table import CopulaGANSynthesizer"
   ]
  },
  {
   "cell_type": "code",
   "execution_count": 20,
   "metadata": {},
   "outputs": [
    {
     "data": {
      "text/plain": [
       "True"
      ]
     },
     "execution_count": 20,
     "metadata": {},
     "output_type": "execute_result"
    }
   ],
   "source": [
    "torch.cuda.is_available()"
   ]
  },
  {
   "cell_type": "code",
   "execution_count": 21,
   "metadata": {},
   "outputs": [],
   "source": [
    "data_dir_s =  \"../../Data/synthetic_data\"\n",
    "data_dir_r =  \"../../Data/split_quad\"\n",
    "data_dir_da = \"../../Data/augmented_data\"\n",
    "data_tag=\"RD\"\n"
   ]
  },
  {
   "cell_type": "code",
   "execution_count": 22,
   "metadata": {},
   "outputs": [
    {
     "data": {
      "text/html": [
       "<div>\n",
       "<style scoped>\n",
       "    .dataframe tbody tr th:only-of-type {\n",
       "        vertical-align: middle;\n",
       "    }\n",
       "\n",
       "    .dataframe tbody tr th {\n",
       "        vertical-align: top;\n",
       "    }\n",
       "\n",
       "    .dataframe thead th {\n",
       "        text-align: right;\n",
       "    }\n",
       "</style>\n",
       "<table border=\"1\" class=\"dataframe\">\n",
       "  <thead>\n",
       "    <tr style=\"text-align: right;\">\n",
       "      <th></th>\n",
       "      <th>time_start</th>\n",
       "      <th>flight</th>\n",
       "      <th>time</th>\n",
       "      <th>wind_speed</th>\n",
       "      <th>wind_angle</th>\n",
       "      <th>battery_voltage</th>\n",
       "      <th>battery_current</th>\n",
       "      <th>position_x</th>\n",
       "      <th>position_y</th>\n",
       "      <th>position_z</th>\n",
       "      <th>...</th>\n",
       "      <th>angular_z</th>\n",
       "      <th>linear_acceleration_x</th>\n",
       "      <th>linear_acceleration_y</th>\n",
       "      <th>linear_acceleration_z</th>\n",
       "      <th>speed</th>\n",
       "      <th>payload</th>\n",
       "      <th>altitude</th>\n",
       "      <th>route</th>\n",
       "      <th>power</th>\n",
       "      <th>power_smoothed</th>\n",
       "    </tr>\n",
       "    <tr>\n",
       "      <th>index</th>\n",
       "      <th></th>\n",
       "      <th></th>\n",
       "      <th></th>\n",
       "      <th></th>\n",
       "      <th></th>\n",
       "      <th></th>\n",
       "      <th></th>\n",
       "      <th></th>\n",
       "      <th></th>\n",
       "      <th></th>\n",
       "      <th></th>\n",
       "      <th></th>\n",
       "      <th></th>\n",
       "      <th></th>\n",
       "      <th></th>\n",
       "      <th></th>\n",
       "      <th></th>\n",
       "      <th></th>\n",
       "      <th></th>\n",
       "      <th></th>\n",
       "      <th></th>\n",
       "    </tr>\n",
       "  </thead>\n",
       "  <tbody>\n",
       "    <tr>\n",
       "      <th>112</th>\n",
       "      <td>2019-04-07 10:13:00</td>\n",
       "      <td>1</td>\n",
       "      <td>0.00</td>\n",
       "      <td>1.4</td>\n",
       "      <td>37.0</td>\n",
       "      <td>24.178350</td>\n",
       "      <td>0.389637</td>\n",
       "      <td>-79.782396</td>\n",
       "      <td>40.458047</td>\n",
       "      <td>270.407091</td>\n",
       "      <td>...</td>\n",
       "      <td>-0.000479</td>\n",
       "      <td>0.033248</td>\n",
       "      <td>-0.114812</td>\n",
       "      <td>-9.824341</td>\n",
       "      <td>4</td>\n",
       "      <td>0</td>\n",
       "      <td>25</td>\n",
       "      <td>R5</td>\n",
       "      <td>9.420778</td>\n",
       "      <td>9.420778</td>\n",
       "    </tr>\n",
       "    <tr>\n",
       "      <th>113</th>\n",
       "      <td>2019-04-07 10:13:00</td>\n",
       "      <td>1</td>\n",
       "      <td>0.21</td>\n",
       "      <td>1.4</td>\n",
       "      <td>36.0</td>\n",
       "      <td>23.517269</td>\n",
       "      <td>6.154673</td>\n",
       "      <td>-79.782396</td>\n",
       "      <td>40.458047</td>\n",
       "      <td>270.432353</td>\n",
       "      <td>...</td>\n",
       "      <td>0.011397</td>\n",
       "      <td>0.042173</td>\n",
       "      <td>-0.108319</td>\n",
       "      <td>-9.837841</td>\n",
       "      <td>4</td>\n",
       "      <td>0</td>\n",
       "      <td>25</td>\n",
       "      <td>R5</td>\n",
       "      <td>144.741104</td>\n",
       "      <td>144.741104</td>\n",
       "    </tr>\n",
       "    <tr>\n",
       "      <th>114</th>\n",
       "      <td>2019-04-07 10:13:00</td>\n",
       "      <td>1</td>\n",
       "      <td>0.31</td>\n",
       "      <td>1.4</td>\n",
       "      <td>42.0</td>\n",
       "      <td>24.109488</td>\n",
       "      <td>1.025779</td>\n",
       "      <td>-79.782396</td>\n",
       "      <td>40.458047</td>\n",
       "      <td>270.433609</td>\n",
       "      <td>...</td>\n",
       "      <td>0.017794</td>\n",
       "      <td>0.005411</td>\n",
       "      <td>-0.188141</td>\n",
       "      <td>-9.812851</td>\n",
       "      <td>4</td>\n",
       "      <td>0</td>\n",
       "      <td>25</td>\n",
       "      <td>R5</td>\n",
       "      <td>24.731003</td>\n",
       "      <td>24.731003</td>\n",
       "    </tr>\n",
       "    <tr>\n",
       "      <th>115</th>\n",
       "      <td>2019-04-07 10:13:00</td>\n",
       "      <td>1</td>\n",
       "      <td>0.50</td>\n",
       "      <td>1.4</td>\n",
       "      <td>42.0</td>\n",
       "      <td>24.189619</td>\n",
       "      <td>0.278312</td>\n",
       "      <td>-79.782396</td>\n",
       "      <td>40.458047</td>\n",
       "      <td>270.459037</td>\n",
       "      <td>...</td>\n",
       "      <td>-0.005043</td>\n",
       "      <td>0.034055</td>\n",
       "      <td>-0.114786</td>\n",
       "      <td>-9.808225</td>\n",
       "      <td>4</td>\n",
       "      <td>0</td>\n",
       "      <td>25</td>\n",
       "      <td>R5</td>\n",
       "      <td>6.732263</td>\n",
       "      <td>6.732263</td>\n",
       "    </tr>\n",
       "    <tr>\n",
       "      <th>116</th>\n",
       "      <td>2019-04-07 10:13:00</td>\n",
       "      <td>1</td>\n",
       "      <td>0.61</td>\n",
       "      <td>1.3</td>\n",
       "      <td>41.0</td>\n",
       "      <td>24.192123</td>\n",
       "      <td>0.389637</td>\n",
       "      <td>-79.782396</td>\n",
       "      <td>40.458047</td>\n",
       "      <td>270.460150</td>\n",
       "      <td>...</td>\n",
       "      <td>-0.012929</td>\n",
       "      <td>0.008335</td>\n",
       "      <td>-0.094107</td>\n",
       "      <td>-9.812603</td>\n",
       "      <td>4</td>\n",
       "      <td>0</td>\n",
       "      <td>25</td>\n",
       "      <td>R5</td>\n",
       "      <td>9.426145</td>\n",
       "      <td>9.426145</td>\n",
       "    </tr>\n",
       "    <tr>\n",
       "      <th>...</th>\n",
       "      <td>...</td>\n",
       "      <td>...</td>\n",
       "      <td>...</td>\n",
       "      <td>...</td>\n",
       "      <td>...</td>\n",
       "      <td>...</td>\n",
       "      <td>...</td>\n",
       "      <td>...</td>\n",
       "      <td>...</td>\n",
       "      <td>...</td>\n",
       "      <td>...</td>\n",
       "      <td>...</td>\n",
       "      <td>...</td>\n",
       "      <td>...</td>\n",
       "      <td>...</td>\n",
       "      <td>...</td>\n",
       "      <td>...</td>\n",
       "      <td>...</td>\n",
       "      <td>...</td>\n",
       "      <td>...</td>\n",
       "      <td>...</td>\n",
       "    </tr>\n",
       "    <tr>\n",
       "      <th>1239</th>\n",
       "      <td>2019-04-07 10:13:00</td>\n",
       "      <td>1</td>\n",
       "      <td>169.10</td>\n",
       "      <td>1.7</td>\n",
       "      <td>92.0</td>\n",
       "      <td>22.500603</td>\n",
       "      <td>5.033473</td>\n",
       "      <td>-79.782354</td>\n",
       "      <td>40.458037</td>\n",
       "      <td>268.150388</td>\n",
       "      <td>...</td>\n",
       "      <td>0.022862</td>\n",
       "      <td>0.264301</td>\n",
       "      <td>0.581728</td>\n",
       "      <td>-9.760308</td>\n",
       "      <td>4</td>\n",
       "      <td>0</td>\n",
       "      <td>25</td>\n",
       "      <td>R5</td>\n",
       "      <td>113.256177</td>\n",
       "      <td>113.256177</td>\n",
       "    </tr>\n",
       "    <tr>\n",
       "      <th>1240</th>\n",
       "      <td>2019-04-07 10:13:00</td>\n",
       "      <td>1</td>\n",
       "      <td>169.20</td>\n",
       "      <td>1.7</td>\n",
       "      <td>90.0</td>\n",
       "      <td>22.493092</td>\n",
       "      <td>5.089135</td>\n",
       "      <td>-79.782354</td>\n",
       "      <td>40.458037</td>\n",
       "      <td>268.170896</td>\n",
       "      <td>...</td>\n",
       "      <td>-0.011390</td>\n",
       "      <td>0.207800</td>\n",
       "      <td>0.540354</td>\n",
       "      <td>-9.742634</td>\n",
       "      <td>4</td>\n",
       "      <td>0</td>\n",
       "      <td>25</td>\n",
       "      <td>R5</td>\n",
       "      <td>114.470383</td>\n",
       "      <td>114.470383</td>\n",
       "    </tr>\n",
       "    <tr>\n",
       "      <th>1241</th>\n",
       "      <td>2019-04-07 10:13:00</td>\n",
       "      <td>1</td>\n",
       "      <td>169.30</td>\n",
       "      <td>1.7</td>\n",
       "      <td>92.0</td>\n",
       "      <td>22.498098</td>\n",
       "      <td>5.025521</td>\n",
       "      <td>-79.782354</td>\n",
       "      <td>40.458037</td>\n",
       "      <td>268.153808</td>\n",
       "      <td>...</td>\n",
       "      <td>-0.000938</td>\n",
       "      <td>0.246509</td>\n",
       "      <td>0.592650</td>\n",
       "      <td>-9.784649</td>\n",
       "      <td>4</td>\n",
       "      <td>0</td>\n",
       "      <td>25</td>\n",
       "      <td>R5</td>\n",
       "      <td>113.064672</td>\n",
       "      <td>113.064672</td>\n",
       "    </tr>\n",
       "    <tr>\n",
       "      <th>1242</th>\n",
       "      <td>2019-04-07 10:13:00</td>\n",
       "      <td>1</td>\n",
       "      <td>169.50</td>\n",
       "      <td>1.7</td>\n",
       "      <td>93.0</td>\n",
       "      <td>22.506863</td>\n",
       "      <td>5.176605</td>\n",
       "      <td>-79.782354</td>\n",
       "      <td>40.458037</td>\n",
       "      <td>268.164205</td>\n",
       "      <td>...</td>\n",
       "      <td>-0.012062</td>\n",
       "      <td>0.161688</td>\n",
       "      <td>0.608997</td>\n",
       "      <td>-9.730863</td>\n",
       "      <td>4</td>\n",
       "      <td>0</td>\n",
       "      <td>25</td>\n",
       "      <td>R5</td>\n",
       "      <td>116.509132</td>\n",
       "      <td>116.509132</td>\n",
       "    </tr>\n",
       "    <tr>\n",
       "      <th>1243</th>\n",
       "      <td>2019-04-07 10:13:00</td>\n",
       "      <td>1</td>\n",
       "      <td>169.70</td>\n",
       "      <td>1.7</td>\n",
       "      <td>94.0</td>\n",
       "      <td>22.797338</td>\n",
       "      <td>0.143132</td>\n",
       "      <td>-79.782354</td>\n",
       "      <td>40.458037</td>\n",
       "      <td>268.178613</td>\n",
       "      <td>...</td>\n",
       "      <td>0.018540</td>\n",
       "      <td>0.266580</td>\n",
       "      <td>0.629168</td>\n",
       "      <td>-9.792398</td>\n",
       "      <td>4</td>\n",
       "      <td>0</td>\n",
       "      <td>25</td>\n",
       "      <td>R5</td>\n",
       "      <td>3.263027</td>\n",
       "      <td>3.263027</td>\n",
       "    </tr>\n",
       "  </tbody>\n",
       "</table>\n",
       "<p>815 rows × 29 columns</p>\n",
       "</div>"
      ],
      "text/plain": [
       "                time_start  flight    time  wind_speed  wind_angle  \\\n",
       "index                                                                \n",
       "112    2019-04-07 10:13:00       1    0.00         1.4        37.0   \n",
       "113    2019-04-07 10:13:00       1    0.21         1.4        36.0   \n",
       "114    2019-04-07 10:13:00       1    0.31         1.4        42.0   \n",
       "115    2019-04-07 10:13:00       1    0.50         1.4        42.0   \n",
       "116    2019-04-07 10:13:00       1    0.61         1.3        41.0   \n",
       "...                    ...     ...     ...         ...         ...   \n",
       "1239   2019-04-07 10:13:00       1  169.10         1.7        92.0   \n",
       "1240   2019-04-07 10:13:00       1  169.20         1.7        90.0   \n",
       "1241   2019-04-07 10:13:00       1  169.30         1.7        92.0   \n",
       "1242   2019-04-07 10:13:00       1  169.50         1.7        93.0   \n",
       "1243   2019-04-07 10:13:00       1  169.70         1.7        94.0   \n",
       "\n",
       "       battery_voltage  battery_current  position_x  position_y  position_z  \\\n",
       "index                                                                         \n",
       "112          24.178350         0.389637  -79.782396   40.458047  270.407091   \n",
       "113          23.517269         6.154673  -79.782396   40.458047  270.432353   \n",
       "114          24.109488         1.025779  -79.782396   40.458047  270.433609   \n",
       "115          24.189619         0.278312  -79.782396   40.458047  270.459037   \n",
       "116          24.192123         0.389637  -79.782396   40.458047  270.460150   \n",
       "...                ...              ...         ...         ...         ...   \n",
       "1239         22.500603         5.033473  -79.782354   40.458037  268.150388   \n",
       "1240         22.493092         5.089135  -79.782354   40.458037  268.170896   \n",
       "1241         22.498098         5.025521  -79.782354   40.458037  268.153808   \n",
       "1242         22.506863         5.176605  -79.782354   40.458037  268.164205   \n",
       "1243         22.797338         0.143132  -79.782354   40.458037  268.178613   \n",
       "\n",
       "       ...  angular_z  linear_acceleration_x  linear_acceleration_y  \\\n",
       "index  ...                                                            \n",
       "112    ...  -0.000479               0.033248              -0.114812   \n",
       "113    ...   0.011397               0.042173              -0.108319   \n",
       "114    ...   0.017794               0.005411              -0.188141   \n",
       "115    ...  -0.005043               0.034055              -0.114786   \n",
       "116    ...  -0.012929               0.008335              -0.094107   \n",
       "...    ...        ...                    ...                    ...   \n",
       "1239   ...   0.022862               0.264301               0.581728   \n",
       "1240   ...  -0.011390               0.207800               0.540354   \n",
       "1241   ...  -0.000938               0.246509               0.592650   \n",
       "1242   ...  -0.012062               0.161688               0.608997   \n",
       "1243   ...   0.018540               0.266580               0.629168   \n",
       "\n",
       "       linear_acceleration_z  speed  payload  altitude  route       power  \\\n",
       "index                                                                       \n",
       "112                -9.824341      4        0        25     R5    9.420778   \n",
       "113                -9.837841      4        0        25     R5  144.741104   \n",
       "114                -9.812851      4        0        25     R5   24.731003   \n",
       "115                -9.808225      4        0        25     R5    6.732263   \n",
       "116                -9.812603      4        0        25     R5    9.426145   \n",
       "...                      ...    ...      ...       ...    ...         ...   \n",
       "1239               -9.760308      4        0        25     R5  113.256177   \n",
       "1240               -9.742634      4        0        25     R5  114.470383   \n",
       "1241               -9.784649      4        0        25     R5  113.064672   \n",
       "1242               -9.730863      4        0        25     R5  116.509132   \n",
       "1243               -9.792398      4        0        25     R5    3.263027   \n",
       "\n",
       "       power_smoothed  \n",
       "index                  \n",
       "112          9.420778  \n",
       "113        144.741104  \n",
       "114         24.731003  \n",
       "115          6.732263  \n",
       "116          9.426145  \n",
       "...               ...  \n",
       "1239       113.256177  \n",
       "1240       114.470383  \n",
       "1241       113.064672  \n",
       "1242       116.509132  \n",
       "1243         3.263027  \n",
       "\n",
       "[815 rows x 29 columns]"
      ]
     },
     "execution_count": 22,
     "metadata": {},
     "output_type": "execute_result"
    }
   ],
   "source": [
    "# Load data partitions and assign them to dictionary data_all\n",
    "data_all = {}\n",
    "#for partition in [\"train\", \"dev_in\", \"dev_out\"]:\n",
    "#    df = load_data_and_set_index(filepath=os.path.join(data_dir_s, f\"{partition}.csv\"), index_column_name=\"index\")\n",
    "#    data_all[partition+\"_s\"] = df\n",
    "for partition in [\"train\", \"test\", \"val\", \"lourd\"]:\n",
    "    df = load_data_and_set_index(filepath=os.path.join(data_dir_r, f\"{partition}.csv\"), index_column_name=\"index\")\n",
    "    data_all[partition+\"_r\"] = df\n",
    "\n",
    "if data_tag==\"RD\":\n",
    "    data_all[\"train\"]=data_all[\"train_r\"]\n",
    "    data_all[\"test\"]=data_all[\"test_r\"]\n",
    "else:\n",
    "    data_all[\"train\"]=   pd.concat([data_all[\"train_r\"], data_all[\"train_s\"]])\n",
    "    data_all[\"test\"] = pd.concat([data_all[\"test_r\"], data_all[\"test_s\"]])\n",
    "    \n",
    "\n",
    "data_flight1 = {}\n",
    "data_flight1[\"train\"] = data_all[\"train\"].loc[data_all[\"train\"][\"flight\"] == 1]\n",
    "data_flight1[\"test\"] = data_all[\"test\"].loc[data_all[\"test\"][\"flight\"] == 1]\n",
    "data_flight1[\"train\"]\n"
   ]
  },
  {
   "cell_type": "code",
   "execution_count": 23,
   "metadata": {},
   "outputs": [],
   "source": [
    "input_features = [\n",
    "    #time_start,\n",
    "    \"flight\",\n",
    "    \"time\",\n",
    "    \"wind_speed\",\n",
    "    \"wind_angle\",\n",
    "    #battery_voltage,\n",
    "    #battery_current,\n",
    "    #position_x,\n",
    "    #position_y,\n",
    "    \"position_z\",\n",
    "    \"orientation_x\",\n",
    "    \"orientation_y\",\n",
    "    \"orientation_z\",\n",
    "    \"orientation_w\",\n",
    "    \"velocity_x\",\n",
    "    \"velocity_y\",\n",
    "    \"velocity_z\",\n",
    "    \"angular_x\",\n",
    "    \"angular_y\",\n",
    "    \"angular_z\",\n",
    "    \"linear_acceleration_x\",\n",
    "    \"linear_acceleration_y\",\n",
    "    \"linear_acceleration_z\",\n",
    "    #speed,\n",
    "    #payload,\n",
    "    #altitude,\n",
    "    #route,\n",
    "    #power,\n",
    "    \"power_smoothed\"\n",
    "]"
   ]
  },
  {
   "cell_type": "code",
   "execution_count": 24,
   "metadata": {},
   "outputs": [],
   "source": [
    "data_flight1[\"train\"] = pd.DataFrame(data_flight1[\"train\"][input_features])\n",
    "data_flight1[\"test\"] = pd.DataFrame(data_flight1[\"test\"][input_features])"
   ]
  },
  {
   "cell_type": "code",
   "execution_count": 25,
   "metadata": {},
   "outputs": [
    {
     "data": {
      "text/plain": [
       "139006"
      ]
     },
     "execution_count": 25,
     "metadata": {},
     "output_type": "execute_result"
    }
   ],
   "source": [
    "real_data=data_all[\"train\"]\n",
    "len(real_data)"
   ]
  },
  {
   "cell_type": "code",
   "execution_count": 26,
   "metadata": {},
   "outputs": [
    {
     "name": "stdout",
     "output_type": "stream",
     "text": [
      "Auto detected data:\n",
      "\n"
     ]
    },
    {
     "data": {
      "text/plain": [
       "{\n",
       "    \"columns\": {\n",
       "        \"time_start\": {\n",
       "            \"sdtype\": \"categorical\"\n",
       "        },\n",
       "        \"flight\": {\n",
       "            \"sdtype\": \"numerical\"\n",
       "        },\n",
       "        \"time\": {\n",
       "            \"sdtype\": \"numerical\"\n",
       "        },\n",
       "        \"wind_speed\": {\n",
       "            \"sdtype\": \"numerical\"\n",
       "        },\n",
       "        \"wind_angle\": {\n",
       "            \"sdtype\": \"numerical\"\n",
       "        },\n",
       "        \"battery_voltage\": {\n",
       "            \"sdtype\": \"numerical\"\n",
       "        },\n",
       "        \"battery_current\": {\n",
       "            \"sdtype\": \"numerical\"\n",
       "        },\n",
       "        \"position_x\": {\n",
       "            \"sdtype\": \"numerical\"\n",
       "        },\n",
       "        \"position_y\": {\n",
       "            \"sdtype\": \"numerical\"\n",
       "        },\n",
       "        \"position_z\": {\n",
       "            \"sdtype\": \"numerical\"\n",
       "        },\n",
       "        \"orientation_x\": {\n",
       "            \"sdtype\": \"numerical\"\n",
       "        },\n",
       "        \"orientation_y\": {\n",
       "            \"sdtype\": \"numerical\"\n",
       "        },\n",
       "        \"orientation_z\": {\n",
       "            \"sdtype\": \"numerical\"\n",
       "        },\n",
       "        \"orientation_w\": {\n",
       "            \"sdtype\": \"numerical\"\n",
       "        },\n",
       "        \"velocity_x\": {\n",
       "            \"sdtype\": \"numerical\"\n",
       "        },\n",
       "        \"velocity_y\": {\n",
       "            \"sdtype\": \"numerical\"\n",
       "        },\n",
       "        \"velocity_z\": {\n",
       "            \"sdtype\": \"numerical\"\n",
       "        },\n",
       "        \"angular_x\": {\n",
       "            \"sdtype\": \"numerical\"\n",
       "        },\n",
       "        \"angular_y\": {\n",
       "            \"sdtype\": \"numerical\"\n",
       "        },\n",
       "        \"angular_z\": {\n",
       "            \"sdtype\": \"numerical\"\n",
       "        },\n",
       "        \"linear_acceleration_x\": {\n",
       "            \"sdtype\": \"numerical\"\n",
       "        },\n",
       "        \"linear_acceleration_y\": {\n",
       "            \"sdtype\": \"numerical\"\n",
       "        },\n",
       "        \"linear_acceleration_z\": {\n",
       "            \"sdtype\": \"numerical\"\n",
       "        },\n",
       "        \"speed\": {\n",
       "            \"sdtype\": \"numerical\"\n",
       "        },\n",
       "        \"payload\": {\n",
       "            \"sdtype\": \"numerical\"\n",
       "        },\n",
       "        \"altitude\": {\n",
       "            \"sdtype\": \"categorical\"\n",
       "        },\n",
       "        \"route\": {\n",
       "            \"sdtype\": \"categorical\"\n",
       "        },\n",
       "        \"power\": {\n",
       "            \"sdtype\": \"numerical\"\n",
       "        },\n",
       "        \"power_smoothed\": {\n",
       "            \"sdtype\": \"numerical\"\n",
       "        }\n",
       "    },\n",
       "    \"METADATA_SPEC_VERSION\": \"SINGLE_TABLE_V1\"\n",
       "}"
      ]
     },
     "execution_count": 26,
     "metadata": {},
     "output_type": "execute_result"
    }
   ],
   "source": [
    "metadata = SingleTableMetadata()\n",
    "metadata.detect_from_dataframe(data=real_data)\n",
    "print('Auto detected data:\\n')\n",
    "metadata"
   ]
  },
  {
   "cell_type": "code",
   "execution_count": 27,
   "metadata": {},
   "outputs": [],
   "source": [
    "# A: GaussianCopulaSynthesizer\n",
    "\n",
    "# Step 1.A: Create the synthesizer\n",
    "synthesizer_Gaussian = GaussianCopulaSynthesizer(metadata)"
   ]
  },
  {
   "cell_type": "code",
   "execution_count": 28,
   "metadata": {},
   "outputs": [],
   "source": [
    "# B: CopulaGANSynthesizer\n",
    "\n",
    "# Step 1.B: Create the synthesizer\n",
    "synthesizer_GAN = CopulaGANSynthesizer(metadata)"
   ]
  },
  {
   "cell_type": "code",
   "execution_count": 29,
   "metadata": {},
   "outputs": [
    {
     "name": "stderr",
     "output_type": "stream",
     "text": [
      "/home/user/.local/lib/python3.8/site-packages/rdt/transformers/numerical.py:112: UserWarning: No rounding scheme detected for column 'time'. Data will not be rounded.\n",
      "  warnings.warn(\n",
      "/home/user/.local/lib/python3.8/site-packages/rdt/transformers/numerical.py:112: UserWarning: No rounding scheme detected for column 'wind_speed'. Data will not be rounded.\n",
      "  warnings.warn(\n",
      "/home/user/.local/lib/python3.8/site-packages/rdt/transformers/numerical.py:112: UserWarning: No rounding scheme detected for column 'battery_voltage'. Data will not be rounded.\n",
      "  warnings.warn(\n",
      "/home/user/.local/lib/python3.8/site-packages/rdt/transformers/numerical.py:112: UserWarning: No rounding scheme detected for column 'battery_current'. Data will not be rounded.\n",
      "  warnings.warn(\n",
      "/home/user/.local/lib/python3.8/site-packages/rdt/transformers/numerical.py:112: UserWarning: No rounding scheme detected for column 'position_y'. Data will not be rounded.\n",
      "  warnings.warn(\n",
      "/home/user/.local/lib/python3.8/site-packages/rdt/transformers/numerical.py:112: UserWarning: No rounding scheme detected for column 'position_z'. Data will not be rounded.\n",
      "  warnings.warn(\n",
      "/home/user/.local/lib/python3.8/site-packages/rdt/transformers/numerical.py:112: UserWarning: No rounding scheme detected for column 'orientation_x'. Data will not be rounded.\n",
      "  warnings.warn(\n",
      "/home/user/.local/lib/python3.8/site-packages/rdt/transformers/numerical.py:112: UserWarning: No rounding scheme detected for column 'orientation_y'. Data will not be rounded.\n",
      "  warnings.warn(\n",
      "/home/user/.local/lib/python3.8/site-packages/rdt/transformers/numerical.py:112: UserWarning: No rounding scheme detected for column 'orientation_z'. Data will not be rounded.\n",
      "  warnings.warn(\n",
      "/home/user/.local/lib/python3.8/site-packages/rdt/transformers/numerical.py:112: UserWarning: No rounding scheme detected for column 'orientation_w'. Data will not be rounded.\n",
      "  warnings.warn(\n",
      "/home/user/.local/lib/python3.8/site-packages/rdt/transformers/numerical.py:112: UserWarning: No rounding scheme detected for column 'velocity_x'. Data will not be rounded.\n",
      "  warnings.warn(\n",
      "/home/user/.local/lib/python3.8/site-packages/rdt/transformers/numerical.py:112: UserWarning: No rounding scheme detected for column 'velocity_y'. Data will not be rounded.\n",
      "  warnings.warn(\n",
      "/home/user/.local/lib/python3.8/site-packages/rdt/transformers/numerical.py:112: UserWarning: No rounding scheme detected for column 'velocity_z'. Data will not be rounded.\n",
      "  warnings.warn(\n",
      "/home/user/.local/lib/python3.8/site-packages/rdt/transformers/numerical.py:112: UserWarning: No rounding scheme detected for column 'angular_x'. Data will not be rounded.\n",
      "  warnings.warn(\n",
      "/home/user/.local/lib/python3.8/site-packages/rdt/transformers/numerical.py:112: UserWarning: No rounding scheme detected for column 'angular_y'. Data will not be rounded.\n",
      "  warnings.warn(\n",
      "/home/user/.local/lib/python3.8/site-packages/rdt/transformers/numerical.py:112: UserWarning: No rounding scheme detected for column 'angular_z'. Data will not be rounded.\n",
      "  warnings.warn(\n",
      "/home/user/.local/lib/python3.8/site-packages/rdt/transformers/numerical.py:112: UserWarning: No rounding scheme detected for column 'linear_acceleration_x'. Data will not be rounded.\n",
      "  warnings.warn(\n",
      "/home/user/.local/lib/python3.8/site-packages/rdt/transformers/numerical.py:112: UserWarning: No rounding scheme detected for column 'linear_acceleration_y'. Data will not be rounded.\n",
      "  warnings.warn(\n",
      "/home/user/.local/lib/python3.8/site-packages/rdt/transformers/numerical.py:112: UserWarning: No rounding scheme detected for column 'linear_acceleration_z'. Data will not be rounded.\n",
      "  warnings.warn(\n",
      "/home/user/.local/lib/python3.8/site-packages/rdt/transformers/numerical.py:112: UserWarning: No rounding scheme detected for column 'power'. Data will not be rounded.\n",
      "  warnings.warn(\n",
      "/home/user/.local/lib/python3.8/site-packages/rdt/transformers/numerical.py:112: UserWarning: No rounding scheme detected for column 'power_smoothed'. Data will not be rounded.\n",
      "  warnings.warn(\n",
      "/home/user/.local/lib/python3.8/site-packages/copulas/multivariate/gaussian.py:119: UserWarning: Unable to fit to a <class 'copulas.univariate.beta.BetaUnivariate'> distribution for column battery_voltage. Using a Gaussian distribution instead.\n",
      "  warnings.warn(warning_message)\n"
     ]
    }
   ],
   "source": [
    "# Step 2.A: Train the synthesizer\n",
    "synthesizer_Gaussian.fit(real_data)\n",
    "synthesizer_Gaussian.save(filepath='my_GaussianCopulaSynthesizer.pkl')"
   ]
  },
  {
   "cell_type": "code",
   "execution_count": null,
   "metadata": {},
   "outputs": [],
   "source": [
    "# Step 2.B: Train the synthesizer\n",
    "synthesizer_GAN.fit(real_data)\n",
    "synthesizer_GAN.save(filepath='my_CopulaGANSynthesizer.pkl')"
   ]
  },
  {
   "cell_type": "code",
   "execution_count": 12,
   "metadata": {},
   "outputs": [
    {
     "name": "stdout",
     "output_type": "stream",
     "text": [
      "15000\n"
     ]
    }
   ],
   "source": [
    "# Step 3.A: Generate synthetic data\n",
    "synthetic_data_Gaussian = synthesizer_Gaussian.sample(num_rows=15000)\n",
    "print(len(synthetic_data_Gaussian))"
   ]
  },
  {
   "cell_type": "code",
   "execution_count": 32,
   "metadata": {},
   "outputs": [
    {
     "ename": "AttributeError",
     "evalue": "Error: Sampling terminated. Partial results are stored in a temporary file: .sample.csv.temp. This file will be overridden the next time you sample. Please rename the file if you wish to save these results.\n'CopulaGANSynthesizer' object has no attribute '_model'",
     "output_type": "error",
     "traceback": [
      "\u001b[0;31m---------------------------------------------------------------------------\u001b[0m",
      "\u001b[0;31mAttributeError\u001b[0m                            Traceback (most recent call last)",
      "\u001b[0;32m~/.local/lib/python3.8/site-packages/sdv/single_table/base.py\u001b[0m in \u001b[0;36m_sample_with_progress_bar\u001b[0;34m(self, num_rows, max_tries_per_batch, batch_size, output_file_path, show_progress_bar)\u001b[0m\n\u001b[1;32m    731\u001b[0m                 \u001b[0mprogress_bar\u001b[0m\u001b[0;34m.\u001b[0m\u001b[0mset_description\u001b[0m\u001b[0;34m(\u001b[0m\u001b[0;34m'Sampling rows'\u001b[0m\u001b[0;34m)\u001b[0m\u001b[0;34m\u001b[0m\u001b[0;34m\u001b[0m\u001b[0m\n\u001b[0;32m--> 732\u001b[0;31m                 sampled = self._sample_in_batches(\n\u001b[0m\u001b[1;32m    733\u001b[0m                     \u001b[0mnum_rows\u001b[0m\u001b[0;34m=\u001b[0m\u001b[0mnum_rows\u001b[0m\u001b[0;34m,\u001b[0m\u001b[0;34m\u001b[0m\u001b[0;34m\u001b[0m\u001b[0m\n",
      "\u001b[0;32m~/.local/lib/python3.8/site-packages/sdv/single_table/base.py\u001b[0m in \u001b[0;36m_sample_in_batches\u001b[0;34m(self, num_rows, batch_size, max_tries_per_batch, conditions, transformed_conditions, float_rtol, progress_bar, output_file_path)\u001b[0m\n\u001b[1;32m    662\u001b[0m         \u001b[0;32mfor\u001b[0m \u001b[0mstep\u001b[0m \u001b[0;32min\u001b[0m \u001b[0mrange\u001b[0m\u001b[0;34m(\u001b[0m\u001b[0mmath\u001b[0m\u001b[0;34m.\u001b[0m\u001b[0mceil\u001b[0m\u001b[0;34m(\u001b[0m\u001b[0mnum_rows\u001b[0m \u001b[0;34m/\u001b[0m \u001b[0mbatch_size\u001b[0m\u001b[0;34m)\u001b[0m\u001b[0;34m)\u001b[0m\u001b[0;34m:\u001b[0m\u001b[0;34m\u001b[0m\u001b[0;34m\u001b[0m\u001b[0m\n\u001b[0;32m--> 663\u001b[0;31m             sampled_rows = self._sample_batch(\n\u001b[0m\u001b[1;32m    664\u001b[0m                 \u001b[0mbatch_size\u001b[0m\u001b[0;34m=\u001b[0m\u001b[0mbatch_size\u001b[0m\u001b[0;34m,\u001b[0m\u001b[0;34m\u001b[0m\u001b[0;34m\u001b[0m\u001b[0m\n",
      "\u001b[0;32m~/.local/lib/python3.8/site-packages/sdv/single_table/base.py\u001b[0m in \u001b[0;36m_sample_batch\u001b[0;34m(self, batch_size, max_tries, conditions, transformed_conditions, float_rtol, progress_bar, output_file_path, keep_extra_columns)\u001b[0m\n\u001b[1;32m    594\u001b[0m             \u001b[0mprev_num_valid\u001b[0m \u001b[0;34m=\u001b[0m \u001b[0mnum_valid\u001b[0m\u001b[0;34m\u001b[0m\u001b[0;34m\u001b[0m\u001b[0m\n\u001b[0;32m--> 595\u001b[0;31m             sampled, num_valid = self._sample_rows(\n\u001b[0m\u001b[1;32m    596\u001b[0m                 \u001b[0mnum_rows_to_sample\u001b[0m\u001b[0;34m,\u001b[0m\u001b[0;34m\u001b[0m\u001b[0;34m\u001b[0m\u001b[0m\n",
      "\u001b[0;32m~/.local/lib/python3.8/site-packages/sdv/single_table/base.py\u001b[0m in \u001b[0;36m_sample_rows\u001b[0;34m(self, num_rows, conditions, transformed_conditions, float_rtol, previous_rows, keep_extra_columns)\u001b[0m\n\u001b[1;32m    497\u001b[0m         \"\"\"\n\u001b[0;32m--> 498\u001b[0;31m         \u001b[0;32mif\u001b[0m \u001b[0mself\u001b[0m\u001b[0;34m.\u001b[0m\u001b[0m_model\u001b[0m \u001b[0;32mand\u001b[0m \u001b[0;32mnot\u001b[0m \u001b[0mself\u001b[0m\u001b[0;34m.\u001b[0m\u001b[0m_random_state_set\u001b[0m\u001b[0;34m:\u001b[0m\u001b[0;34m\u001b[0m\u001b[0;34m\u001b[0m\u001b[0m\n\u001b[0m\u001b[1;32m    499\u001b[0m             \u001b[0mself\u001b[0m\u001b[0;34m.\u001b[0m\u001b[0m_set_random_state\u001b[0m\u001b[0;34m(\u001b[0m\u001b[0mFIXED_RNG_SEED\u001b[0m\u001b[0;34m)\u001b[0m\u001b[0;34m\u001b[0m\u001b[0;34m\u001b[0m\u001b[0m\n",
      "\u001b[0;31mAttributeError\u001b[0m: 'CopulaGANSynthesizer' object has no attribute '_model'",
      "\nDuring handling of the above exception, another exception occurred:\n",
      "\u001b[0;31mAttributeError\u001b[0m                            Traceback (most recent call last)",
      "\u001b[0;32m/tmp/ipykernel_132586/3255857613.py\u001b[0m in \u001b[0;36m<module>\u001b[0;34m\u001b[0m\n\u001b[1;32m      1\u001b[0m \u001b[0;31m# Step 3: Generate synthetic data\u001b[0m\u001b[0;34m\u001b[0m\u001b[0;34m\u001b[0m\u001b[0;34m\u001b[0m\u001b[0m\n\u001b[0;32m----> 2\u001b[0;31m \u001b[0msynthetic_data_GAN\u001b[0m \u001b[0;34m=\u001b[0m \u001b[0msynthesizer_GAN\u001b[0m\u001b[0;34m.\u001b[0m\u001b[0msample\u001b[0m\u001b[0;34m(\u001b[0m\u001b[0mnum_rows\u001b[0m\u001b[0;34m=\u001b[0m\u001b[0;36m15000\u001b[0m\u001b[0;34m)\u001b[0m\u001b[0;34m\u001b[0m\u001b[0;34m\u001b[0m\u001b[0m\n\u001b[0m\u001b[1;32m      3\u001b[0m \u001b[0mprint\u001b[0m\u001b[0;34m(\u001b[0m\u001b[0mlen\u001b[0m\u001b[0;34m(\u001b[0m\u001b[0msynthetic_data_GAN\u001b[0m\u001b[0;34m)\u001b[0m\u001b[0;34m)\u001b[0m\u001b[0;34m\u001b[0m\u001b[0;34m\u001b[0m\u001b[0m\n",
      "\u001b[0;32m~/.local/lib/python3.8/site-packages/sdv/single_table/base.py\u001b[0m in \u001b[0;36msample\u001b[0;34m(self, num_rows, max_tries_per_batch, batch_size, output_file_path)\u001b[0m\n\u001b[1;32m    769\u001b[0m         \u001b[0mshow_progress_bar\u001b[0m \u001b[0;34m=\u001b[0m \u001b[0mhas_constraints\u001b[0m \u001b[0;32mor\u001b[0m \u001b[0mhas_batches\u001b[0m\u001b[0;34m\u001b[0m\u001b[0;34m\u001b[0m\u001b[0m\n\u001b[1;32m    770\u001b[0m \u001b[0;34m\u001b[0m\u001b[0m\n\u001b[0;32m--> 771\u001b[0;31m         return self._sample_with_progress_bar(\n\u001b[0m\u001b[1;32m    772\u001b[0m             \u001b[0mnum_rows\u001b[0m\u001b[0;34m,\u001b[0m\u001b[0;34m\u001b[0m\u001b[0;34m\u001b[0m\u001b[0m\n\u001b[1;32m    773\u001b[0m             \u001b[0mmax_tries_per_batch\u001b[0m\u001b[0;34m,\u001b[0m\u001b[0;34m\u001b[0m\u001b[0;34m\u001b[0m\u001b[0m\n",
      "\u001b[0;32m~/.local/lib/python3.8/site-packages/sdv/single_table/base.py\u001b[0m in \u001b[0;36m_sample_with_progress_bar\u001b[0;34m(self, num_rows, max_tries_per_batch, batch_size, output_file_path, show_progress_bar)\u001b[0m\n\u001b[1;32m    739\u001b[0m \u001b[0;34m\u001b[0m\u001b[0m\n\u001b[1;32m    740\u001b[0m         \u001b[0;32mexcept\u001b[0m \u001b[0;34m(\u001b[0m\u001b[0mException\u001b[0m\u001b[0;34m,\u001b[0m \u001b[0mKeyboardInterrupt\u001b[0m\u001b[0;34m)\u001b[0m \u001b[0;32mas\u001b[0m \u001b[0merror\u001b[0m\u001b[0;34m:\u001b[0m\u001b[0;34m\u001b[0m\u001b[0;34m\u001b[0m\u001b[0m\n\u001b[0;32m--> 741\u001b[0;31m             \u001b[0mhandle_sampling_error\u001b[0m\u001b[0;34m(\u001b[0m\u001b[0moutput_file_path\u001b[0m \u001b[0;34m==\u001b[0m \u001b[0mTMP_FILE_NAME\u001b[0m\u001b[0;34m,\u001b[0m \u001b[0moutput_file_path\u001b[0m\u001b[0;34m,\u001b[0m \u001b[0merror\u001b[0m\u001b[0;34m)\u001b[0m\u001b[0;34m\u001b[0m\u001b[0;34m\u001b[0m\u001b[0m\n\u001b[0m\u001b[1;32m    742\u001b[0m \u001b[0;34m\u001b[0m\u001b[0m\n\u001b[1;32m    743\u001b[0m         \u001b[0;32melse\u001b[0m\u001b[0;34m:\u001b[0m\u001b[0;34m\u001b[0m\u001b[0;34m\u001b[0m\u001b[0m\n",
      "\u001b[0;32m~/.local/lib/python3.8/site-packages/sdv/single_table/utils.py\u001b[0m in \u001b[0;36mhandle_sampling_error\u001b[0;34m(is_tmp_file, output_file_path, sampling_error)\u001b[0m\n\u001b[1;32m     95\u001b[0m \u001b[0;34m\u001b[0m\u001b[0m\n\u001b[1;32m     96\u001b[0m     \u001b[0;32mif\u001b[0m \u001b[0merror_msg\u001b[0m\u001b[0;34m:\u001b[0m\u001b[0;34m\u001b[0m\u001b[0;34m\u001b[0m\u001b[0m\n\u001b[0;32m---> 97\u001b[0;31m         \u001b[0;32mraise\u001b[0m \u001b[0mtype\u001b[0m\u001b[0;34m(\u001b[0m\u001b[0msampling_error\u001b[0m\u001b[0;34m)\u001b[0m\u001b[0;34m(\u001b[0m\u001b[0merror_msg\u001b[0m \u001b[0;34m+\u001b[0m \u001b[0;34m'\\n'\u001b[0m \u001b[0;34m+\u001b[0m \u001b[0mstr\u001b[0m\u001b[0;34m(\u001b[0m\u001b[0msampling_error\u001b[0m\u001b[0;34m)\u001b[0m\u001b[0;34m)\u001b[0m\u001b[0;34m\u001b[0m\u001b[0;34m\u001b[0m\u001b[0m\n\u001b[0m\u001b[1;32m     98\u001b[0m \u001b[0;34m\u001b[0m\u001b[0m\n\u001b[1;32m     99\u001b[0m     \u001b[0;32mraise\u001b[0m \u001b[0msampling_error\u001b[0m\u001b[0;34m\u001b[0m\u001b[0;34m\u001b[0m\u001b[0m\n",
      "\u001b[0;31mAttributeError\u001b[0m: Error: Sampling terminated. Partial results are stored in a temporary file: .sample.csv.temp. This file will be overridden the next time you sample. Please rename the file if you wish to save these results.\n'CopulaGANSynthesizer' object has no attribute '_model'"
     ]
    }
   ],
   "source": [
    "# Step 3.B: Generate synthetic data\n",
    "synthetic_data_GAN = synthesizer_GAN.sample(num_rows=15000)\n",
    "print(len(synthetic_data_GAN))"
   ]
  },
  {
   "cell_type": "code",
   "execution_count": 13,
   "metadata": {},
   "outputs": [
    {
     "data": {
      "image/png": "[encoded data removed]",
      "text/plain": [
       "<Figure size 432x432 with 2 Axes>"
      ]
     },
     "metadata": {
      "needs_background": "light"
     },
     "output_type": "display_data"
    },
    {
     "data": {
      "image/png": "[encoded data removed]",
      "text/plain": [
       "<Figure size 432x432 with 2 Axes>"
      ]
     },
     "metadata": {
      "needs_background": "light"
     },
     "output_type": "display_data"
    },
    {
     "ename": "NameError",
     "evalue": "name 'synthetic_data_GAN' is not defined",
     "output_type": "error",
     "traceback": [
      "\u001b[0;31m---------------------------------------------------------------------------\u001b[0m",
      "\u001b[0;31mNameError\u001b[0m                                 Traceback (most recent call last)",
      "\u001b[0;32m/tmp/ipykernel_20408/1515122192.py\u001b[0m in \u001b[0;36m<module>\u001b[0;34m\u001b[0m\n\u001b[1;32m     45\u001b[0m \u001b[0;34m\u001b[0m\u001b[0m\n\u001b[1;32m     46\u001b[0m \u001b[0mplt\u001b[0m\u001b[0;34m.\u001b[0m\u001b[0mfigure\u001b[0m\u001b[0;34m(\u001b[0m\u001b[0mfigsize\u001b[0m\u001b[0;34m=\u001b[0m\u001b[0;34m(\u001b[0m\u001b[0;36m6\u001b[0m\u001b[0;34m,\u001b[0m \u001b[0;36m6\u001b[0m\u001b[0;34m)\u001b[0m\u001b[0;34m)\u001b[0m\u001b[0;34m\u001b[0m\u001b[0;34m\u001b[0m\u001b[0m\n\u001b[0;32m---> 47\u001b[0;31m plt.scatter(synthetic_data_GAN[\"time\"],synthetic_data_GAN['power_smoothed'] / 1e3,\n\u001b[0m\u001b[1;32m     48\u001b[0m             \u001b[0mc\u001b[0m\u001b[0;34m=\u001b[0m\u001b[0msynthetic_data_GAN\u001b[0m\u001b[0;34m[\u001b[0m\u001b[0mfeature_under_study\u001b[0m\u001b[0;34m]\u001b[0m\u001b[0;34m,\u001b[0m\u001b[0;34m\u001b[0m\u001b[0;34m\u001b[0m\u001b[0m\n\u001b[1;32m     49\u001b[0m             s=4, label=\"FAKE_GAN_ALL\")\n",
      "\u001b[0;31mNameError\u001b[0m: name 'synthetic_data_GAN' is not defined"
     ]
    },
    {
     "data": {
      "text/plain": [
       "<Figure size 432x432 with 0 Axes>"
      ]
     },
     "metadata": {},
     "output_type": "display_data"
    }
   ],
   "source": [
    "############################################################ Real Data\n",
    "feature_under_study = \"power_smoothed\"\n",
    "\n",
    "plt.figure(figsize=(6, 6))\n",
    "plt.scatter(real_data[\"time\"], real_data['power_smoothed'] / 1e3,\n",
    "            c=real_data[feature_under_study],\n",
    "            s=4, label=\"REAL_ALL\")\n",
    "plt.legend(loc=\"upper left\")\n",
    "plt.xlabel(\"Time\")\n",
    "plt.ylabel(\"Power\")\n",
    "#plt.xlim(4, 25)\n",
    "#plt.ylim(-2, 45)\n",
    "plt.grid()\n",
    "\n",
    "cbar = plt.colorbar()\n",
    "cbar.set_label(feature_under_study, rotation=90)\n",
    "plt.clim(-15, 50)\n",
    "\n",
    "plt.show()\n",
    "plt.close()\n",
    "\n",
    "############################################################ Gaussian\n",
    "feature_under_study = \"power_smoothed\"\n",
    "\n",
    "plt.figure(figsize=(6, 6))\n",
    "plt.scatter(synthetic_data_Gaussian[\"time\"],synthetic_data_Gaussian['power_smoothed'] / 1e3,\n",
    "            c=synthetic_data_Gaussian[feature_under_study],\n",
    "            s=4, label=\"FAKE_Gaussian_ALL\")\n",
    "plt.legend(loc=\"upper left\")\n",
    "plt.xlabel(\"Time\")\n",
    "plt.ylabel(\"Power\")\n",
    "#plt.xlim(4, 25)\n",
    "#plt.ylim(-2, 45)\n",
    "plt.grid()\n",
    "\n",
    "cbar = plt.colorbar()\n",
    "cbar.set_label(feature_under_study, rotation=90)\n",
    "plt.clim(-15, 50)\n",
    "\n",
    "plt.show()\n",
    "plt.close()\n",
    "\n",
    "############################################################ GAN\n",
    "feature_under_study = \"power_smoothed\"\n",
    "\n",
    "plt.figure(figsize=(6, 6))\n",
    "plt.scatter(synthetic_data_GAN[\"time\"],synthetic_data_GAN['power_smoothed'] / 1e3,\n",
    "            c=synthetic_data_GAN[feature_under_study],\n",
    "            s=4, label=\"FAKE_GAN_ALL\")\n",
    "plt.legend(loc=\"upper left\")\n",
    "plt.xlabel(\"Time\")\n",
    "plt.ylabel(\"Power\")\n",
    "#plt.xlim(4, 25)\n",
    "#plt.ylim(-2, 45)\n",
    "plt.grid()\n",
    "\n",
    "cbar = plt.colorbar()\n",
    "cbar.set_label(feature_under_study, rotation=90)\n",
    "plt.clim(-15, 50)\n",
    "\n",
    "plt.show()\n",
    "plt.close()"
   ]
  },
  {
   "cell_type": "markdown",
   "metadata": {},
   "source": [
    "# Data Augmentation only on 1 flight"
   ]
  },
  {
   "cell_type": "code",
   "execution_count": 10,
   "metadata": {},
   "outputs": [
    {
     "name": "stdout",
     "output_type": "stream",
     "text": [
      "Real_Data Length 815\n",
      "Auto detected data:\n",
      " {\n",
      "    \"columns\": {\n",
      "        \"flight\": {\n",
      "            \"sdtype\": \"numerical\"\n",
      "        },\n",
      "        \"time\": {\n",
      "            \"sdtype\": \"numerical\"\n",
      "        },\n",
      "        \"wind_speed\": {\n",
      "            \"sdtype\": \"numerical\"\n",
      "        },\n",
      "        \"wind_angle\": {\n",
      "            \"sdtype\": \"numerical\"\n",
      "        },\n",
      "        \"position_z\": {\n",
      "            \"sdtype\": \"numerical\"\n",
      "        },\n",
      "        \"orientation_x\": {\n",
      "            \"sdtype\": \"numerical\"\n",
      "        },\n",
      "        \"orientation_y\": {\n",
      "            \"sdtype\": \"numerical\"\n",
      "        },\n",
      "        \"orientation_z\": {\n",
      "            \"sdtype\": \"numerical\"\n",
      "        },\n",
      "        \"orientation_w\": {\n",
      "            \"sdtype\": \"numerical\"\n",
      "        },\n",
      "        \"velocity_x\": {\n",
      "            \"sdtype\": \"numerical\"\n",
      "        },\n",
      "        \"velocity_y\": {\n",
      "            \"sdtype\": \"numerical\"\n",
      "        },\n",
      "        \"velocity_z\": {\n",
      "            \"sdtype\": \"numerical\"\n",
      "        },\n",
      "        \"angular_x\": {\n",
      "            \"sdtype\": \"numerical\"\n",
      "        },\n",
      "        \"angular_y\": {\n",
      "            \"sdtype\": \"numerical\"\n",
      "        },\n",
      "        \"angular_z\": {\n",
      "            \"sdtype\": \"numerical\"\n",
      "        },\n",
      "        \"linear_acceleration_x\": {\n",
      "            \"sdtype\": \"numerical\"\n",
      "        },\n",
      "        \"linear_acceleration_y\": {\n",
      "            \"sdtype\": \"numerical\"\n",
      "        },\n",
      "        \"linear_acceleration_z\": {\n",
      "            \"sdtype\": \"numerical\"\n",
      "        },\n",
      "        \"power_smoothed\": {\n",
      "            \"sdtype\": \"numerical\"\n",
      "        }\n",
      "    },\n",
      "    \"METADATA_SPEC_VERSION\": \"SINGLE_TABLE_V1\"\n",
      "}\n"
     ]
    }
   ],
   "source": [
    "real_data_flight1 = data_flight1[\"train\"]\n",
    "print(\"Real_Data Length\", len(real_data_flight1))\n",
    "\n",
    "metadata_flight1 = SingleTableMetadata()\n",
    "metadata_flight1.detect_from_dataframe(data=real_data_flight1)\n",
    "print(\"Auto detected data:\\n\", metadata_flight1)"
   ]
  },
  {
   "cell_type": "code",
   "execution_count": 15,
   "metadata": {},
   "outputs": [],
   "source": [
    "# Delete values of Power_Smoothed < 300 (according to the graph obtained with all the data flight values)\n",
    "\n",
    "real_data_flight1_shorted_train = real_data_flight1[real_data_flight1['power_smoothed'] > 300]"
   ]
  },
  {
   "cell_type": "code",
   "execution_count": 64,
   "metadata": {},
   "outputs": [
    {
     "name": "stderr",
     "output_type": "stream",
     "text": [
      "/home/user/.local/lib/python3.8/site-packages/rdt/transformers/numerical.py:112: UserWarning:\n",
      "\n",
      "No rounding scheme detected for column 'time'. Data will not be rounded.\n",
      "\n",
      "/home/user/.local/lib/python3.8/site-packages/rdt/transformers/numerical.py:112: UserWarning:\n",
      "\n",
      "No rounding scheme detected for column 'wind_speed'. Data will not be rounded.\n",
      "\n",
      "/home/user/.local/lib/python3.8/site-packages/rdt/transformers/numerical.py:112: UserWarning:\n",
      "\n",
      "No rounding scheme detected for column 'orientation_x'. Data will not be rounded.\n",
      "\n",
      "/home/user/.local/lib/python3.8/site-packages/rdt/transformers/numerical.py:112: UserWarning:\n",
      "\n",
      "No rounding scheme detected for column 'orientation_y'. Data will not be rounded.\n",
      "\n",
      "/home/user/.local/lib/python3.8/site-packages/rdt/transformers/numerical.py:112: UserWarning:\n",
      "\n",
      "No rounding scheme detected for column 'orientation_z'. Data will not be rounded.\n",
      "\n",
      "/home/user/.local/lib/python3.8/site-packages/rdt/transformers/numerical.py:112: UserWarning:\n",
      "\n",
      "No rounding scheme detected for column 'orientation_w'. Data will not be rounded.\n",
      "\n",
      "/home/user/.local/lib/python3.8/site-packages/rdt/transformers/numerical.py:112: UserWarning:\n",
      "\n",
      "No rounding scheme detected for column 'velocity_x'. Data will not be rounded.\n",
      "\n",
      "/home/user/.local/lib/python3.8/site-packages/rdt/transformers/numerical.py:112: UserWarning:\n",
      "\n",
      "No rounding scheme detected for column 'velocity_y'. Data will not be rounded.\n",
      "\n",
      "/home/user/.local/lib/python3.8/site-packages/rdt/transformers/numerical.py:112: UserWarning:\n",
      "\n",
      "No rounding scheme detected for column 'velocity_z'. Data will not be rounded.\n",
      "\n",
      "/home/user/.local/lib/python3.8/site-packages/rdt/transformers/numerical.py:112: UserWarning:\n",
      "\n",
      "No rounding scheme detected for column 'angular_x'. Data will not be rounded.\n",
      "\n",
      "/home/user/.local/lib/python3.8/site-packages/rdt/transformers/numerical.py:112: UserWarning:\n",
      "\n",
      "No rounding scheme detected for column 'angular_y'. Data will not be rounded.\n",
      "\n",
      "/home/user/.local/lib/python3.8/site-packages/rdt/transformers/numerical.py:112: UserWarning:\n",
      "\n",
      "No rounding scheme detected for column 'angular_z'. Data will not be rounded.\n",
      "\n",
      "/home/user/.local/lib/python3.8/site-packages/rdt/transformers/numerical.py:112: UserWarning:\n",
      "\n",
      "No rounding scheme detected for column 'linear_acceleration_x'. Data will not be rounded.\n",
      "\n",
      "/home/user/.local/lib/python3.8/site-packages/rdt/transformers/numerical.py:112: UserWarning:\n",
      "\n",
      "No rounding scheme detected for column 'linear_acceleration_y'. Data will not be rounded.\n",
      "\n",
      "/home/user/.local/lib/python3.8/site-packages/rdt/transformers/numerical.py:112: UserWarning:\n",
      "\n",
      "No rounding scheme detected for column 'linear_acceleration_z'. Data will not be rounded.\n",
      "\n",
      "/home/user/.local/lib/python3.8/site-packages/rdt/transformers/numerical.py:112: UserWarning:\n",
      "\n",
      "No rounding scheme detected for column 'power_smoothed'. Data will not be rounded.\n",
      "\n"
     ]
    }
   ],
   "source": [
    "#GaussianCopulaSynthesizer\n",
    "# Step 1: Create the synthesizer\n",
    "synthesizer_Gaussian_flight1 = GaussianCopulaSynthesizer(metadata_flight1)\n",
    "\n",
    "# Step 2: Train the synthesizer\n",
    "synthesizer_Gaussian_flight1.fit(real_data_flight1)\n",
    "synthesizer_Gaussian_flight1.save(filepath='my_GaussianCopulaSynthesizer_flight1.pkl')\n"
   ]
  },
  {
   "cell_type": "code",
   "execution_count": 65,
   "metadata": {},
   "outputs": [
    {
     "name": "stdout",
     "output_type": "stream",
     "text": [
      "815\n"
     ]
    }
   ],
   "source": [
    "# Step 3: Generate synthetic data - Gaussian\n",
    "synthetic_data_Gaussian_flight1 = synthesizer_Gaussian_flight1.sample(num_rows=815)\n",
    "print(len(synthetic_data_Gaussian_flight1))"
   ]
  },
  {
   "cell_type": "code",
   "execution_count": 66,
   "metadata": {},
   "outputs": [
    {
     "name": "stderr",
     "output_type": "stream",
     "text": [
      "/home/user/.local/lib/python3.8/site-packages/rdt/transformers/numerical.py:112: UserWarning:\n",
      "\n",
      "No rounding scheme detected for column 'time'. Data will not be rounded.\n",
      "\n",
      "/home/user/.local/lib/python3.8/site-packages/rdt/transformers/numerical.py:112: UserWarning:\n",
      "\n",
      "No rounding scheme detected for column 'wind_speed'. Data will not be rounded.\n",
      "\n",
      "/home/user/.local/lib/python3.8/site-packages/rdt/transformers/numerical.py:112: UserWarning:\n",
      "\n",
      "No rounding scheme detected for column 'orientation_x'. Data will not be rounded.\n",
      "\n",
      "/home/user/.local/lib/python3.8/site-packages/rdt/transformers/numerical.py:112: UserWarning:\n",
      "\n",
      "No rounding scheme detected for column 'orientation_y'. Data will not be rounded.\n",
      "\n",
      "/home/user/.local/lib/python3.8/site-packages/rdt/transformers/numerical.py:112: UserWarning:\n",
      "\n",
      "No rounding scheme detected for column 'orientation_z'. Data will not be rounded.\n",
      "\n",
      "/home/user/.local/lib/python3.8/site-packages/rdt/transformers/numerical.py:112: UserWarning:\n",
      "\n",
      "No rounding scheme detected for column 'orientation_w'. Data will not be rounded.\n",
      "\n",
      "/home/user/.local/lib/python3.8/site-packages/rdt/transformers/numerical.py:112: UserWarning:\n",
      "\n",
      "No rounding scheme detected for column 'velocity_x'. Data will not be rounded.\n",
      "\n",
      "/home/user/.local/lib/python3.8/site-packages/rdt/transformers/numerical.py:112: UserWarning:\n",
      "\n",
      "No rounding scheme detected for column 'velocity_y'. Data will not be rounded.\n",
      "\n",
      "/home/user/.local/lib/python3.8/site-packages/rdt/transformers/numerical.py:112: UserWarning:\n",
      "\n",
      "No rounding scheme detected for column 'velocity_z'. Data will not be rounded.\n",
      "\n",
      "/home/user/.local/lib/python3.8/site-packages/rdt/transformers/numerical.py:112: UserWarning:\n",
      "\n",
      "No rounding scheme detected for column 'angular_x'. Data will not be rounded.\n",
      "\n",
      "/home/user/.local/lib/python3.8/site-packages/rdt/transformers/numerical.py:112: UserWarning:\n",
      "\n",
      "No rounding scheme detected for column 'angular_y'. Data will not be rounded.\n",
      "\n",
      "/home/user/.local/lib/python3.8/site-packages/rdt/transformers/numerical.py:112: UserWarning:\n",
      "\n",
      "No rounding scheme detected for column 'angular_z'. Data will not be rounded.\n",
      "\n",
      "/home/user/.local/lib/python3.8/site-packages/rdt/transformers/numerical.py:112: UserWarning:\n",
      "\n",
      "No rounding scheme detected for column 'linear_acceleration_x'. Data will not be rounded.\n",
      "\n",
      "/home/user/.local/lib/python3.8/site-packages/rdt/transformers/numerical.py:112: UserWarning:\n",
      "\n",
      "No rounding scheme detected for column 'linear_acceleration_y'. Data will not be rounded.\n",
      "\n",
      "/home/user/.local/lib/python3.8/site-packages/rdt/transformers/numerical.py:112: UserWarning:\n",
      "\n",
      "No rounding scheme detected for column 'linear_acceleration_z'. Data will not be rounded.\n",
      "\n",
      "/home/user/.local/lib/python3.8/site-packages/rdt/transformers/numerical.py:112: UserWarning:\n",
      "\n",
      "No rounding scheme detected for column 'power_smoothed'. Data will not be rounded.\n",
      "\n",
      "/home/user/.local/lib/python3.8/site-packages/rdt/transformers/base.py:132: FutureWarning:\n",
      "\n",
      "Future versions of RDT will not support the 'model_missing_values' parameter. Please switch to using the 'missing_value_generation' parameter to select your strategy.\n",
      "\n",
      "/home/user/.local/lib/python3.8/site-packages/rdt/transformers/base.py:132: FutureWarning:\n",
      "\n",
      "Future versions of RDT will not support the 'model_missing_values' parameter. Please switch to using the 'missing_value_generation' parameter to select your strategy.\n",
      "\n",
      "/home/user/.local/lib/python3.8/site-packages/rdt/transformers/base.py:132: FutureWarning:\n",
      "\n",
      "Future versions of RDT will not support the 'model_missing_values' parameter. Please switch to using the 'missing_value_generation' parameter to select your strategy.\n",
      "\n",
      "/home/user/.local/lib/python3.8/site-packages/rdt/transformers/base.py:132: FutureWarning:\n",
      "\n",
      "Future versions of RDT will not support the 'model_missing_values' parameter. Please switch to using the 'missing_value_generation' parameter to select your strategy.\n",
      "\n",
      "/home/user/.local/lib/python3.8/site-packages/rdt/transformers/base.py:132: FutureWarning:\n",
      "\n",
      "Future versions of RDT will not support the 'model_missing_values' parameter. Please switch to using the 'missing_value_generation' parameter to select your strategy.\n",
      "\n",
      "/home/user/.local/lib/python3.8/site-packages/rdt/transformers/base.py:132: FutureWarning:\n",
      "\n",
      "Future versions of RDT will not support the 'model_missing_values' parameter. Please switch to using the 'missing_value_generation' parameter to select your strategy.\n",
      "\n",
      "/home/user/.local/lib/python3.8/site-packages/rdt/transformers/base.py:132: FutureWarning:\n",
      "\n",
      "Future versions of RDT will not support the 'model_missing_values' parameter. Please switch to using the 'missing_value_generation' parameter to select your strategy.\n",
      "\n",
      "/home/user/.local/lib/python3.8/site-packages/rdt/transformers/base.py:132: FutureWarning:\n",
      "\n",
      "Future versions of RDT will not support the 'model_missing_values' parameter. Please switch to using the 'missing_value_generation' parameter to select your strategy.\n",
      "\n",
      "/home/user/.local/lib/python3.8/site-packages/rdt/transformers/base.py:132: FutureWarning:\n",
      "\n",
      "Future versions of RDT will not support the 'model_missing_values' parameter. Please switch to using the 'missing_value_generation' parameter to select your strategy.\n",
      "\n",
      "/home/user/.local/lib/python3.8/site-packages/rdt/transformers/base.py:132: FutureWarning:\n",
      "\n",
      "Future versions of RDT will not support the 'model_missing_values' parameter. Please switch to using the 'missing_value_generation' parameter to select your strategy.\n",
      "\n",
      "/home/user/.local/lib/python3.8/site-packages/rdt/transformers/base.py:132: FutureWarning:\n",
      "\n",
      "Future versions of RDT will not support the 'model_missing_values' parameter. Please switch to using the 'missing_value_generation' parameter to select your strategy.\n",
      "\n",
      "/home/user/.local/lib/python3.8/site-packages/rdt/transformers/base.py:132: FutureWarning:\n",
      "\n",
      "Future versions of RDT will not support the 'model_missing_values' parameter. Please switch to using the 'missing_value_generation' parameter to select your strategy.\n",
      "\n",
      "/home/user/.local/lib/python3.8/site-packages/rdt/transformers/base.py:132: FutureWarning:\n",
      "\n",
      "Future versions of RDT will not support the 'model_missing_values' parameter. Please switch to using the 'missing_value_generation' parameter to select your strategy.\n",
      "\n",
      "/home/user/.local/lib/python3.8/site-packages/rdt/transformers/base.py:132: FutureWarning:\n",
      "\n",
      "Future versions of RDT will not support the 'model_missing_values' parameter. Please switch to using the 'missing_value_generation' parameter to select your strategy.\n",
      "\n",
      "/home/user/.local/lib/python3.8/site-packages/rdt/transformers/base.py:132: FutureWarning:\n",
      "\n",
      "Future versions of RDT will not support the 'model_missing_values' parameter. Please switch to using the 'missing_value_generation' parameter to select your strategy.\n",
      "\n",
      "/home/user/.local/lib/python3.8/site-packages/rdt/transformers/base.py:132: FutureWarning:\n",
      "\n",
      "Future versions of RDT will not support the 'model_missing_values' parameter. Please switch to using the 'missing_value_generation' parameter to select your strategy.\n",
      "\n",
      "/home/user/.local/lib/python3.8/site-packages/rdt/transformers/base.py:132: FutureWarning:\n",
      "\n",
      "Future versions of RDT will not support the 'model_missing_values' parameter. Please switch to using the 'missing_value_generation' parameter to select your strategy.\n",
      "\n",
      "/home/user/.local/lib/python3.8/site-packages/rdt/transformers/base.py:132: FutureWarning:\n",
      "\n",
      "Future versions of RDT will not support the 'model_missing_values' parameter. Please switch to using the 'missing_value_generation' parameter to select your strategy.\n",
      "\n",
      "/home/user/.local/lib/python3.8/site-packages/rdt/transformers/base.py:132: FutureWarning:\n",
      "\n",
      "Future versions of RDT will not support the 'model_missing_values' parameter. Please switch to using the 'missing_value_generation' parameter to select your strategy.\n",
      "\n"
     ]
    }
   ],
   "source": [
    "#CopulaGANSynthesizer\n",
    "# Step 1: Create the synthesizer\n",
    "synthesizer_GAN_flight1 = CopulaGANSynthesizer(metadata_flight1)\n",
    "\n",
    "# Step 2: Train the synthesizer\n",
    "synthesizer_GAN_flight1.fit(real_data_flight1)\n",
    "synthesizer_GAN_flight1.save(filepath='../Models/my_CopulaGANSynthesizer_flight1.pkl')\n"
   ]
  },
  {
   "cell_type": "code",
   "execution_count": 67,
   "metadata": {},
   "outputs": [
    {
     "name": "stdout",
     "output_type": "stream",
     "text": [
      "15000\n"
     ]
    }
   ],
   "source": [
    "# Step 3: Generate synthetic data - GAN\n",
    "synthetic_data_GAN_flight1 = synthesizer_GAN_flight1.sample(num_rows=15000)\n",
    "print(len(synthetic_data_GAN_flight1))\n"
   ]
  },
  {
   "cell_type": "code",
   "execution_count": 68,
   "metadata": {},
   "outputs": [
    {
     "name": "stdout",
     "output_type": "stream",
     "text": [
      "815\n"
     ]
    },
    {
     "data": {
      "image/png": "[encoded data removed]",
      "text/plain": [
       "<Figure size 432x432 with 2 Axes>"
      ]
     },
     "metadata": {
      "needs_background": "light"
     },
     "output_type": "display_data"
    }
   ],
   "source": [
    "# Step 4: Display Real data\n",
    "print(len(real_data_flight1))\n",
    "feature_under_study = \"power_smoothed\"\n",
    "\n",
    "plt.figure(figsize=(6, 6))\n",
    "plt.scatter(real_data_flight1[\"time\"],real_data_flight1['power_smoothed'] / 1e3,\n",
    "            c=real_data_flight1[feature_under_study],\n",
    "            s=4, label=\"REAL_Flight_1\")\n",
    "plt.legend(loc=\"upper left\")\n",
    "plt.xlabel(\"Time\")\n",
    "plt.ylabel(\"Power\")\n",
    "#plt.xlim(4, 25)\n",
    "#plt.ylim(-2, 45)\n",
    "plt.grid()\n",
    "\n",
    "cbar = plt.colorbar()\n",
    "cbar.set_label(feature_under_study, rotation=90)\n",
    "plt.clim(-15, 50)\n",
    "\n",
    "plt.show()\n",
    "plt.close()\n"
   ]
  },
  {
   "cell_type": "code",
   "execution_count": 69,
   "metadata": {},
   "outputs": [
    {
     "data": {
      "image/png": "[encoded data removed]",
      "text/plain": [
       "<Figure size 432x432 with 2 Axes>"
      ]
     },
     "metadata": {
      "needs_background": "light"
     },
     "output_type": "display_data"
    }
   ],
   "source": [
    "# Step 4: Display Synthetic data - Gaussian\n",
    "feature_under_study = \"power_smoothed\"\n",
    "\n",
    "plt.figure(figsize=(6, 6))\n",
    "plt.scatter(synthetic_data_Gaussian_flight1[\"time\"],synthetic_data_Gaussian_flight1['power_smoothed'] / 1e3,\n",
    "            c=synthetic_data_Gaussian_flight1[feature_under_study],\n",
    "            s=4, label=\"FAKE_Gaussian_Flight_1\")\n",
    "plt.legend(loc=\"upper left\")\n",
    "plt.xlabel(\"Time\")\n",
    "plt.ylabel(\"Power\")\n",
    "#plt.xlim(4, 25)\n",
    "#plt.ylim(-2, 45)\n",
    "plt.grid()\n",
    "\n",
    "cbar = plt.colorbar()\n",
    "cbar.set_label(feature_under_study, rotation=90)\n",
    "plt.clim(-15, 50)\n",
    "\n",
    "plt.show()\n",
    "plt.close()"
   ]
  },
  {
   "cell_type": "code",
   "execution_count": 70,
   "metadata": {},
   "outputs": [
    {
     "data": {
      "image/png": "[encoded data removed]",
      "text/plain": [
       "<Figure size 432x432 with 2 Axes>"
      ]
     },
     "metadata": {
      "needs_background": "light"
     },
     "output_type": "display_data"
    }
   ],
   "source": [
    "# Step 4: Display Synthetic data - GAN\n",
    "feature_under_study = \"power_smoothed\"\n",
    "\n",
    "plt.figure(figsize=(6, 6))\n",
    "plt.scatter(synthetic_data_GAN_flight1[\"time\"],synthetic_data_GAN_flight1['power_smoothed'] / 1e3,\n",
    "            c=synthetic_data_GAN_flight1[feature_under_study],\n",
    "            s=4, label=\"FAKE_GAN_Flight_1\")\n",
    "plt.legend(loc=\"upper left\")\n",
    "plt.xlabel(\"Time\")\n",
    "plt.ylabel(\"Power\")\n",
    "#plt.xlim(4, 25)\n",
    "#plt.ylim(-2, 45)\n",
    "plt.grid()\n",
    "\n",
    "cbar = plt.colorbar()\n",
    "cbar.set_label(feature_under_study, rotation=90)\n",
    "plt.clim(-15, 50)\n",
    "\n",
    "plt.show()\n",
    "plt.close()"
   ]
  },
  {
   "cell_type": "markdown",
   "metadata": {},
   "source": [
    "# Evaluating real / synthetic data"
   ]
  },
  {
   "cell_type": "code",
   "execution_count": 71,
   "metadata": {},
   "outputs": [
    {
     "ename": "AttributeError",
     "evalue": "'GaussianCopulaSynthesizer' object has no attribute 'columns'",
     "output_type": "error",
     "traceback": [
      "\u001b[0;31m---------------------------------------------------------------------------\u001b[0m",
      "\u001b[0;31mAttributeError\u001b[0m                            Traceback (most recent call last)",
      "\u001b[0;32m/tmp/ipykernel_20408/5088203.py\u001b[0m in \u001b[0;36m<module>\u001b[0;34m\u001b[0m\n\u001b[1;32m      1\u001b[0m \u001b[0;32mfrom\u001b[0m \u001b[0msdv\u001b[0m\u001b[0;34m.\u001b[0m\u001b[0mevaluation\u001b[0m\u001b[0;34m.\u001b[0m\u001b[0msingle_table\u001b[0m \u001b[0;32mimport\u001b[0m \u001b[0mevaluate_quality\u001b[0m\u001b[0;34m\u001b[0m\u001b[0;34m\u001b[0m\u001b[0m\n\u001b[1;32m      2\u001b[0m \u001b[0;34m\u001b[0m\u001b[0m\n\u001b[0;32m----> 3\u001b[0;31m quality_report = evaluate_quality(\n\u001b[0m\u001b[1;32m      4\u001b[0m     \u001b[0mreal_data_flight1\u001b[0m\u001b[0;34m,\u001b[0m\u001b[0;34m\u001b[0m\u001b[0;34m\u001b[0m\u001b[0m\n\u001b[1;32m      5\u001b[0m     \u001b[0msynthesizer_Gaussian_flight1\u001b[0m\u001b[0;34m,\u001b[0m\u001b[0;34m\u001b[0m\u001b[0;34m\u001b[0m\u001b[0m\n",
      "\u001b[0;32m~/.local/lib/python3.8/site-packages/sdv/evaluation/single_table.py\u001b[0m in \u001b[0;36mevaluate_quality\u001b[0;34m(real_data, synthetic_data, metadata, verbose)\u001b[0m\n\u001b[1;32m     25\u001b[0m     \"\"\"\n\u001b[1;32m     26\u001b[0m     \u001b[0mquality_report\u001b[0m \u001b[0;34m=\u001b[0m \u001b[0mQualityReport\u001b[0m\u001b[0;34m(\u001b[0m\u001b[0;34m)\u001b[0m\u001b[0;34m\u001b[0m\u001b[0;34m\u001b[0m\u001b[0m\n\u001b[0;32m---> 27\u001b[0;31m     \u001b[0mquality_report\u001b[0m\u001b[0;34m.\u001b[0m\u001b[0mgenerate\u001b[0m\u001b[0;34m(\u001b[0m\u001b[0mreal_data\u001b[0m\u001b[0;34m,\u001b[0m \u001b[0msynthetic_data\u001b[0m\u001b[0;34m,\u001b[0m \u001b[0mmetadata\u001b[0m\u001b[0;34m.\u001b[0m\u001b[0mto_dict\u001b[0m\u001b[0;34m(\u001b[0m\u001b[0;34m)\u001b[0m\u001b[0;34m,\u001b[0m \u001b[0mverbose\u001b[0m\u001b[0;34m)\u001b[0m\u001b[0;34m\u001b[0m\u001b[0;34m\u001b[0m\u001b[0m\n\u001b[0m\u001b[1;32m     28\u001b[0m     \u001b[0;32mreturn\u001b[0m \u001b[0mquality_report\u001b[0m\u001b[0;34m\u001b[0m\u001b[0;34m\u001b[0m\u001b[0m\n\u001b[1;32m     29\u001b[0m \u001b[0;34m\u001b[0m\u001b[0m\n",
      "\u001b[0;32m~/.local/lib/python3.8/site-packages/sdmetrics/reports/single_table/quality_report.py\u001b[0m in \u001b[0;36mgenerate\u001b[0;34m(self, real_data, synthetic_data, metadata, verbose)\u001b[0m\n\u001b[1;32m    100\u001b[0m                 \u001b[0mWhether\u001b[0m \u001b[0;32mor\u001b[0m \u001b[0;32mnot\u001b[0m \u001b[0mto\u001b[0m \u001b[0mprint\u001b[0m \u001b[0mreport\u001b[0m \u001b[0msummary\u001b[0m \u001b[0;32mand\u001b[0m \u001b[0mprogress\u001b[0m\u001b[0;34m.\u001b[0m\u001b[0;34m\u001b[0m\u001b[0;34m\u001b[0m\u001b[0m\n\u001b[1;32m    101\u001b[0m         \"\"\"\n\u001b[0;32m--> 102\u001b[0;31m         \u001b[0mself\u001b[0m\u001b[0;34m.\u001b[0m\u001b[0mvalidate\u001b[0m\u001b[0;34m(\u001b[0m\u001b[0mreal_data\u001b[0m\u001b[0;34m,\u001b[0m \u001b[0msynthetic_data\u001b[0m\u001b[0;34m,\u001b[0m \u001b[0mmetadata\u001b[0m\u001b[0;34m)\u001b[0m\u001b[0;34m\u001b[0m\u001b[0;34m\u001b[0m\u001b[0m\n\u001b[0m\u001b[1;32m    103\u001b[0m \u001b[0;34m\u001b[0m\u001b[0m\n\u001b[1;32m    104\u001b[0m         \u001b[0mscores\u001b[0m \u001b[0;34m=\u001b[0m \u001b[0;34m[\u001b[0m\u001b[0;34m]\u001b[0m\u001b[0;34m\u001b[0m\u001b[0;34m\u001b[0m\u001b[0m\n",
      "\u001b[0;32m~/.local/lib/python3.8/site-packages/sdmetrics/reports/single_table/quality_report.py\u001b[0m in \u001b[0;36mvalidate\u001b[0;34m(self, real_data, synthetic_data, metadata)\u001b[0m\n\u001b[1;32m     71\u001b[0m             \u001b[0mmetadata\u001b[0m \u001b[0;34m=\u001b[0m \u001b[0mmetadata\u001b[0m\u001b[0;34m.\u001b[0m\u001b[0mto_dict\u001b[0m\u001b[0;34m(\u001b[0m\u001b[0;34m)\u001b[0m\u001b[0;34m\u001b[0m\u001b[0;34m\u001b[0m\u001b[0m\n\u001b[1;32m     72\u001b[0m \u001b[0;34m\u001b[0m\u001b[0m\n\u001b[0;32m---> 73\u001b[0;31m         \u001b[0mself\u001b[0m\u001b[0;34m.\u001b[0m\u001b[0m_validate_metadata_matches_data\u001b[0m\u001b[0;34m(\u001b[0m\u001b[0mreal_data\u001b[0m\u001b[0;34m,\u001b[0m \u001b[0msynthetic_data\u001b[0m\u001b[0;34m,\u001b[0m \u001b[0mmetadata\u001b[0m\u001b[0;34m)\u001b[0m\u001b[0;34m\u001b[0m\u001b[0;34m\u001b[0m\u001b[0m\n\u001b[0m\u001b[1;32m     74\u001b[0m         \u001b[0m_validate_categorical_values\u001b[0m\u001b[0;34m(\u001b[0m\u001b[0mreal_data\u001b[0m\u001b[0;34m,\u001b[0m \u001b[0msynthetic_data\u001b[0m\u001b[0;34m,\u001b[0m \u001b[0mmetadata\u001b[0m\u001b[0;34m)\u001b[0m\u001b[0;34m\u001b[0m\u001b[0;34m\u001b[0m\u001b[0m\n\u001b[1;32m     75\u001b[0m \u001b[0;34m\u001b[0m\u001b[0m\n",
      "\u001b[0;32m~/.local/lib/python3.8/site-packages/sdmetrics/reports/single_table/quality_report.py\u001b[0m in \u001b[0;36m_validate_metadata_matches_data\u001b[0;34m(self, real_data, synthetic_data, metadata)\u001b[0m\n\u001b[1;32m     42\u001b[0m         \"\"\"\n\u001b[1;32m     43\u001b[0m         \u001b[0mreal_columns\u001b[0m \u001b[0;34m=\u001b[0m \u001b[0mset\u001b[0m\u001b[0;34m(\u001b[0m\u001b[0mreal_data\u001b[0m\u001b[0;34m.\u001b[0m\u001b[0mcolumns\u001b[0m\u001b[0;34m)\u001b[0m\u001b[0;34m\u001b[0m\u001b[0;34m\u001b[0m\u001b[0m\n\u001b[0;32m---> 44\u001b[0;31m         \u001b[0msynthetic_columns\u001b[0m \u001b[0;34m=\u001b[0m \u001b[0mset\u001b[0m\u001b[0;34m(\u001b[0m\u001b[0msynthetic_data\u001b[0m\u001b[0;34m.\u001b[0m\u001b[0mcolumns\u001b[0m\u001b[0;34m)\u001b[0m\u001b[0;34m\u001b[0m\u001b[0;34m\u001b[0m\u001b[0m\n\u001b[0m\u001b[1;32m     45\u001b[0m         \u001b[0mmetadata_columns\u001b[0m \u001b[0;34m=\u001b[0m \u001b[0mset\u001b[0m\u001b[0;34m(\u001b[0m\u001b[0mmetadata\u001b[0m\u001b[0;34m[\u001b[0m\u001b[0;34m'columns'\u001b[0m\u001b[0;34m]\u001b[0m\u001b[0;34m.\u001b[0m\u001b[0mkeys\u001b[0m\u001b[0;34m(\u001b[0m\u001b[0;34m)\u001b[0m\u001b[0;34m)\u001b[0m\u001b[0;34m\u001b[0m\u001b[0;34m\u001b[0m\u001b[0m\n\u001b[1;32m     46\u001b[0m \u001b[0;34m\u001b[0m\u001b[0m\n",
      "\u001b[0;31mAttributeError\u001b[0m: 'GaussianCopulaSynthesizer' object has no attribute 'columns'"
     ]
    }
   ],
   "source": [
    "from sdv.evaluation.single_table import evaluate_quality\n",
    "\n",
    "quality_report = evaluate_quality(\n",
    "    real_data_flight1,\n",
    "    synthesizer_Gaussian_flight1,\n",
    "    metadata_flight1\n",
    ")"
   ]
  },
  {
   "cell_type": "code",
   "execution_count": 72,
   "metadata": {},
   "outputs": [
    {
     "data": {
      "application/vnd.plotly.v1+json": {
       "config": {
        "plotlyServerURL": "https://plot.ly"
       },
       "data": [
        {
         "fill": "tozeroy",
         "hovertemplate": "<b>Real</b><br>Value: %{x}<br>Frequency: %{y}<extra></extra>",
         "legendgroup": "Real",
         "marker": {
          "color": "#000036"
         },
         "mode": "lines",
         "name": "Real",
         "showlegend": true,
         "type": "scatter",
         "x": [
          3.2630269885449703,
          4.6745712165612945,
          6.086115444577619,
          7.497659672593943,
          8.909203900610267,
          10.320748128626592,
          11.732292356642915,
          13.14383658465924,
          14.555380812675564,
          15.966925040691889,
          17.378469268708216,
          18.790013496724537,
          20.20155772474086,
          21.61310195275719,
          23.02464618077351,
          24.436190408789834,
          25.84773463680616,
          27.259278864822484,
          28.67082309283881,
          30.082367320855127,
          31.49391154887146,
          32.905455776887784,
          34.3170000049041,
          35.72854423292043,
          37.14008846093675,
          38.55163268895308,
          39.96317691696941,
          41.37472114498573,
          42.78626537300205,
          44.19780960101838,
          45.609353829034696,
          47.02089805705102,
          48.432442285067346,
          49.84398651308368,
          51.2555307411,
          52.66707496911632,
          54.078619197132646,
          55.49016342514897,
          56.90170765316529,
          58.313251881181614,
          59.724796109197946,
          61.13634033721427,
          62.547884565230596,
          63.959428793246914,
          65.37097302126324,
          66.78251724927956,
          68.19406147729588,
          69.6056057053122,
          71.01714993332853,
          72.42869416134485,
          73.84023838936118,
          75.25178261737751,
          76.66332684539384,
          78.07487107341015,
          79.48641530142648,
          80.8979595294428,
          82.30950375745913,
          83.72104798547545,
          85.13259221349178,
          86.5441364415081,
          87.95568066952441,
          89.36722489754074,
          90.77876912555706,
          92.19031335357339,
          93.60185758158971,
          95.01340180960604,
          96.42494603762238,
          97.8364902656387,
          99.24803449365503,
          100.65957872167134,
          102.07112294968766,
          103.48266717770399,
          104.89421140572031,
          106.30575563373664,
          107.71729986175296,
          109.12884408976929,
          110.5403883177856,
          111.95193254580192,
          113.36347677381825,
          114.77502100183457,
          116.18656522985091,
          117.59810945786724,
          119.00965368588356,
          120.42119791389989,
          121.83274214191621,
          123.24428636993252,
          124.65583059794885,
          126.06737482596517,
          127.4789190539815,
          128.89046328199782,
          130.30200751001416,
          131.71355173803047,
          133.12509596604679,
          134.53664019406312,
          135.94818442207944,
          137.35972865009578,
          138.7712728781121,
          140.1828171061284,
          141.59436133414474,
          143.00590556216105,
          144.4174497901774,
          145.8289940181937,
          147.24053824621006,
          148.65208247422638,
          150.06362670224271,
          151.47517093025903,
          152.88671515827534,
          154.29825938629168,
          155.709803614308,
          157.12134784232433,
          158.53289207034064,
          159.94443629835698,
          161.3559805263733,
          162.7675247543896,
          164.17906898240594,
          165.59061321042225,
          167.0021574384386,
          168.4137016664549,
          169.82524589447124,
          171.23679012248755,
          172.64833435050386,
          174.0598785785202,
          175.4714228065365,
          176.88296703455285,
          178.29451126256916,
          179.7060554905855,
          181.1175997186018,
          182.52914394661815,
          183.94068817463446,
          185.35223240265077,
          186.7637766306671,
          188.17532085868345,
          189.5868650866998,
          190.9984093147161,
          192.40995354273244,
          193.82149777074875,
          195.2330419987651,
          196.6445862267814,
          198.0561304547977,
          199.46767468281405,
          200.87921891083036,
          202.2907631388467,
          203.702307366863,
          205.11385159487935,
          206.52539582289566,
          207.93694005091197,
          209.3484842789283,
          210.76002850694462,
          212.17157273496096,
          213.58311696297727,
          214.9946611909936,
          216.40620541900992,
          217.81774964702623,
          219.22929387504257,
          220.64083810305888,
          222.05238233107522,
          223.46392655909153,
          224.87547078710787,
          226.28701501512418,
          227.69855924314052,
          229.11010347115686,
          230.52164769917317,
          231.9331919271895,
          233.34473615520582,
          234.75628038322216,
          236.16782461123847,
          237.5793688392548,
          238.99091306727112,
          240.40245729528746,
          241.81400152330377,
          243.22554575132008,
          244.63708997933642,
          246.04863420735273,
          247.46017843536907,
          248.87172266338538,
          250.28326689140172,
          251.69481111941803,
          253.10635534743435,
          254.51789957545068,
          255.929443803467,
          257.34098803148333,
          258.7525322594997,
          260.164076487516,
          261.57562071553235,
          262.98716494354863,
          264.398709171565,
          265.8102533995813,
          267.2217976275976,
          268.63334185561393,
          270.0448860836303,
          271.4564303116466,
          272.8679745396629,
          274.27951876767924,
          275.6910629956956,
          277.10260722371186,
          278.5141514517282,
          279.92569567974454,
          281.3372399077609,
          282.74878413577716,
          284.1603283637935,
          285.57187259180984,
          286.9834168198261,
          288.39496104784246,
          289.80650527585885,
          291.2180495038752,
          292.6295937318915,
          294.0411379599078,
          295.45268218792415,
          296.8642264159405,
          298.2757706439568,
          299.6873148719731,
          301.09885909998945,
          302.51040332800574,
          303.9219475560221,
          305.3334917840384,
          306.74503601205475,
          308.15658024007104,
          309.5681244680874,
          310.9796686961037,
          312.39121292412,
          313.80275715213634,
          315.2143013801527,
          316.625845608169,
          318.0373898361853,
          319.44893406420164,
          320.860478292218,
          322.27202252023426,
          323.6835667482506,
          325.09511097626694,
          326.5066552042833,
          327.91819943229956,
          329.3297436603159,
          330.74128788833224,
          332.1528321163485,
          333.56437634436486,
          334.9759205723812,
          336.38746480039754,
          337.7990090284138,
          339.21055325643016,
          340.6220974844465,
          342.0336417124628,
          343.4451859404791,
          344.85673016849546,
          346.2682743965118,
          347.6798186245281,
          349.0913628525444,
          350.50290708056076,
          351.9144513085771,
          353.3259955365934,
          354.7375397646097,
          356.14908399262606,
          357.56062822064234,
          358.9721724486587,
          360.383716676675,
          361.79526090469136,
          363.20680513270764,
          364.618349360724,
          366.0298935887403,
          367.4414378167566,
          368.85298204477294,
          370.2645262727893,
          371.6760705008057,
          373.08761472882196,
          374.4991589568383,
          375.91070318485464,
          377.3222474128709,
          378.73379164088726,
          380.1453358689036,
          381.55688009691994,
          382.9684243249362,
          384.37996855295256,
          385.7915127809689,
          387.20305700898524,
          388.6146012370015,
          390.02614546501786,
          391.4376896930342,
          392.8492339210505,
          394.2607781490668,
          395.67232237708316,
          397.0838666050995,
          398.4954108331158,
          399.9069550611321,
          401.31849928914846,
          402.73004351716475,
          404.1415877451811,
          405.5531319731974,
          406.96467620121376,
          408.37622042923005,
          409.7877646572464,
          411.1993088852627,
          412.610853113279,
          414.02239734129535,
          415.4339415693117,
          416.845485797328,
          418.2570300253443,
          419.66857425336065,
          421.080118481377,
          422.49166270939327,
          423.9032069374096,
          425.31475116542595,
          426.7262953934423,
          428.13783962145857,
          429.5493838494749,
          430.96092807749125,
          432.37247230550753,
          433.78401653352387,
          435.1955607615402,
          436.60710498955655,
          438.01864921757283,
          439.43019344558917,
          440.8417376736055,
          442.25328190162185,
          443.66482612963813,
          445.07637035765447,
          446.4879145856708,
          447.8994588136871,
          449.31100304170343,
          450.72254726971977,
          452.1340914977361,
          453.5456357257524,
          454.9571799537688,
          456.3687241817851,
          457.7802684098014,
          459.19181263781775,
          460.6033568658341,
          462.0149010938504,
          463.4264453218667,
          464.83798954988305,
          466.2495337778994,
          467.66107800591567,
          469.072622233932,
          470.48416646194835,
          471.8957106899647,
          473.30725491798097,
          474.7187991459973,
          476.13034337401365,
          477.54188760203,
          478.95343183004627,
          480.3649760580626,
          481.77652028607895,
          483.18806451409523,
          484.59960874211157,
          486.0111529701279,
          487.42269719814425,
          488.83424142616053,
          490.24578565417687,
          491.6573298821932,
          493.0688741102095,
          494.48041833822583,
          495.89196256624217,
          497.3035067942585,
          498.7150510222748,
          500.12659525029113,
          501.53813947830747,
          502.94968370632375,
          504.3612279343401,
          505.77277216235643,
          507.18431639037277,
          508.59586061838905,
          510.0074048464054,
          511.41894907442173,
          512.830493302438,
          514.2420375304544,
          515.6535817584708,
          517.065125986487,
          518.4766702145033,
          519.8882144425197,
          521.299758670536,
          522.7113028985523,
          524.1228471265687,
          525.534391354585,
          526.9459355826014,
          528.3574798106176,
          529.7690240386339,
          531.1805682666502,
          532.5921124946666,
          534.0036567226829,
          535.4152009506992,
          536.8267451787156,
          538.2382894067318,
          539.6498336347482,
          541.0613778627645,
          542.4729220907808,
          543.8844663187972,
          545.2960105468135,
          546.7075547748298,
          548.1190990028462,
          549.5306432308624,
          550.9421874588787,
          552.3537316868951,
          553.7652759149114,
          555.1768201429278,
          556.5883643709441,
          557.9999085989604,
          559.4114528269768,
          560.822997054993,
          562.2345412830093,
          563.6460855110257,
          565.057629739042,
          566.4691739670583,
          567.8807181950747,
          569.292262423091,
          570.7038066511072,
          572.1153508791236,
          573.5268951071399,
          574.9384393351564,
          576.3499835631727,
          577.761527791189,
          579.1730720192054,
          580.5846162472217,
          581.996160475238,
          583.4077047032544,
          584.8192489312706,
          586.2307931592869,
          587.6423373873033,
          589.0538816153196,
          590.465425843336,
          591.8769700713523,
          593.2885142993686,
          594.700058527385,
          596.1116027554012,
          597.5231469834175,
          598.9346912114339,
          600.3462354394502,
          601.7577796674665,
          603.1693238954829,
          604.5808681234992,
          605.9924123515154,
          607.4039565795318,
          608.8155008075481,
          610.2270450355645,
          611.6385892635808,
          613.0501334915971,
          614.4616777196135,
          615.8732219476298,
          617.284766175646,
          618.6963104036624,
          620.1078546316787,
          621.519398859695,
          622.9309430877114,
          624.3424873157277,
          625.754031543744,
          627.1655757717604,
          628.5771199997766,
          629.988664227793,
          631.4002084558093,
          632.8117526838256,
          634.223296911842,
          635.6348411398583,
          637.0463853678746,
          638.457929595891,
          639.8694738239072,
          641.2810180519235,
          642.6925622799399,
          644.1041065079562,
          645.5156507359726,
          646.9271949639889,
          648.3387391920052,
          649.7502834200216,
          651.1618276480378,
          652.5733718760541,
          653.9849161040705,
          655.3964603320868,
          656.8080045601031,
          658.2195487881195,
          659.6310930161358,
          661.042637244152,
          662.4541814721684,
          663.8657257001847,
          665.2772699282011,
          666.6888141562174,
          668.1003583842337,
          669.5119026122501,
          670.9234468402664,
          672.3349910682826,
          673.746535296299,
          675.1580795243153,
          676.5696237523316,
          677.981167980348,
          679.3927122083643,
          680.8042564363806,
          682.215800664397,
          683.6273448924132,
          685.0388891204296,
          686.4504333484459,
          687.8619775764622,
          689.2735218044786,
          690.6850660324949,
          692.0966102605112,
          693.5081544885276,
          694.9196987165438,
          696.3312429445601,
          697.7427871725765,
          699.1543314005928,
          700.5658756286092,
          701.9774198566255,
          703.3889640846418,
          704.8005083126582,
          706.2120525406744,
          707.6235967686907
         ],
         "xaxis": "x",
         "y": [
          0.00012047550502187506,
          0.00012340894022131778,
          0.00012572537728214892,
          0.00012739633997761705,
          0.00012840478611599027,
          0.00012874553844533198,
          0.00012842537119440124,
          0.00012746275110507287,
          0.00012588724524311806,
          0.000123738620426784,
          0.00012106567019592514,
          0.00011792481438294733,
          0.00011437852320390901,
          0.00011049362217804329,
          0.0001063395360713934,
          0.00010198652954852128,
          0.00009750399952611834,
          0.00009295886966415581,
          0.00008841413137253383,
          0.00008392756854924434,
          0.00007955069539282051,
          0.00007532792841422363,
          0.00007129600553493418,
          0.00006748365716927873,
          0.00006391152666413263,
          0.00006059233056909934,
          0.000057531243050193865,
          0.00005472648341882663,
          0.00005217008127817203,
          0.00004984879022589124,
          0.00004774511841899623,
          0.000045838442617395234,
          0.00004410617158085889,
          0.00004252492488872239,
          0.00004107169435097396,
          0.00003972495712494534,
          0.00003846571235297929,
          0.000037278416467956006,
          0.00003615179611686931,
          0.00003507952174176804,
          0.00003406072902933277,
          0.00003310037948961712,
          0.000032209455160256723,
          0.00003140498569707669,
          0.000030709908798446125,
          0.00003015276697684931,
          0.000029767245169128727,
          0.000029591554675571284,
          0.000029667669617570796,
          0.000030040422741623388,
          0.000030756468247408534,
          0.00003186312066096674,
          0.000033407080867027566,
          0.00003543306345497509,
          0.000037982343626912166,
          0.00004109124705101868,
          0.00004478961206807258,
          0.000049099260276867305,
          0.00005403251829807591,
          0.000059590839887969045,
          0.00006576358289868176,
          0.00007252699917578922,
          0.00007984349667845001,
          0.00008766123131232488,
          0.00009591408073182748,
          0.00010452204344552292,
          0.00011339209394156143,
          0.00012241950851005334,
          0.00013148965753421042,
          0.00014048023908404172,
          0.00014926390674517998,
          0.00015771122299878946,
          0.0001656938494831884,
          0.0001730878684660437,
          0.00017977711709499895,
          0.0001856564085368941,
          0.00019063451273885524,
          0.0001946367746682871,
          0.00019760725952702152,
          0.00019951033217681518,
          0.00020033160103732255,
          0.0002000781838366649,
          0.00019877828233162456,
          0.00019648008380048648,
          0.0001932500370005924,
          0.00018917057767256143,
          0.00018433740202335785,
          0.00017885640465728045,
          0.00017284040922457155,
          0.00016640582510597657,
          0.00015966936166452377,
          0.00015274492331363918,
          0.00014574079459967525,
          0.00013875720572351232,
          0.00013188434671133437,
          0.00012520087420699906,
          0.00011877293005040521,
          0.00011265366681769608,
          0.00010688325357066299,
          0.00010148931621689181,
          0.00009648775187594307,
          0.00009188384594666856,
          0.0000876736143505938,
          0.00008384529158575125,
          0.0000803808874245774,
          0.00007725774079616777,
          0.00007445000793649535,
          0.0000719300325170733,
          0.00006966955739154865,
          0.00006764075006944766,
          0.00006581702633551155,
          0.00006417366797151543,
          0.00006268824080695813,
          0.0000613408279512269,
          0.00006011409979610165,
          0.00005899324710169366,
          0.000057965806185435234,
          0.000057021406021130415,
          0.000056151466111271,
          0.00005534887158127219,
          0.00005460764837372919,
          0.000053922657044097694,
          0.00005328931884150386,
          0.000052703382860119184,
          0.000052160738403693735,
          0.00005165727261144666,
          0.00005118877008112574,
          0.000050750848855444045,
          0.000050338925790319214,
          0.00004994820399094991,
          0.00004957367559519765,
          0.00004921013453882602,
          0.00004885219582965354,
          0.000048494320022944526,
          0.00004813084374665917,
          0.00004775601899885315,
          0.000047364065289792415,
          0.000046949239342579346,
          0.00004650592688527635,
          0.00004602876003546544,
          0.00004551276195310791,
          0.000044953517960726015,
          0.000044347369413624935,
          0.000043691623511882044,
          0.00004298476927395302,
          0.00004222668733564795,
          0.00004141883937097716,
          0.00004056442197802746,
          0.00003966846999053538,
          0.00003873789543874406,
          0.00003778145077652326,
          0.000036809608411461036,
          0.0000358343528349102,
          0.000034868886496254265,
          0.000033927255697490825,
          0.000033023907871352124,
          0.00003217319631596436,
          0.000031388852478455324,
          0.00003068344893633203,
          0.00003006787810394816,
          0.00002955087224759992,
          0.00002913858956073148,
          0.000028834288845480573,
          0.000028638111862256324,
          0.00002854698781132595,
          0.000028554668927426723,
          0.00002865190007672714,
          0.000028826718854821892,
          0.00002906487632144761,
          0.00002935036249877532,
          0.000029666015415460172,
          0.000029994188076123175,
          0.000030317444507904983,
          0.00003061925415722851,
          0.0000308846534899651,
          0.00003110084472414698,
          0.00003125770415958121,
          0.00003134817645398056,
          0.00003136853625365987,
          0.000031318504582317166,
          0.0000312012140399561,
          0.00003102302384777445,
          0.00003079319275788101,
          0.000030523424491649634,
          0.00003022730635539063,
          0.000029919666716152992,
          0.00002961588085878941,
          0.000029331157200284776,
          0.000029079836787484682,
          0.00002887473840038693,
          0.000028726579449680887,
          0.000028643499291389002,
          0.000028630706748247825,
          0.000028690267751908076,
          0.00002882104237693649,
          0.000029018773439085214,
          0.000029276321611753883,
          0.000029584035019583936,
          0.00002993023483284641,
          0.000030301792823919664,
          0.000030684772433094876,
          0.000031065101849198774,
          0.000031429246102017095,
          0.000031764845276927455,
          0.0000320612877078609,
          0.00003231019031218163,
          0.0000325057629502969,
          0.00003264503959976773,
          0.00003272796593991345,
          0.00003275734030881012,
          0.000032738612546081055,
          0.000032679552582466855,
          0.000032589807396544034,
          0.00003248037077203493,
          0.00003236299484419809,
          0.00003224957547358562,
          0.000032151544862233054,
          0.00003207930445357212,
          0.00003204172905158764,
          0.00003204576937210191,
          0.00003209617510615645,
          0.00003219535431983459,
          0.000032343377989642135,
          0.000032538131076840766,
          0.00003277560420035103,
          0.000033050313097275025,
          0.00003335582705786327,
          0.00003368538273289621,
          0.00003403255640940384,
          0.00003439196621957743,
          0.000034759975869898437,
          0.000035135373326612315,
          0.00003552000133474296,
          0.00003591932144401944,
          0.00003634289904102171,
          0.00003680480334815242,
          0.00003732392300769294,
          0.00003792420426755267,
          0.0000386348244819037,
          0.000039490318235125084,
          0.000040530676562263725,
          0.00004180144123847006,
          0.00004335381582030865,
          0.00004524481304261757,
          0.000047537454429886044,
          0.00005030103281441451,
          0.00005361144221372899,
          0.00005755157264010503,
          0.00006221176038622587,
          0.00006769027766985817,
          0.00007409383973706123,
          0.00008153810308814214,
          0.00009014812580300256,
          0.00010005876030501271,
          0.00011141495049875922,
          0.0001243719090969265,
          0.00013909515702376681,
          0.00015576041481286102,
          0.00017455334553393508,
          0.00019566915949031263,
          0.00021931210211906146,
          0.00024569485750642787,
          0.0002750379099458771,
          0.0003075689142269905,
          0.00034352213106374083,
          0.0003831379865030579,
          0.00042666281263285566,
          0.00047434882089443693,
          0.0005264543484348156,
          0.0005832444020732908,
          0.0006449915037405114,
          0.0007119768161289477,
          0.0007844914985689843,
          0.0008628382119719611,
          0.0009473326595701024,
          0.0010383050189598432,
          0.001136101092698707,
          0.0012410829816504848,
          0.00135362906968279,
          0.0014741331023358359,
          0.0016030021475517194,
          0.0017406532448672103,
          0.0018875085813887518,
          0.002043989078379741,
          0.0022105063305217867,
          0.0023874529090775008,
          0.0025751911176011867,
          0.002774040371029512,
          0.00298426345180581,
          0.00320605197559855,
          0.003439511469473812,
          0.0036846465225469256,
          0.0039413465091382984,
          0.004209372404055029,
          0.0044883452066430286,
          0.004777736463798189,
          0.005076861332663664,
          0.005384874553146383,
          0.005700769611839003,
          0.006023381276732467,
          0.006351391571391844,
          0.006683339143674907,
          0.007017631873344106,
          0.007352562460509351,
          0.007686326647532745,
          0.008017043654638636,
          0.008342778356600845,
          0.008661564695773198,
          0.008971429815266265,
          0.00927041840385473,
          0.00955661676873496,
          0.009828176190245709,
          0.010083335160330668,
          0.010320440159955582,
          0.010537964686194891,
          0.01073452629409789,
          0.010908901469287286,
          0.011060038192982418,
          0.011187066101137602,
          0.011289304173866636,
          0.01136626592122674,
          0.011417662058187889,
          0.01144340068688507,
          0.011443585029667932,
          0.011418508783371832,
          0.011368649194479547,
          0.011294657986648629,
          0.011197350305977178,
          0.01107769188425457,
          0.010936784654631933,
          0.010775851085622899,
          0.01059621752593849,
          0.010399296872287534,
          0.01018657088317981,
          0.009959572462713409,
          0.009719868228726745,
          0.009469041659703067,
          0.009208677085311874,
          0.008940344747999387,
          0.00866558711966564,
          0.008385906610593189,
          0.00810275475997269,
          0.007817522951063891,
          0.007531534651438553,
          0.007246039141633891,
          0.006962206665116886,
          0.006681124909332813,
          0.006403796711791632,
          0.006131138876090481,
          0.005863981979490834,
          0.005603071054857272,
          0.0053490670339610144,
          0.005102548844887892,
          0.004864016062250829,
          0.004633892014042755,
          0.004412527252598252,
          0.004200203298990983,
          0.003997136570443571,
          0.003803482399520108,
          0.003619339052887254,
          0.0034447516573696615,
          0.003279715943081716,
          0.003124181718745441,
          0.0029780560038752896,
          0.002841205756985463,
          0.002713460158604649,
          0.0025946124324217534,
          0.0024844212165708,
          0.0023826115286111156,
          0.002288875400435368,
          0.0022028722910454428,
          0.0021242294135662147,
          0.0020525421356607856,
          0.0019873746274513605,
          0.0019282609362530484,
          0.0018747066615181945,
          0.0018261913856523018,
          0.0017821719868538373,
          0.0017420869197264431,
          0.001705361499808004,
          0.0016714141717968217,
          0.0016396636811870614,
          0.0016095370087388964,
          0.0015804778703951087,
          0.0015519555355609004,
          0.001523473677436345,
          0.0014945789431393777,
          0.001464868920746987,
          0.0014339991862763182,
          0.0014016891361963504,
          0.0013677263494564222,
          0.001331969275423191,
          0.0012943481078630415,
          0.0012548637768426468,
          0.0012135850663375037,
          0.0011706439414130958,
          0.0011262292410932646,
          0.0010805789577594547,
          0.001033971377939644,
          0.0009867154001370732,
          0.0009391403712105818,
          0.0008915857929200547,
          0.000844391244641844,
          0.0007978868478256306,
          0.0007523845641270287,
          0.0007081705745331407,
          0.0006654989338634186,
          0.0006245866366988054,
          0.000585610170076049,
          0.0005487035681013907,
          0.0005139579266762659,
          0.0004814222851162046,
          0.00045110573746511733,
          0.00042298060113813113,
          0.00039698644501566467,
          0.0003730347635865044,
          0.0003510140780366705,
          0.00033079524870924644,
          0.0003122367951602665,
          0.0002951900388689779,
          0.00027950390809191656,
          0.0002650292728343839,
          0.0002516227088746567,
          0.00023914962168448262,
          0.00022748669251985567,
          0.0002165236386440025,
          0.00020616430652395642,
          0.00019632714007395175,
          0.00018694508500525643,
          0.0001779650047303446,
          0.00016934669294478227,
          0.00016106157307898796,
          0.00015309117557594108,
          0.00014542548087544203,
          0.00013806120966230253,
          0.0001310001330422866,
          0.00012424746456709407,
          0.00011781038416239779,
          0.00011169673171024399,
          0.00010591389592030986,
          0.0001004679127205083,
          0.00009536277712073618,
          0.0000905999636464116,
          0.00008617814317042666,
          0.00008209307834796393,
          0.00007833767583307743,
          0.00007490217090445858,
          0.000071774418870346,
          0.0000689402674481804,
          0.00006638398500521577,
          0.00006408872089619059,
          0.00006203697596503176,
          0.000060211063447189224,
          0.00005859354291380813,
          0.00005716761246968245,
          0.000055917447111813244,
          0.00005482847394793396,
          0.000053887577841394275,
          0.000053083233959068136,
          0.000052405566604457516,
          0.00005184633654962505,
          0.000051398861746660864,
          0.00005105787869581826,
          0.000050819353760450535,
          0.000050680255241432464,
          0.00005063829796821507,
          0.00005069167247468792,
          0.00005083877049290712,
          0.00005107791755257641,
          0.00005140712200475408,
          0.00005182384792519632,
          0.00005232481726112768,
          0.00005290584444966376,
          0.00005356170474293925,
          0.00005428603579334829,
          0.000055071270816401804,
          0.00005590860094331057,
          0.00005678796422620289,
          0.000057698059129067056,
          0.00005862638113092349,
          0.00005955928213856999,
          0.00006048205357415457,
          0.00006137903507203096,
          0.00006223375149963871,
          0.00006302908134470844,
          0.00006374745926681162,
          0.00006437111473473533,
          0.0000648823471688072,
          0.00006526383595395654,
          0.00006549898122287924,
          0.00006557226861867924,
          0.00006546964855717299,
          0.00006517891805990028,
          0.00006469009125222394,
          0.00006399574332130403,
          0.00006309131226437063,
          0.0000619753432258776,
          0.00006064966165018762,
          0.00005911946381888603,
          0.000057393316483384575
         ],
         "yaxis": "y"
        },
        {
         "fill": "tozeroy",
         "hovertemplate": "<b>Synthetic</b><br>Value: %{x}<br>Frequency: %{y}<extra></extra>",
         "legendgroup": "Synthetic",
         "marker": {
          "color": "#01E0C9"
         },
         "mode": "lines",
         "name": "Synthetic",
         "showlegend": true,
         "type": "scatter",
         "x": [
          265.98645038223094,
          266.72310220419575,
          267.45975402616057,
          268.1964058481254,
          268.9330576700902,
          269.669709492055,
          270.40636131401976,
          271.1430131359846,
          271.8796649579494,
          272.6163167799142,
          273.352968601879,
          274.0896204238438,
          274.82627224580864,
          275.56292406777345,
          276.29957588973826,
          277.0362277117031,
          277.7728795336679,
          278.5095313556327,
          279.24618317759746,
          279.9828349995623,
          280.7194868215271,
          281.4561386434919,
          282.1927904654567,
          282.9294422874215,
          283.66609410938634,
          284.40274593135115,
          285.13939775331596,
          285.8760495752808,
          286.6127013972456,
          287.34935321921034,
          288.08600504117516,
          288.82265686313997,
          289.5593086851048,
          290.2959605070696,
          291.0326123290344,
          291.7692641509992,
          292.50591597296403,
          293.24256779492885,
          293.97921961689366,
          294.71587143885847,
          295.4525232608232,
          296.18917508278804,
          296.92582690475285,
          297.66247872671767,
          298.3991305486825,
          299.1357823706473,
          299.8724341926121,
          300.6090860145769,
          301.34573783654173,
          302.08238965850654,
          302.81904148047136,
          303.5556933024361,
          304.2923451244009,
          305.02899694636574,
          305.76564876833055,
          306.50230059029536,
          307.2389524122602,
          307.975604234225,
          308.7122560561898,
          309.4489078781546,
          310.1855597001194,
          310.92221152208424,
          311.65886334404905,
          312.39551516601387,
          313.1321669879786,
          313.86881880994343,
          314.60547063190825,
          315.34212245387306,
          316.0787742758379,
          316.8154260978027,
          317.5520779197675,
          318.2887297417323,
          319.0253815636971,
          319.7620333856619,
          320.4986852076267,
          321.2353370295915,
          321.9719888515563,
          322.70864067352113,
          323.44529249548594,
          324.18194431745076,
          324.91859613941557,
          325.6552479613804,
          326.3918997833452,
          327.12855160531,
          327.8652034272748,
          328.60185524923963,
          329.3385070712044,
          330.07515889316926,
          330.811810715134,
          331.5484625370988,
          332.28511435906364,
          333.02176618102845,
          333.75841800299327,
          334.4950698249581,
          335.2317216469229,
          335.96837346888765,
          336.7050252908525,
          337.4416771128173,
          338.1783289347821,
          338.9149807567469,
          339.6516325787117,
          340.3882844006765,
          341.12493622264134,
          341.86158804460615,
          342.59823986657096,
          343.3348916885358,
          344.07154351050053,
          344.8081953324654,
          345.54484715443016,
          346.281498976395,
          347.0181507983598,
          347.7548026203246,
          348.4914544422894,
          349.2281062642542,
          349.96475808621904,
          350.70140990818385,
          351.43806173014866,
          352.1747135521135,
          352.9113653740783,
          353.64801719604304,
          354.3846690180079,
          355.12132083997267,
          355.8579726619375,
          356.5946244839023,
          357.3312763058671,
          358.0679281278319,
          358.80457994979673,
          359.54123177176155,
          360.27788359372636,
          361.01453541569117,
          361.7511872376559,
          362.4878390596208,
          363.22449088158555,
          363.96114270355037,
          364.6977945255152,
          365.43444634748,
          366.1710981694448,
          366.9077499914096,
          367.64440181337443,
          368.38105363533924,
          369.11770545730406,
          369.8543572792688,
          370.5910091012337,
          371.32766092319844,
          372.06431274516325,
          372.80096456712806,
          373.5376163890929,
          374.2742682110577,
          375.0109200330225,
          375.7475718549873,
          376.4842236769521,
          377.22087549891694,
          377.9575273208817,
          378.69417914284656,
          379.4308309648113,
          380.1674827867762,
          380.90413460874095,
          381.64078643070576,
          382.3774382526706,
          383.1140900746354,
          383.8507418966002,
          384.587393718565,
          385.3240455405298,
          386.06069736249464,
          386.79734918445945,
          387.5340010064242,
          388.2706528283891,
          389.00730465035383,
          389.74395647231864,
          390.48060829428346,
          391.21726011624827,
          391.9539119382131,
          392.6905637601779,
          393.4272155821427,
          394.1638674041075,
          394.90051922607233,
          395.6371710480371,
          396.37382287000196,
          397.1104746919667,
          397.8471265139316,
          398.58377833589634,
          399.3204301578612,
          400.05708197982597,
          400.7937338017908,
          401.5303856237556,
          402.2670374457204,
          403.0036892676852,
          403.74034108965,
          404.47699291161484,
          405.2136447335796,
          405.9502965555444,
          406.6869483775092,
          407.42360019947404,
          408.16025202143885,
          408.89690384340366,
          409.6335556653685,
          410.37020748733323,
          411.1068593092981,
          411.84351113126286,
          412.5801629532277,
          413.3168147751925,
          414.05346659715735,
          414.7901184191221,
          415.5267702410869,
          416.26342206305173,
          417.00007388501655,
          417.73672570698136,
          418.4733775289462,
          419.210029350911,
          419.94668117287574,
          420.6833329948406,
          421.41998481680537,
          422.1566366387702,
          422.893288460735,
          423.6299402826998,
          424.3665921046646,
          425.10324392662943,
          425.83989574859424,
          426.57654757055906,
          427.31319939252387,
          428.0498512144887,
          428.7865030364535,
          429.52315485841825,
          430.2598066803831,
          430.9964585023479,
          431.7331103243127,
          432.4697621462775,
          433.2064139682423,
          433.94306579020713,
          434.67971761217194,
          435.41636943413675,
          436.1530212561015,
          436.8896730780664,
          437.62632490003114,
          438.362976721996,
          439.09962854396076,
          439.83628036592563,
          440.5729321878904,
          441.3095840098552,
          442.04623583182,
          442.7828876537848,
          443.51953947574964,
          444.25619129771445,
          444.99284311967926,
          445.729494941644,
          446.4661467636089,
          447.20279858557365,
          447.93945040753846,
          448.6761022295033,
          449.4127540514681,
          450.1494058734329,
          450.88605769539765,
          451.6227095173625,
          452.3593613393273,
          453.09601316129215,
          453.8326649832569,
          454.5693168052218,
          455.30596862718653,
          456.0426204491514,
          456.77927227111616,
          457.51592409308097,
          458.2525759150458,
          458.9892277370106,
          459.7258795589754,
          460.46253138094016,
          461.19918320290503,
          461.9358350248698,
          462.67248684683466,
          463.4091386687994,
          464.1457904907643,
          464.88244231272904,
          465.6190941346939,
          466.35574595665867,
          467.0923977786235,
          467.8290496005883,
          468.5657014225531,
          469.3023532445179,
          470.03900506648273,
          470.77565688844754,
          471.5123087104123,
          472.24896053237717,
          472.9856123543419,
          473.72226417630674,
          474.45891599827155,
          475.19556782023636,
          475.9322196422012,
          476.66887146416593,
          477.4055232861308,
          478.14217510809556,
          478.8788269300604,
          479.6154787520252,
          480.35213057399005,
          481.0887823959548,
          481.8254342179197,
          482.56208603988443,
          483.29873786184925,
          484.03538968381406,
          484.7720415057789,
          485.5086933277437,
          486.24534514970844,
          486.9819969716733,
          487.71864879363807,
          488.4553006156029,
          489.1919524375677,
          489.9286042595325,
          490.6652560814973,
          491.4019079034622,
          492.13855972542694,
          492.87521154739176,
          493.61186336935657,
          494.3485151913214,
          495.0851670132862,
          495.821818835251,
          496.5584706572158,
          497.2951224791806,
          498.0317743011454,
          498.7684261231102,
          499.505077945075,
          500.2417297670398,
          500.97838158900464,
          501.71503341096945,
          502.4516852329342,
          503.1883370548991,
          503.92498887686384,
          504.6616406988287,
          505.39829252079346,
          506.13494434275833,
          506.8715961647231,
          507.6082479866879,
          508.3448998086527,
          509.0815516306175,
          509.81820345258234,
          510.55485527454715,
          511.29150709651196,
          512.0281589184767,
          512.7648107404416,
          513.5014625624063,
          514.2381143843711,
          514.974766206336,
          515.7114180283008,
          516.4480698502656,
          517.1847216722304,
          517.9213734941952,
          518.65802531616,
          519.3946771381248,
          520.1313289600896,
          520.8679807820545,
          521.6046326040192,
          522.3412844259841,
          523.0779362479489,
          523.8145880699137,
          524.5512398918785,
          525.2878917138432,
          526.0245435358081,
          526.761195357773,
          527.4978471797377,
          528.2344990017025,
          528.9711508236674,
          529.7078026456322,
          530.444454467597,
          531.1811062895617,
          531.9177581115266,
          532.6544099334915,
          533.3910617554561,
          534.127713577421,
          534.8643653993859,
          535.6010172213506,
          536.3376690433154,
          537.0743208652802,
          537.810972687245,
          538.5476245092099,
          539.2842763311746,
          540.0209281531395,
          540.7575799751042,
          541.494231797069,
          542.2308836190339,
          542.9675354409987,
          543.7041872629634,
          544.4408390849283,
          545.1774909068931,
          545.9141427288579,
          546.6507945508226,
          547.3874463727875,
          548.1240981947524,
          548.8607500167171,
          549.5974018386819,
          550.3340536606468,
          551.0707054826116,
          551.8073573045764,
          552.5440091265411,
          553.280660948506,
          554.0173127704709,
          554.7539645924355,
          555.4906164144004,
          556.2272682363653,
          556.96392005833,
          557.7005718802948,
          558.4372237022596,
          559.1738755242245,
          559.9105273461893,
          560.647179168154,
          561.3838309901189,
          562.1204828120838,
          562.8571346340484,
          563.5937864560133,
          564.3304382779781,
          565.0670900999429,
          565.8037419219077,
          566.5403937438725,
          567.2770455658374,
          568.0136973878022,
          568.7503492097669,
          569.4870010317318,
          570.2236528536966,
          570.9603046756614,
          571.6969564976262,
          572.433608319591,
          573.1702601415559,
          573.9069119635205,
          574.6435637854854,
          575.3802156074503,
          576.116867429415,
          576.8535192513798,
          577.5901710733447,
          578.3268228953094,
          579.0634747172743,
          579.800126539239,
          580.5367783612039,
          581.2734301831687,
          582.0100820051335,
          582.7467338270983,
          583.4833856490632,
          584.2200374710279,
          584.9566892929927,
          585.6933411149575,
          586.4299929369223,
          587.1666447588872,
          587.9032965808519,
          588.6399484028168,
          589.3766002247816,
          590.1132520467464,
          590.8499038687112,
          591.586555690676,
          592.3232075126408,
          593.0598593346056,
          593.7965111565704,
          594.5331629785353,
          595.2698148005,
          596.0064666224648,
          596.7431184444297,
          597.4797702663944,
          598.2164220883592,
          598.9530739103241,
          599.6897257322889,
          600.4263775542537,
          601.1630293762184,
          601.8996811981833,
          602.6363330201482,
          603.3729848421129,
          604.1096366640777,
          604.8462884860426,
          605.5829403080074,
          606.3195921299721,
          607.056243951937,
          607.7928957739018,
          608.5295475958666,
          609.2661994178313,
          610.0028512397962,
          610.7395030617611,
          611.4761548837258,
          612.2128067056906,
          612.9494585276555,
          613.6861103496203,
          614.422762171585,
          615.1594139935498,
          615.8960658155147,
          616.6327176374795,
          617.3693694594442,
          618.1060212814091,
          618.8426731033738,
          619.5793249253387,
          620.3159767473035,
          621.0526285692683,
          621.7892803912332,
          622.525932213198,
          623.2625840351627,
          623.9992358571276,
          624.7358876790925,
          625.4725395010571,
          626.209191323022,
          626.9458431449868,
          627.6824949669516,
          628.4191467889164,
          629.1557986108812,
          629.892450432846,
          630.6291022548108,
          631.3657540767756,
          632.1024058987405,
          632.8390577207052,
          633.57570954267
         ],
         "xaxis": "x",
         "y": [
          0.00015411052517567023,
          0.0001589943905992703,
          0.00016389021236759286,
          0.00016879431285815293,
          0.00017370335567304675,
          0.00017861437256513836,
          0.00018352478794975225,
          0.00018843244087160142,
          0.0001933356043232719,
          0.00019823300183782503,
          0.00020312382130361918,
          0.00020800772597401838,
          0.0002128848626680135,
          0.00021775586717970226,
          0.000222621866934986,
          0.0002274844809525706,
          0.00023234581718344273,
          0.00023720846731836338,
          0.0002420754991666185,
          0.0002469504467213825,
          0.0002518372980375679,
          0.0002567404810571608,
          0.0002616648475246984,
          0.0002666156551419879,
          0.0002715985481162982,
          0.00027661953626026924,
          0.0002816849728045925,
          0.0002868015310862559,
          0.00029197618027568294,
          0.0002972161603055091,
          0.0003025289561619489,
          0.0003079222716965851,
          0.0003134040031120917,
          0.0003189822122695514,
          0.0003246650999578947,
          0.0003304609792572631,
          0.0003363782491180151,
          0.00034242536826550445,
          0.00034861082952782134,
          0.0003549431346695424,
          0.00036143076979923584,
          0.0003680821814023933,
          0.0003749057530347609,
          0.0003819097826941399,
          0.00038910246087192385,
          0.00039649184926946677,
          0.0004040858601491727,
          0.0004118922362765322,
          0.00041991853139767155,
          0.0004281720911877682,
          0.0004366600345994768,
          0.00044538923553759597,
          0.0004543663047871274,
          0.00046359757212671124,
          0.00047308906856863286,
          0.00048284650868004323,
          0.0004928752729578666,
          0.0005031803902519269,
          0.0005137665202567286,
          0.0005246379361218931,
          0.0005357985072636782,
          0.0005472516824948482,
          0.0005590004736265182,
          0.0005710474397325506,
          0.0005833946723037378,
          0.0005960437815541621,
          0.000608995884174793,
          0.0006222515928582972,
          0.0006358110079431861,
          0.0006496737115435331,
          0.000663838764541702,
          0.000678304706824732,
          0.000693069561139481,
          0.0007081308409266528,
          0.0007234855624688807,
          0.0007391302616529154,
          0.000755061015600486,
          0.0007712734693668423,
          0.0007877628678406536,
          0.0008045240929045776,
          0.0008215517058333049,
          0.0008388399948163323,
          0.0008563830273976084,
          0.0008741747075249266,
          0.0008922088368005426,
          0.000910479179422514,
          0.0009289795302061527,
          0.0009477037849784302,
          0.0009666460125475991,
          0.0009858005273677283,
          0.0010051619619452497,
          0.0010247253379741185,
          0.001044486135139449,
          0.001064440356498177,
          0.0010845845893307762,
          0.0011049160603614572,
          0.0011254326842662964,
          0.001146133104429966,
          0.0011670167249722657,
          0.0011880837331451032,
          0.0012093351112985133,
          0.0012307726377297186,
          0.0012523988758606677,
          0.0012742171513353971,
          0.0012962315167869998,
          0.0013184467041925411,
          0.001340868064910602,
          0.0013635014976774167,
          0.001386353365021097,
          0.0014094303987362145,
          0.0014327395952398,
          0.0014562881018023476,
          0.0014800830948096429,
          0.0015041316513617377,
          0.0015284406156502136,
          0.0015530164616727354,
          0.0015778651539418455,
          0.001602992007921727,
          0.0016284015519803289,
          0.0016540973926741473,
          0.0016800820851878297,
          0.0017063570107306145,
          0.0017329222626466338,
          0.0017597765429258417,
          0.0017869170707091112,
          0.0018143395042643673,
          0.0018420378777734597,
          0.0018700045541126683,
          0.0018982301946359724,
          0.00192670374678169,
          0.0019554124501221207,
          0.001984341861265796,
          0.0020134758978046278,
          0.0020427969012779003,
          0.0020722857189030028,
          0.0021019218036037067,
          0.002131683331651684,
          0.002161547337030204,
          0.0021914898614319714,
          0.0022214861186188534,
          0.0022515106717020954,
          0.00228153762174907,
          0.0023115408059893082,
          0.0023414940037788205,
          0.0023713711483903718,
          0.0024011465426276254,
          0.0024307950762156327,
          0.002460292442897379,
          0.0024896153551679547,
          0.002518741754603199,
          0.002547651015788025,
          0.002576324141921118,
          0.002604743950265213,
          0.002632895245725629,
          0.002660764980971625,
          0.0026883424016646605,
          0.0027156191755220334,
          0.002742589504122176,
          0.002769250216546039,
          0.002795600844145709,
          0.002821643675933564,
          0.002847383794289841,
          0.0028728290908916283,
          0.002897990262967882,
          0.002922880790180913,
          0.0029475168926221466,
          0.0029719174705854054,
          0.0029961040269425275,
          0.0030201005730911322,
          0.0030439335195703364,
          0.0030676315525458523,
          0.0030912254974489843,
          0.0031147481711139573,
          0.0031382342237936097,
          0.0031617199724446217,
          0.003185243226660436,
          0.0032088431085934813,
          0.0032325598681491184,
          0.003256434694654434,
          0.0032805095261070113,
          0.0033048268569949107,
          0.0033294295455532047,
          0.0033543606211866948,
          0.003379663092647775,
          0.003405379757416083,
          0.00343155301258725,
          0.0034582246674450296,
          0.0034854357577697166,
          0.003513226361828581,
          0.0035416354179055257,
          0.0035707005431607004,
          0.003600457853568113,
          0.0036309417846639627,
          0.0036621849128508615,
          0.003694217777044797,
          0.0037270687005222956,
          0.003760763612924458,
          0.003795325872500189,
          0.0038307760888212973,
          0.0038671319463732894,
          0.003904408029614718,
          0.003942615650298971,
          0.003981762678061716,
          0.004021853375488145,
          0.004062888239080986,
          0.004104863847747679,
          0.00414777272060509,
          0.004191603186059328,
          0.0042363392642474915,
          0.004281960565025275,
          0.004328442203742451,
          0.00437575473706353,
          0.004423864121061232,
          0.004472731693731616,
          0.004522314183952406,
          0.004572563748728294,
          0.004623428040341449,
          0.004674850304752242,
          0.004726769512279767,
          0.004779120521236389,
          0.004831834274801422,
          0.004884838031003476,
          0.004938055625243149,
          0.0049914077643387145,
          0.005044812350622646,
          0.005098184834166178,
          0.005151438590770501,
          0.005204485322945764,
          0.005257235480710133,
          0.005309598698689613,
          0.005361484245691164,
          0.005412801482664621,
          0.0054634603247673,
          0.0055133717031037015,
          0.005562448021636088,
          0.005610603604748814,
          0.005657755131005593,
          0.0057038220487589135,
          0.0057487269694576175,
          0.005792396034745615,
          0.005834759253750867,
          0.005875750807321629,
          0.005915309316372863,
          0.005953378071950993,
          0.005989905225104268,
          0.0060248439351497825,
          0.006058152475448954,
          0.006089794296333745,
          0.006119738045355492,
          0.0061479575455520965,
          0.006174431732935838,
          0.00619914455489021,
          0.0062220848316187505,
          0.006243246083209499,
          0.0062626263252574576,
          0.006280227836321064,
          0.006296056900773062,
          0.006310123530837742,
          0.00632244117178519,
          0.00633302639437465,
          0.006341898578706839,
          0.006349079593655627,
          0.006354593476007405,
          0.006358466113341106,
          0.00636072493453707,
          0.006361398611611149,
          0.006360516776335139,
          0.006358109754829696,
          0.006354208323005474,
          0.0063488434853866006,
          0.006342046279482577,
          0.006333847607484465,
          0.0063242780966546435,
          0.006313367989360277,
          0.006301147063273924,
          0.006287644581836548,
          0.006272889274651108,
          0.006256909347056378,
          0.0062397325177220115,
          0.006221386082714971,
          0.006201897004116153,
          0.006181292020919223,
          0.00615959777962573,
          0.0061368409816648616,
          0.006113048544515495,
          0.006088247773197129,
          0.006062466538626175,
          0.006035733459208319,
          0.006008078081958002,
          0.005979531059403933,
          0.005950124318556518,
          0.005919891218279519,
          0.005888866691523664,
          0.005857087369045264,
          0.00582459168144537,
          0.005791419936623628,
          0.005757614370044108,
          0.005723219165553028,
          0.0056882804448692426,
          0.005652846224281454,
          0.005616966337527443,
          0.005580692324294895,
          0.005544077284264703,
          0.005507175697109274,
          0.005470043209355242,
          0.005432736389513574,
          0.005395312453365177,
          0.005357828961758175,
          0.005320343493719263,
          0.005282913298096745,
          0.005245594927333105,
          0.005208443857302322,
          0.005171514097437039,
          0.005134857795608387,
          0.0050985248424011914,
          0.005062562479547555,
          0.0050270149173388635,
          0.004991922965827735,
          0.004957323684558069,
          0.004923250055421394,
          0.004889730683033771,
          0.004856789526760454,
          0.0048244456681889826,
          0.004792713117469472,
          0.0047616006615069624,
          0.004731111756513227,
          0.004701244466906854,
          0.004671991452001827,
          0.0046433400013499914,
          0.004615272119012947,
          0.004587764656439605,
          0.004560789493027054,
          0.00453431376285256,
          0.0045083001254913385,
          0.004482707078287373,
          0.004457489306930027,
          0.004432598070715567,
          0.004407981618446144,
          0.004383585630546519,
          0.0043593536826648065,
          0.004335227725773638,
          0.004311148577604679,
          0.00428705642013634,
          0.004262891297811836,
          0.004238593611193887,
          0.004214104600862415,
          0.00418936681653055,
          0.0041643245665898745,
          0.004138924343593536,
          0.004113115221542058,
          0.0040868492212442565,
          0.004060081640480111,
          0.004032771346184411,
          0.0040048810263945194,
          0.003976377400252089,
          0.003947231384910401,
          0.0039174182187669436,
          0.0038869175410064898,
          0.0038557134279946655,
          0.0038237943875979188,
          0.0037911533130149822,
          0.0037577873981799997,
          0.003723698017231693,
          0.003688890570930908,
          0.003653374303244695,
          0.003617162091595492,
          0.003580270214494465,
          0.003542718100438351,
          0.00350452806204605,
          0.003465725019445841,
          0.0034263362168973893,
          0.0033863909365458673,
          0.003345920213062086,
          0.0033049565527261573,
          0.0032635336602673103,
          0.003221686176484493,
          0.003179449429347539,
          0.0031368592009225604,
          0.0030939515120858864,
          0.003050762426594464,
          0.003007327875674097,
          0.0029636835038787317,
          0.00291986453656994,
          0.002875905668972838,
          0.002831840976389958,
          0.0027877038448029783,
          0.002743526920770389,
          0.002699342079239803,
          0.002655180407642942,
          0.0026110722044309287,
          0.0025670469900401544,
          0.0025231335281565965,
          0.0024793598550689497,
          0.0024357533148689986,
          0.0023923405982698206,
          0.0023491477828663423,
          0.00230620037275802,
          0.002263523335584138,
          0.0022211411351871764,
          0.002179077758312979,
          0.0021373567339749936,
          0.0020960011443470396,
          0.0020550336263017357,
          0.00201447636297293,
          0.001974351064986614,
          0.001934678941269444,
          0.0018954806596030102,
          0.00185677629734079,
          0.0018185852829385055,
          0.001780926329163818,
          0.0017438173590446514,
          0.001707275425783896,
          0.0016713166280094027,
          0.0016359560218406175,
          0.0016012075313354252,
          0.0015670838589326877,
          0.0015335963975270923,
          0.001500755145804206,
          0.0014685686284262912,
          0.0014370438225944596,
          0.0014061860924232917,
          0.001375999132450821,
          0.0013464849214745122,
          0.0013176436877536226,
          0.0012894738864544562,
          0.0012619721900400966,
          0.0012351334921238371,
          0.0012089509251183544,
          0.00118341589182475,
          0.0011585181109185947,
          0.0011342456761081776,
          0.0011105851285646297,
          0.0010875215420576533,
          0.0010650386200755256,
          0.0010431188040660943,
          0.0010217433918075236,
          0.0010008926648051356,
          0.000980546023514162,
          0.000960682129108359,
          0.0009412790504513573,
          0.0009223144148813686,
          0.0009037655613901347,
          0.0008856096947635454,
          0.0008678240392536721,
          0.0008503859903689398,
          0.00083327326340098,
          0.0008164640373514411,
          0.000799937092979768,
          0.0007836719437621485,
          0.0007676489586321552,
          0.0007518494754633183,
          0.000736255904353177,
          0.0007208518198751442,
          0.0007056220415787893,
          0.0006905527021393366,
          0.0006756313026826303,
          0.0006608467549414175,
          0.0006461894100313999,
          0.00063165107377019,
          0.0006172250085976773,
          0.000602905922291428,
          0.0005886899438039391,
          0.0005745745866789368,
          0.0005605587006296159,
          0.0005466424119818302,
          0.0005328270537977483,
          0.0005191150865994705,
          0.0005055100107059097,
          0.000492016271278407,
          0.0004786391572401531,
          0.0004653846952900044,
          0.0004522595402720885,
          0.0004392708631875853,
          0.0004264262381437314,
          0.00041373352952729084,
          0.0004012007806650068,
          0.0003888361051922632,
          0.0003766475822938076,
          0.00036464315690763527,
          0.00035283054589588383,
          0.0003412171510863597,
          0.0003298099799764718,
          0.0003186155747696858,
          0.00030763995028522644,
          0.0002968885411464415,
          0.0002863661585146602,
          0.00027607695649547564,
          0.00026602440820566156,
          0.0002562112913536192,
          0.0002466396830566749,
          0.00023731096349676248,
          0.00022822582790376915,
          0.00021938430625532997,
          0.00021078578999406857,
          0.0002024290649897959,
          0.00019431234991571465,
          0.00018643333916508063,
          0.00017878924940800952,
          0.0001713768688775954,
          0.0001641926084794142
         ],
         "yaxis": "y"
        }
       ],
       "layout": {
        "barmode": "overlay",
        "hovermode": "closest",
        "legend": {
         "traceorder": "reversed"
        },
        "plot_bgcolor": "#F5F5F8",
        "template": {
         "data": {
          "bar": [
           {
            "error_x": {
             "color": "#2a3f5f"
            },
            "error_y": {
             "color": "#2a3f5f"
            },
            "marker": {
             "line": {
              "color": "#E5ECF6",
              "width": 0.5
             },
             "pattern": {
              "fillmode": "overlay",
              "size": 10,
              "solidity": 0.2
             }
            },
            "type": "bar"
           }
          ],
          "barpolar": [
           {
            "marker": {
             "line": {
              "color": "#E5ECF6",
              "width": 0.5
             },
             "pattern": {
              "fillmode": "overlay",
              "size": 10,
              "solidity": 0.2
             }
            },
            "type": "barpolar"
           }
          ],
          "carpet": [
           {
            "aaxis": {
             "endlinecolor": "#2a3f5f",
             "gridcolor": "white",
             "linecolor": "white",
             "minorgridcolor": "white",
             "startlinecolor": "#2a3f5f"
            },
            "baxis": {
             "endlinecolor": "#2a3f5f",
             "gridcolor": "white",
             "linecolor": "white",
             "minorgridcolor": "white",
             "startlinecolor": "#2a3f5f"
            },
            "type": "carpet"
           }
          ],
          "choropleth": [
           {
            "colorbar": {
             "outlinewidth": 0,
             "ticks": ""
            },
            "type": "choropleth"
           }
          ],
          "contour": [
           {
            "colorbar": {
             "outlinewidth": 0,
             "ticks": ""
            },
            "colorscale": [
             [
              0,
              "#0d0887"
             ],
             [
              0.1111111111111111,
              "#46039f"
             ],
             [
              0.2222222222222222,
              "#7201a8"
             ],
             [
              0.3333333333333333,
              "#9c179e"
             ],
             [
              0.4444444444444444,
              "#bd3786"
             ],
             [
              0.5555555555555556,
              "#d8576b"
             ],
             [
              0.6666666666666666,
              "#ed7953"
             ],
             [
              0.7777777777777778,
              "#fb9f3a"
             ],
             [
              0.8888888888888888,
              "#fdca26"
             ],
             [
              1,
              "#f0f921"
             ]
            ],
            "type": "contour"
           }
          ],
          "contourcarpet": [
           {
            "colorbar": {
             "outlinewidth": 0,
             "ticks": ""
            },
            "type": "contourcarpet"
           }
          ],
          "heatmap": [
           {
            "colorbar": {
             "outlinewidth": 0,
             "ticks": ""
            },
            "colorscale": [
             [
              0,
              "#0d0887"
             ],
             [
              0.1111111111111111,
              "#46039f"
             ],
             [
              0.2222222222222222,
              "#7201a8"
             ],
             [
              0.3333333333333333,
              "#9c179e"
             ],
             [
              0.4444444444444444,
              "#bd3786"
             ],
             [
              0.5555555555555556,
              "#d8576b"
             ],
             [
              0.6666666666666666,
              "#ed7953"
             ],
             [
              0.7777777777777778,
              "#fb9f3a"
             ],
             [
              0.8888888888888888,
              "#fdca26"
             ],
             [
              1,
              "#f0f921"
             ]
            ],
            "type": "heatmap"
           }
          ],
          "heatmapgl": [
           {
            "colorbar": {
             "outlinewidth": 0,
             "ticks": ""
            },
            "colorscale": [
             [
              0,
              "#0d0887"
             ],
             [
              0.1111111111111111,
              "#46039f"
             ],
             [
              0.2222222222222222,
              "#7201a8"
             ],
             [
              0.3333333333333333,
              "#9c179e"
             ],
             [
              0.4444444444444444,
              "#bd3786"
             ],
             [
              0.5555555555555556,
              "#d8576b"
             ],
             [
              0.6666666666666666,
              "#ed7953"
             ],
             [
              0.7777777777777778,
              "#fb9f3a"
             ],
             [
              0.8888888888888888,
              "#fdca26"
             ],
             [
              1,
              "#f0f921"
             ]
            ],
            "type": "heatmapgl"
           }
          ],
          "histogram": [
           {
            "marker": {
             "pattern": {
              "fillmode": "overlay",
              "size": 10,
              "solidity": 0.2
             }
            },
            "type": "histogram"
           }
          ],
          "histogram2d": [
           {
            "colorbar": {
             "outlinewidth": 0,
             "ticks": ""
            },
            "colorscale": [
             [
              0,
              "#0d0887"
             ],
             [
              0.1111111111111111,
              "#46039f"
             ],
             [
              0.2222222222222222,
              "#7201a8"
             ],
             [
              0.3333333333333333,
              "#9c179e"
             ],
             [
              0.4444444444444444,
              "#bd3786"
             ],
             [
              0.5555555555555556,
              "#d8576b"
             ],
             [
              0.6666666666666666,
              "#ed7953"
             ],
             [
              0.7777777777777778,
              "#fb9f3a"
             ],
             [
              0.8888888888888888,
              "#fdca26"
             ],
             [
              1,
              "#f0f921"
             ]
            ],
            "type": "histogram2d"
           }
          ],
          "histogram2dcontour": [
           {
            "colorbar": {
             "outlinewidth": 0,
             "ticks": ""
            },
            "colorscale": [
             [
              0,
              "#0d0887"
             ],
             [
              0.1111111111111111,
              "#46039f"
             ],
             [
              0.2222222222222222,
              "#7201a8"
             ],
             [
              0.3333333333333333,
              "#9c179e"
             ],
             [
              0.4444444444444444,
              "#bd3786"
             ],
             [
              0.5555555555555556,
              "#d8576b"
             ],
             [
              0.6666666666666666,
              "#ed7953"
             ],
             [
              0.7777777777777778,
              "#fb9f3a"
             ],
             [
              0.8888888888888888,
              "#fdca26"
             ],
             [
              1,
              "#f0f921"
             ]
            ],
            "type": "histogram2dcontour"
           }
          ],
          "mesh3d": [
           {
            "colorbar": {
             "outlinewidth": 0,
             "ticks": ""
            },
            "type": "mesh3d"
           }
          ],
          "parcoords": [
           {
            "line": {
             "colorbar": {
              "outlinewidth": 0,
              "ticks": ""
             }
            },
            "type": "parcoords"
           }
          ],
          "pie": [
           {
            "automargin": true,
            "type": "pie"
           }
          ],
          "scatter": [
           {
            "fillpattern": {
             "fillmode": "overlay",
             "size": 10,
             "solidity": 0.2
            },
            "type": "scatter"
           }
          ],
          "scatter3d": [
           {
            "line": {
             "colorbar": {
              "outlinewidth": 0,
              "ticks": ""
             }
            },
            "marker": {
             "colorbar": {
              "outlinewidth": 0,
              "ticks": ""
             }
            },
            "type": "scatter3d"
           }
          ],
          "scattercarpet": [
           {
            "marker": {
             "colorbar": {
              "outlinewidth": 0,
              "ticks": ""
             }
            },
            "type": "scattercarpet"
           }
          ],
          "scattergeo": [
           {
            "marker": {
             "colorbar": {
              "outlinewidth": 0,
              "ticks": ""
             }
            },
            "type": "scattergeo"
           }
          ],
          "scattergl": [
           {
            "marker": {
             "colorbar": {
              "outlinewidth": 0,
              "ticks": ""
             }
            },
            "type": "scattergl"
           }
          ],
          "scattermapbox": [
           {
            "marker": {
             "colorbar": {
              "outlinewidth": 0,
              "ticks": ""
             }
            },
            "type": "scattermapbox"
           }
          ],
          "scatterpolar": [
           {
            "marker": {
             "colorbar": {
              "outlinewidth": 0,
              "ticks": ""
             }
            },
            "type": "scatterpolar"
           }
          ],
          "scatterpolargl": [
           {
            "marker": {
             "colorbar": {
              "outlinewidth": 0,
              "ticks": ""
             }
            },
            "type": "scatterpolargl"
           }
          ],
          "scatterternary": [
           {
            "marker": {
             "colorbar": {
              "outlinewidth": 0,
              "ticks": ""
             }
            },
            "type": "scatterternary"
           }
          ],
          "surface": [
           {
            "colorbar": {
             "outlinewidth": 0,
             "ticks": ""
            },
            "colorscale": [
             [
              0,
              "#0d0887"
             ],
             [
              0.1111111111111111,
              "#46039f"
             ],
             [
              0.2222222222222222,
              "#7201a8"
             ],
             [
              0.3333333333333333,
              "#9c179e"
             ],
             [
              0.4444444444444444,
              "#bd3786"
             ],
             [
              0.5555555555555556,
              "#d8576b"
             ],
             [
              0.6666666666666666,
              "#ed7953"
             ],
             [
              0.7777777777777778,
              "#fb9f3a"
             ],
             [
              0.8888888888888888,
              "#fdca26"
             ],
             [
              1,
              "#f0f921"
             ]
            ],
            "type": "surface"
           }
          ],
          "table": [
           {
            "cells": {
             "fill": {
              "color": "#EBF0F8"
             },
             "line": {
              "color": "white"
             }
            },
            "header": {
             "fill": {
              "color": "#C8D4E3"
             },
             "line": {
              "color": "white"
             }
            },
            "type": "table"
           }
          ]
         },
         "layout": {
          "annotationdefaults": {
           "arrowcolor": "#2a3f5f",
           "arrowhead": 0,
           "arrowwidth": 1
          },
          "autotypenumbers": "strict",
          "coloraxis": {
           "colorbar": {
            "outlinewidth": 0,
            "ticks": ""
           }
          },
          "colorscale": {
           "diverging": [
            [
             0,
             "#8e0152"
            ],
            [
             0.1,
             "#c51b7d"
            ],
            [
             0.2,
             "#de77ae"
            ],
            [
             0.3,
             "#f1b6da"
            ],
            [
             0.4,
             "#fde0ef"
            ],
            [
             0.5,
             "#f7f7f7"
            ],
            [
             0.6,
             "#e6f5d0"
            ],
            [
             0.7,
             "#b8e186"
            ],
            [
             0.8,
             "#7fbc41"
            ],
            [
             0.9,
             "#4d9221"
            ],
            [
             1,
             "#276419"
            ]
           ],
           "sequential": [
            [
             0,
             "#0d0887"
            ],
            [
             0.1111111111111111,
             "#46039f"
            ],
            [
             0.2222222222222222,
             "#7201a8"
            ],
            [
             0.3333333333333333,
             "#9c179e"
            ],
            [
             0.4444444444444444,
             "#bd3786"
            ],
            [
             0.5555555555555556,
             "#d8576b"
            ],
            [
             0.6666666666666666,
             "#ed7953"
            ],
            [
             0.7777777777777778,
             "#fb9f3a"
            ],
            [
             0.8888888888888888,
             "#fdca26"
            ],
            [
             1,
             "#f0f921"
            ]
           ],
           "sequentialminus": [
            [
             0,
             "#0d0887"
            ],
            [
             0.1111111111111111,
             "#46039f"
            ],
            [
             0.2222222222222222,
             "#7201a8"
            ],
            [
             0.3333333333333333,
             "#9c179e"
            ],
            [
             0.4444444444444444,
             "#bd3786"
            ],
            [
             0.5555555555555556,
             "#d8576b"
            ],
            [
             0.6666666666666666,
             "#ed7953"
            ],
            [
             0.7777777777777778,
             "#fb9f3a"
            ],
            [
             0.8888888888888888,
             "#fdca26"
            ],
            [
             1,
             "#f0f921"
            ]
           ]
          },
          "colorway": [
           "#636efa",
           "#EF553B",
           "#00cc96",
           "#ab63fa",
           "#FFA15A",
           "#19d3f3",
           "#FF6692",
           "#B6E880",
           "#FF97FF",
           "#FECB52"
          ],
          "font": {
           "color": "#2a3f5f"
          },
          "geo": {
           "bgcolor": "white",
           "lakecolor": "white",
           "landcolor": "#E5ECF6",
           "showlakes": true,
           "showland": true,
           "subunitcolor": "white"
          },
          "hoverlabel": {
           "align": "left"
          },
          "hovermode": "closest",
          "mapbox": {
           "style": "light"
          },
          "paper_bgcolor": "white",
          "plot_bgcolor": "#E5ECF6",
          "polar": {
           "angularaxis": {
            "gridcolor": "white",
            "linecolor": "white",
            "ticks": ""
           },
           "bgcolor": "#E5ECF6",
           "radialaxis": {
            "gridcolor": "white",
            "linecolor": "white",
            "ticks": ""
           }
          },
          "scene": {
           "xaxis": {
            "backgroundcolor": "#E5ECF6",
            "gridcolor": "white",
            "gridwidth": 2,
            "linecolor": "white",
            "showbackground": true,
            "ticks": "",
            "zerolinecolor": "white"
           },
           "yaxis": {
            "backgroundcolor": "#E5ECF6",
            "gridcolor": "white",
            "gridwidth": 2,
            "linecolor": "white",
            "showbackground": true,
            "ticks": "",
            "zerolinecolor": "white"
           },
           "zaxis": {
            "backgroundcolor": "#E5ECF6",
            "gridcolor": "white",
            "gridwidth": 2,
            "linecolor": "white",
            "showbackground": true,
            "ticks": "",
            "zerolinecolor": "white"
           }
          },
          "shapedefaults": {
           "line": {
            "color": "#2a3f5f"
           }
          },
          "ternary": {
           "aaxis": {
            "gridcolor": "white",
            "linecolor": "white",
            "ticks": ""
           },
           "baxis": {
            "gridcolor": "white",
            "linecolor": "white",
            "ticks": ""
           },
           "bgcolor": "#E5ECF6",
           "caxis": {
            "gridcolor": "white",
            "linecolor": "white",
            "ticks": ""
           }
          },
          "title": {
           "x": 0.05
          },
          "xaxis": {
           "automargin": true,
           "gridcolor": "white",
           "linecolor": "white",
           "ticks": "",
           "title": {
            "standoff": 15
           },
           "zerolinecolor": "white",
           "zerolinewidth": 2
          },
          "yaxis": {
           "automargin": true,
           "gridcolor": "white",
           "linecolor": "white",
           "ticks": "",
           "title": {
            "standoff": 15
           },
           "zerolinecolor": "white",
           "zerolinewidth": 2
          }
         }
        },
        "title": {
         "text": "Real vs. Synthetic Data for column power_smoothed"
        },
        "xaxis": {
         "anchor": "y2",
         "domain": [
          0,
          1
         ],
         "title": {
          "text": "Value"
         },
         "zeroline": false
        },
        "yaxis": {
         "anchor": "free",
         "domain": [
          0,
          1
         ],
         "position": 0,
         "title": {
          "text": "Frequency"
         }
        }
       }
      },
      "text/html": [
       "<div>                            <div id=\"70bf0401-978e-4b39-90da-66f5b9f59841\" class=\"plotly-graph-div\" style=\"height:525px; width:100%;\"></div>            <script type=\"text/javascript\">                require([\"plotly\"], function(Plotly) {                    window.PLOTLYENV=window.PLOTLYENV || {};                                    if (document.getElementById(\"70bf0401-978e-4b39-90da-66f5b9f59841\")) {                    Plotly.newPlot(                        \"70bf0401-978e-4b39-90da-66f5b9f59841\",                        [{\"legendgroup\":\"Real\",\"marker\":{\"color\":\"#000036\"},\"mode\":\"lines\",\"name\":\"Real\",\"showlegend\":true,\"x\":[3.2630269885449703,4.6745712165612945,6.086115444577619,7.497659672593943,8.909203900610267,10.320748128626592,11.732292356642915,13.14383658465924,14.555380812675564,15.966925040691889,17.378469268708216,18.790013496724537,20.20155772474086,21.61310195275719,23.02464618077351,24.436190408789834,25.84773463680616,27.259278864822484,28.67082309283881,30.082367320855127,31.49391154887146,32.905455776887784,34.3170000049041,35.72854423292043,37.14008846093675,38.55163268895308,39.96317691696941,41.37472114498573,42.78626537300205,44.19780960101838,45.609353829034696,47.02089805705102,48.432442285067346,49.84398651308368,51.2555307411,52.66707496911632,54.078619197132646,55.49016342514897,56.90170765316529,58.313251881181614,59.724796109197946,61.13634033721427,62.547884565230596,63.959428793246914,65.37097302126324,66.78251724927956,68.19406147729588,69.6056057053122,71.01714993332853,72.42869416134485,73.84023838936118,75.25178261737751,76.66332684539384,78.07487107341015,79.48641530142648,80.8979595294428,82.30950375745913,83.72104798547545,85.13259221349178,86.5441364415081,87.95568066952441,89.36722489754074,90.77876912555706,92.19031335357339,93.60185758158971,95.01340180960604,96.42494603762238,97.8364902656387,99.24803449365503,100.65957872167134,102.07112294968766,103.48266717770399,104.89421140572031,106.30575563373664,107.71729986175296,109.12884408976929,110.5403883177856,111.95193254580192,113.36347677381825,114.77502100183457,116.18656522985091,117.59810945786724,119.00965368588356,120.42119791389989,121.83274214191621,123.24428636993252,124.65583059794885,126.06737482596517,127.4789190539815,128.89046328199782,130.30200751001416,131.71355173803047,133.12509596604679,134.53664019406312,135.94818442207944,137.35972865009578,138.7712728781121,140.1828171061284,141.59436133414474,143.00590556216105,144.4174497901774,145.8289940181937,147.24053824621006,148.65208247422638,150.06362670224271,151.47517093025903,152.88671515827534,154.29825938629168,155.709803614308,157.12134784232433,158.53289207034064,159.94443629835698,161.3559805263733,162.7675247543896,164.17906898240594,165.59061321042225,167.0021574384386,168.4137016664549,169.82524589447124,171.23679012248755,172.64833435050386,174.0598785785202,175.4714228065365,176.88296703455285,178.29451126256916,179.7060554905855,181.1175997186018,182.52914394661815,183.94068817463446,185.35223240265077,186.7637766306671,188.17532085868345,189.5868650866998,190.9984093147161,192.40995354273244,193.82149777074875,195.2330419987651,196.6445862267814,198.0561304547977,199.46767468281405,200.87921891083036,202.2907631388467,203.702307366863,205.11385159487935,206.52539582289566,207.93694005091197,209.3484842789283,210.76002850694462,212.17157273496096,213.58311696297727,214.9946611909936,216.40620541900992,217.81774964702623,219.22929387504257,220.64083810305888,222.05238233107522,223.46392655909153,224.87547078710787,226.28701501512418,227.69855924314052,229.11010347115686,230.52164769917317,231.9331919271895,233.34473615520582,234.75628038322216,236.16782461123847,237.5793688392548,238.99091306727112,240.40245729528746,241.81400152330377,243.22554575132008,244.63708997933642,246.04863420735273,247.46017843536907,248.87172266338538,250.28326689140172,251.69481111941803,253.10635534743435,254.51789957545068,255.929443803467,257.34098803148333,258.7525322594997,260.164076487516,261.57562071553235,262.98716494354863,264.398709171565,265.8102533995813,267.2217976275976,268.63334185561393,270.0448860836303,271.4564303116466,272.8679745396629,274.27951876767924,275.6910629956956,277.10260722371186,278.5141514517282,279.92569567974454,281.3372399077609,282.74878413577716,284.1603283637935,285.57187259180984,286.9834168198261,288.39496104784246,289.80650527585885,291.2180495038752,292.6295937318915,294.0411379599078,295.45268218792415,296.8642264159405,298.2757706439568,299.6873148719731,301.09885909998945,302.51040332800574,303.9219475560221,305.3334917840384,306.74503601205475,308.15658024007104,309.5681244680874,310.9796686961037,312.39121292412,313.80275715213634,315.2143013801527,316.625845608169,318.0373898361853,319.44893406420164,320.860478292218,322.27202252023426,323.6835667482506,325.09511097626694,326.5066552042833,327.91819943229956,329.3297436603159,330.74128788833224,332.1528321163485,333.56437634436486,334.9759205723812,336.38746480039754,337.7990090284138,339.21055325643016,340.6220974844465,342.0336417124628,343.4451859404791,344.85673016849546,346.2682743965118,347.6798186245281,349.0913628525444,350.50290708056076,351.9144513085771,353.3259955365934,354.7375397646097,356.14908399262606,357.56062822064234,358.9721724486587,360.383716676675,361.79526090469136,363.20680513270764,364.618349360724,366.0298935887403,367.4414378167566,368.85298204477294,370.2645262727893,371.6760705008057,373.08761472882196,374.4991589568383,375.91070318485464,377.3222474128709,378.73379164088726,380.1453358689036,381.55688009691994,382.9684243249362,384.37996855295256,385.7915127809689,387.20305700898524,388.6146012370015,390.02614546501786,391.4376896930342,392.8492339210505,394.2607781490668,395.67232237708316,397.0838666050995,398.4954108331158,399.9069550611321,401.31849928914846,402.73004351716475,404.1415877451811,405.5531319731974,406.96467620121376,408.37622042923005,409.7877646572464,411.1993088852627,412.610853113279,414.02239734129535,415.4339415693117,416.845485797328,418.2570300253443,419.66857425336065,421.080118481377,422.49166270939327,423.9032069374096,425.31475116542595,426.7262953934423,428.13783962145857,429.5493838494749,430.96092807749125,432.37247230550753,433.78401653352387,435.1955607615402,436.60710498955655,438.01864921757283,439.43019344558917,440.8417376736055,442.25328190162185,443.66482612963813,445.07637035765447,446.4879145856708,447.8994588136871,449.31100304170343,450.72254726971977,452.1340914977361,453.5456357257524,454.9571799537688,456.3687241817851,457.7802684098014,459.19181263781775,460.6033568658341,462.0149010938504,463.4264453218667,464.83798954988305,466.2495337778994,467.66107800591567,469.072622233932,470.48416646194835,471.8957106899647,473.30725491798097,474.7187991459973,476.13034337401365,477.54188760203,478.95343183004627,480.3649760580626,481.77652028607895,483.18806451409523,484.59960874211157,486.0111529701279,487.42269719814425,488.83424142616053,490.24578565417687,491.6573298821932,493.0688741102095,494.48041833822583,495.89196256624217,497.3035067942585,498.7150510222748,500.12659525029113,501.53813947830747,502.94968370632375,504.3612279343401,505.77277216235643,507.18431639037277,508.59586061838905,510.0074048464054,511.41894907442173,512.830493302438,514.2420375304544,515.6535817584708,517.065125986487,518.4766702145033,519.8882144425197,521.299758670536,522.7113028985523,524.1228471265687,525.534391354585,526.9459355826014,528.3574798106176,529.7690240386339,531.1805682666502,532.5921124946666,534.0036567226829,535.4152009506992,536.8267451787156,538.2382894067318,539.6498336347482,541.0613778627645,542.4729220907808,543.8844663187972,545.2960105468135,546.7075547748298,548.1190990028462,549.5306432308624,550.9421874588787,552.3537316868951,553.7652759149114,555.1768201429278,556.5883643709441,557.9999085989604,559.4114528269768,560.822997054993,562.2345412830093,563.6460855110257,565.057629739042,566.4691739670583,567.8807181950747,569.292262423091,570.7038066511072,572.1153508791236,573.5268951071399,574.9384393351564,576.3499835631727,577.761527791189,579.1730720192054,580.5846162472217,581.996160475238,583.4077047032544,584.8192489312706,586.2307931592869,587.6423373873033,589.0538816153196,590.465425843336,591.8769700713523,593.2885142993686,594.700058527385,596.1116027554012,597.5231469834175,598.9346912114339,600.3462354394502,601.7577796674665,603.1693238954829,604.5808681234992,605.9924123515154,607.4039565795318,608.8155008075481,610.2270450355645,611.6385892635808,613.0501334915971,614.4616777196135,615.8732219476298,617.284766175646,618.6963104036624,620.1078546316787,621.519398859695,622.9309430877114,624.3424873157277,625.754031543744,627.1655757717604,628.5771199997766,629.988664227793,631.4002084558093,632.8117526838256,634.223296911842,635.6348411398583,637.0463853678746,638.457929595891,639.8694738239072,641.2810180519235,642.6925622799399,644.1041065079562,645.5156507359726,646.9271949639889,648.3387391920052,649.7502834200216,651.1618276480378,652.5733718760541,653.9849161040705,655.3964603320868,656.8080045601031,658.2195487881195,659.6310930161358,661.042637244152,662.4541814721684,663.8657257001847,665.2772699282011,666.6888141562174,668.1003583842337,669.5119026122501,670.9234468402664,672.3349910682826,673.746535296299,675.1580795243153,676.5696237523316,677.981167980348,679.3927122083643,680.8042564363806,682.215800664397,683.6273448924132,685.0388891204296,686.4504333484459,687.8619775764622,689.2735218044786,690.6850660324949,692.0966102605112,693.5081544885276,694.9196987165438,696.3312429445601,697.7427871725765,699.1543314005928,700.5658756286092,701.9774198566255,703.3889640846418,704.8005083126582,706.2120525406744,707.6235967686907],\"xaxis\":\"x\",\"y\":[0.00012047550502187506,0.00012340894022131778,0.00012572537728214892,0.00012739633997761705,0.00012840478611599027,0.00012874553844533198,0.00012842537119440124,0.00012746275110507287,0.00012588724524311806,0.000123738620426784,0.00012106567019592514,0.00011792481438294733,0.00011437852320390901,0.00011049362217804329,0.0001063395360713934,0.00010198652954852128,9.750399952611834e-05,9.295886966415581e-05,8.841413137253383e-05,8.392756854924434e-05,7.955069539282051e-05,7.532792841422363e-05,7.129600553493418e-05,6.748365716927873e-05,6.391152666413263e-05,6.059233056909934e-05,5.7531243050193865e-05,5.472648341882663e-05,5.217008127817203e-05,4.984879022589124e-05,4.774511841899623e-05,4.5838442617395234e-05,4.410617158085889e-05,4.252492488872239e-05,4.107169435097396e-05,3.972495712494534e-05,3.846571235297929e-05,3.7278416467956006e-05,3.615179611686931e-05,3.507952174176804e-05,3.406072902933277e-05,3.310037948961712e-05,3.2209455160256723e-05,3.140498569707669e-05,3.0709908798446125e-05,3.015276697684931e-05,2.9767245169128727e-05,2.9591554675571284e-05,2.9667669617570796e-05,3.0040422741623388e-05,3.0756468247408534e-05,3.186312066096674e-05,3.3407080867027566e-05,3.543306345497509e-05,3.7982343626912166e-05,4.109124705101868e-05,4.478961206807258e-05,4.9099260276867305e-05,5.403251829807591e-05,5.9590839887969045e-05,6.576358289868176e-05,7.252699917578922e-05,7.984349667845001e-05,8.766123131232488e-05,9.591408073182748e-05,0.00010452204344552292,0.00011339209394156143,0.00012241950851005334,0.00013148965753421042,0.00014048023908404172,0.00014926390674517998,0.00015771122299878946,0.0001656938494831884,0.0001730878684660437,0.00017977711709499895,0.0001856564085368941,0.00019063451273885524,0.0001946367746682871,0.00019760725952702152,0.00019951033217681518,0.00020033160103732255,0.0002000781838366649,0.00019877828233162456,0.00019648008380048648,0.0001932500370005924,0.00018917057767256143,0.00018433740202335785,0.00017885640465728045,0.00017284040922457155,0.00016640582510597657,0.00015966936166452377,0.00015274492331363918,0.00014574079459967525,0.00013875720572351232,0.00013188434671133437,0.00012520087420699906,0.00011877293005040521,0.00011265366681769608,0.00010688325357066299,0.00010148931621689181,9.648775187594307e-05,9.188384594666856e-05,8.76736143505938e-05,8.384529158575125e-05,8.03808874245774e-05,7.725774079616777e-05,7.445000793649535e-05,7.19300325170733e-05,6.966955739154865e-05,6.764075006944766e-05,6.581702633551155e-05,6.417366797151543e-05,6.268824080695813e-05,6.13408279512269e-05,6.011409979610165e-05,5.899324710169366e-05,5.7965806185435234e-05,5.7021406021130415e-05,5.6151466111271e-05,5.534887158127219e-05,5.460764837372919e-05,5.3922657044097694e-05,5.328931884150386e-05,5.2703382860119184e-05,5.2160738403693735e-05,5.165727261144666e-05,5.118877008112574e-05,5.0750848855444045e-05,5.0338925790319214e-05,4.994820399094991e-05,4.957367559519765e-05,4.921013453882602e-05,4.885219582965354e-05,4.8494320022944526e-05,4.813084374665917e-05,4.775601899885315e-05,4.7364065289792415e-05,4.6949239342579346e-05,4.650592688527635e-05,4.602876003546544e-05,4.551276195310791e-05,4.4953517960726015e-05,4.4347369413624935e-05,4.3691623511882044e-05,4.298476927395302e-05,4.222668733564795e-05,4.141883937097716e-05,4.056442197802746e-05,3.966846999053538e-05,3.873789543874406e-05,3.778145077652326e-05,3.6809608411461036e-05,3.58343528349102e-05,3.4868886496254265e-05,3.3927255697490825e-05,3.3023907871352124e-05,3.217319631596436e-05,3.1388852478455324e-05,3.068344893633203e-05,3.006787810394816e-05,2.955087224759992e-05,2.913858956073148e-05,2.8834288845480573e-05,2.8638111862256324e-05,2.854698781132595e-05,2.8554668927426723e-05,2.865190007672714e-05,2.8826718854821892e-05,2.906487632144761e-05,2.935036249877532e-05,2.9666015415460172e-05,2.9994188076123175e-05,3.0317444507904983e-05,3.061925415722851e-05,3.08846534899651e-05,3.110084472414698e-05,3.125770415958121e-05,3.134817645398056e-05,3.136853625365987e-05,3.1318504582317166e-05,3.12012140399561e-05,3.102302384777445e-05,3.079319275788101e-05,3.0523424491649634e-05,3.022730635539063e-05,2.9919666716152992e-05,2.961588085878941e-05,2.9331157200284776e-05,2.9079836787484682e-05,2.887473840038693e-05,2.8726579449680887e-05,2.8643499291389002e-05,2.8630706748247825e-05,2.8690267751908076e-05,2.882104237693649e-05,2.9018773439085214e-05,2.9276321611753883e-05,2.9584035019583936e-05,2.993023483284641e-05,3.0301792823919664e-05,3.0684772433094876e-05,3.1065101849198774e-05,3.1429246102017095e-05,3.1764845276927455e-05,3.20612877078609e-05,3.231019031218163e-05,3.25057629502969e-05,3.264503959976773e-05,3.272796593991345e-05,3.275734030881012e-05,3.2738612546081055e-05,3.2679552582466855e-05,3.2589807396544034e-05,3.248037077203493e-05,3.236299484419809e-05,3.224957547358562e-05,3.2151544862233054e-05,3.207930445357212e-05,3.204172905158764e-05,3.204576937210191e-05,3.209617510615645e-05,3.219535431983459e-05,3.2343377989642135e-05,3.2538131076840766e-05,3.277560420035103e-05,3.3050313097275025e-05,3.335582705786327e-05,3.368538273289621e-05,3.403255640940384e-05,3.439196621957743e-05,3.4759975869898437e-05,3.5135373326612315e-05,3.552000133474296e-05,3.591932144401944e-05,3.634289904102171e-05,3.680480334815242e-05,3.732392300769294e-05,3.792420426755267e-05,3.86348244819037e-05,3.9490318235125084e-05,4.0530676562263725e-05,4.180144123847006e-05,4.335381582030865e-05,4.524481304261757e-05,4.7537454429886044e-05,5.030103281441451e-05,5.361144221372899e-05,5.755157264010503e-05,6.221176038622587e-05,6.769027766985817e-05,7.409383973706123e-05,8.153810308814214e-05,9.014812580300256e-05,0.00010005876030501271,0.00011141495049875922,0.0001243719090969265,0.00013909515702376681,0.00015576041481286102,0.00017455334553393508,0.00019566915949031263,0.00021931210211906146,0.00024569485750642787,0.0002750379099458771,0.0003075689142269905,0.00034352213106374083,0.0003831379865030579,0.00042666281263285566,0.00047434882089443693,0.0005264543484348156,0.0005832444020732908,0.0006449915037405114,0.0007119768161289477,0.0007844914985689843,0.0008628382119719611,0.0009473326595701024,0.0010383050189598432,0.001136101092698707,0.0012410829816504848,0.00135362906968279,0.0014741331023358359,0.0016030021475517194,0.0017406532448672103,0.0018875085813887518,0.002043989078379741,0.0022105063305217867,0.0023874529090775008,0.0025751911176011867,0.002774040371029512,0.00298426345180581,0.00320605197559855,0.003439511469473812,0.0036846465225469256,0.0039413465091382984,0.004209372404055029,0.0044883452066430286,0.004777736463798189,0.005076861332663664,0.005384874553146383,0.005700769611839003,0.006023381276732467,0.006351391571391844,0.006683339143674907,0.007017631873344106,0.007352562460509351,0.007686326647532745,0.008017043654638636,0.008342778356600845,0.008661564695773198,0.008971429815266265,0.00927041840385473,0.00955661676873496,0.009828176190245709,0.010083335160330668,0.010320440159955582,0.010537964686194891,0.01073452629409789,0.010908901469287286,0.011060038192982418,0.011187066101137602,0.011289304173866636,0.01136626592122674,0.011417662058187889,0.01144340068688507,0.011443585029667932,0.011418508783371832,0.011368649194479547,0.011294657986648629,0.011197350305977178,0.01107769188425457,0.010936784654631933,0.010775851085622899,0.01059621752593849,0.010399296872287534,0.01018657088317981,0.009959572462713409,0.009719868228726745,0.009469041659703067,0.009208677085311874,0.008940344747999387,0.00866558711966564,0.008385906610593189,0.00810275475997269,0.007817522951063891,0.007531534651438553,0.007246039141633891,0.006962206665116886,0.006681124909332813,0.006403796711791632,0.006131138876090481,0.005863981979490834,0.005603071054857272,0.0053490670339610144,0.005102548844887892,0.004864016062250829,0.004633892014042755,0.004412527252598252,0.004200203298990983,0.003997136570443571,0.003803482399520108,0.003619339052887254,0.0034447516573696615,0.003279715943081716,0.003124181718745441,0.0029780560038752896,0.002841205756985463,0.002713460158604649,0.0025946124324217534,0.0024844212165708,0.0023826115286111156,0.002288875400435368,0.0022028722910454428,0.0021242294135662147,0.0020525421356607856,0.0019873746274513605,0.0019282609362530484,0.0018747066615181945,0.0018261913856523018,0.0017821719868538373,0.0017420869197264431,0.001705361499808004,0.0016714141717968217,0.0016396636811870614,0.0016095370087388964,0.0015804778703951087,0.0015519555355609004,0.001523473677436345,0.0014945789431393777,0.001464868920746987,0.0014339991862763182,0.0014016891361963504,0.0013677263494564222,0.001331969275423191,0.0012943481078630415,0.0012548637768426468,0.0012135850663375037,0.0011706439414130958,0.0011262292410932646,0.0010805789577594547,0.001033971377939644,0.0009867154001370732,0.0009391403712105818,0.0008915857929200547,0.000844391244641844,0.0007978868478256306,0.0007523845641270287,0.0007081705745331407,0.0006654989338634186,0.0006245866366988054,0.000585610170076049,0.0005487035681013907,0.0005139579266762659,0.0004814222851162046,0.00045110573746511733,0.00042298060113813113,0.00039698644501566467,0.0003730347635865044,0.0003510140780366705,0.00033079524870924644,0.0003122367951602665,0.0002951900388689779,0.00027950390809191656,0.0002650292728343839,0.0002516227088746567,0.00023914962168448262,0.00022748669251985567,0.0002165236386440025,0.00020616430652395642,0.00019632714007395175,0.00018694508500525643,0.0001779650047303446,0.00016934669294478227,0.00016106157307898796,0.00015309117557594108,0.00014542548087544203,0.00013806120966230253,0.0001310001330422866,0.00012424746456709407,0.00011781038416239779,0.00011169673171024399,0.00010591389592030986,0.0001004679127205083,9.536277712073618e-05,9.05999636464116e-05,8.617814317042666e-05,8.209307834796393e-05,7.833767583307743e-05,7.490217090445858e-05,7.1774418870346e-05,6.89402674481804e-05,6.638398500521577e-05,6.408872089619059e-05,6.203697596503176e-05,6.0211063447189224e-05,5.859354291380813e-05,5.716761246968245e-05,5.5917447111813244e-05,5.482847394793396e-05,5.3887577841394275e-05,5.3083233959068136e-05,5.2405566604457516e-05,5.184633654962505e-05,5.1398861746660864e-05,5.105787869581826e-05,5.0819353760450535e-05,5.0680255241432464e-05,5.063829796821507e-05,5.069167247468792e-05,5.083877049290712e-05,5.107791755257641e-05,5.140712200475408e-05,5.182384792519632e-05,5.232481726112768e-05,5.290584444966376e-05,5.356170474293925e-05,5.428603579334829e-05,5.5071270816401804e-05,5.590860094331057e-05,5.678796422620289e-05,5.7698059129067056e-05,5.862638113092349e-05,5.955928213856999e-05,6.048205357415457e-05,6.137903507203096e-05,6.223375149963871e-05,6.302908134470844e-05,6.374745926681162e-05,6.437111473473533e-05,6.48823471688072e-05,6.526383595395654e-05,6.549898122287924e-05,6.557226861867924e-05,6.546964855717299e-05,6.517891805990028e-05,6.469009125222394e-05,6.399574332130403e-05,6.309131226437063e-05,6.19753432258776e-05,6.064966165018762e-05,5.911946381888603e-05,5.7393316483384575e-05],\"yaxis\":\"y\",\"type\":\"scatter\",\"fill\":\"tozeroy\",\"hovertemplate\":\"\\u003cb\\u003eReal\\u003c\\u002fb\\u003e\\u003cbr\\u003eValue: %{x}\\u003cbr\\u003eFrequency: %{y}\\u003cextra\\u003e\\u003c\\u002fextra\\u003e\"},{\"legendgroup\":\"Synthetic\",\"marker\":{\"color\":\"#01E0C9\"},\"mode\":\"lines\",\"name\":\"Synthetic\",\"showlegend\":true,\"x\":[265.98645038223094,266.72310220419575,267.45975402616057,268.1964058481254,268.9330576700902,269.669709492055,270.40636131401976,271.1430131359846,271.8796649579494,272.6163167799142,273.352968601879,274.0896204238438,274.82627224580864,275.56292406777345,276.29957588973826,277.0362277117031,277.7728795336679,278.5095313556327,279.24618317759746,279.9828349995623,280.7194868215271,281.4561386434919,282.1927904654567,282.9294422874215,283.66609410938634,284.40274593135115,285.13939775331596,285.8760495752808,286.6127013972456,287.34935321921034,288.08600504117516,288.82265686313997,289.5593086851048,290.2959605070696,291.0326123290344,291.7692641509992,292.50591597296403,293.24256779492885,293.97921961689366,294.71587143885847,295.4525232608232,296.18917508278804,296.92582690475285,297.66247872671767,298.3991305486825,299.1357823706473,299.8724341926121,300.6090860145769,301.34573783654173,302.08238965850654,302.81904148047136,303.5556933024361,304.2923451244009,305.02899694636574,305.76564876833055,306.50230059029536,307.2389524122602,307.975604234225,308.7122560561898,309.4489078781546,310.1855597001194,310.92221152208424,311.65886334404905,312.39551516601387,313.1321669879786,313.86881880994343,314.60547063190825,315.34212245387306,316.0787742758379,316.8154260978027,317.5520779197675,318.2887297417323,319.0253815636971,319.7620333856619,320.4986852076267,321.2353370295915,321.9719888515563,322.70864067352113,323.44529249548594,324.18194431745076,324.91859613941557,325.6552479613804,326.3918997833452,327.12855160531,327.8652034272748,328.60185524923963,329.3385070712044,330.07515889316926,330.811810715134,331.5484625370988,332.28511435906364,333.02176618102845,333.75841800299327,334.4950698249581,335.2317216469229,335.96837346888765,336.7050252908525,337.4416771128173,338.1783289347821,338.9149807567469,339.6516325787117,340.3882844006765,341.12493622264134,341.86158804460615,342.59823986657096,343.3348916885358,344.07154351050053,344.8081953324654,345.54484715443016,346.281498976395,347.0181507983598,347.7548026203246,348.4914544422894,349.2281062642542,349.96475808621904,350.70140990818385,351.43806173014866,352.1747135521135,352.9113653740783,353.64801719604304,354.3846690180079,355.12132083997267,355.8579726619375,356.5946244839023,357.3312763058671,358.0679281278319,358.80457994979673,359.54123177176155,360.27788359372636,361.01453541569117,361.7511872376559,362.4878390596208,363.22449088158555,363.96114270355037,364.6977945255152,365.43444634748,366.1710981694448,366.9077499914096,367.64440181337443,368.38105363533924,369.11770545730406,369.8543572792688,370.5910091012337,371.32766092319844,372.06431274516325,372.80096456712806,373.5376163890929,374.2742682110577,375.0109200330225,375.7475718549873,376.4842236769521,377.22087549891694,377.9575273208817,378.69417914284656,379.4308309648113,380.1674827867762,380.90413460874095,381.64078643070576,382.3774382526706,383.1140900746354,383.8507418966002,384.587393718565,385.3240455405298,386.06069736249464,386.79734918445945,387.5340010064242,388.2706528283891,389.00730465035383,389.74395647231864,390.48060829428346,391.21726011624827,391.9539119382131,392.6905637601779,393.4272155821427,394.1638674041075,394.90051922607233,395.6371710480371,396.37382287000196,397.1104746919667,397.8471265139316,398.58377833589634,399.3204301578612,400.05708197982597,400.7937338017908,401.5303856237556,402.2670374457204,403.0036892676852,403.74034108965,404.47699291161484,405.2136447335796,405.9502965555444,406.6869483775092,407.42360019947404,408.16025202143885,408.89690384340366,409.6335556653685,410.37020748733323,411.1068593092981,411.84351113126286,412.5801629532277,413.3168147751925,414.05346659715735,414.7901184191221,415.5267702410869,416.26342206305173,417.00007388501655,417.73672570698136,418.4733775289462,419.210029350911,419.94668117287574,420.6833329948406,421.41998481680537,422.1566366387702,422.893288460735,423.6299402826998,424.3665921046646,425.10324392662943,425.83989574859424,426.57654757055906,427.31319939252387,428.0498512144887,428.7865030364535,429.52315485841825,430.2598066803831,430.9964585023479,431.7331103243127,432.4697621462775,433.2064139682423,433.94306579020713,434.67971761217194,435.41636943413675,436.1530212561015,436.8896730780664,437.62632490003114,438.362976721996,439.09962854396076,439.83628036592563,440.5729321878904,441.3095840098552,442.04623583182,442.7828876537848,443.51953947574964,444.25619129771445,444.99284311967926,445.729494941644,446.4661467636089,447.20279858557365,447.93945040753846,448.6761022295033,449.4127540514681,450.1494058734329,450.88605769539765,451.6227095173625,452.3593613393273,453.09601316129215,453.8326649832569,454.5693168052218,455.30596862718653,456.0426204491514,456.77927227111616,457.51592409308097,458.2525759150458,458.9892277370106,459.7258795589754,460.46253138094016,461.19918320290503,461.9358350248698,462.67248684683466,463.4091386687994,464.1457904907643,464.88244231272904,465.6190941346939,466.35574595665867,467.0923977786235,467.8290496005883,468.5657014225531,469.3023532445179,470.03900506648273,470.77565688844754,471.5123087104123,472.24896053237717,472.9856123543419,473.72226417630674,474.45891599827155,475.19556782023636,475.9322196422012,476.66887146416593,477.4055232861308,478.14217510809556,478.8788269300604,479.6154787520252,480.35213057399005,481.0887823959548,481.8254342179197,482.56208603988443,483.29873786184925,484.03538968381406,484.7720415057789,485.5086933277437,486.24534514970844,486.9819969716733,487.71864879363807,488.4553006156029,489.1919524375677,489.9286042595325,490.6652560814973,491.4019079034622,492.13855972542694,492.87521154739176,493.61186336935657,494.3485151913214,495.0851670132862,495.821818835251,496.5584706572158,497.2951224791806,498.0317743011454,498.7684261231102,499.505077945075,500.2417297670398,500.97838158900464,501.71503341096945,502.4516852329342,503.1883370548991,503.92498887686384,504.6616406988287,505.39829252079346,506.13494434275833,506.8715961647231,507.6082479866879,508.3448998086527,509.0815516306175,509.81820345258234,510.55485527454715,511.29150709651196,512.0281589184767,512.7648107404416,513.5014625624063,514.2381143843711,514.974766206336,515.7114180283008,516.4480698502656,517.1847216722304,517.9213734941952,518.65802531616,519.3946771381248,520.1313289600896,520.8679807820545,521.6046326040192,522.3412844259841,523.0779362479489,523.8145880699137,524.5512398918785,525.2878917138432,526.0245435358081,526.761195357773,527.4978471797377,528.2344990017025,528.9711508236674,529.7078026456322,530.444454467597,531.1811062895617,531.9177581115266,532.6544099334915,533.3910617554561,534.127713577421,534.8643653993859,535.6010172213506,536.3376690433154,537.0743208652802,537.810972687245,538.5476245092099,539.2842763311746,540.0209281531395,540.7575799751042,541.494231797069,542.2308836190339,542.9675354409987,543.7041872629634,544.4408390849283,545.1774909068931,545.9141427288579,546.6507945508226,547.3874463727875,548.1240981947524,548.8607500167171,549.5974018386819,550.3340536606468,551.0707054826116,551.8073573045764,552.5440091265411,553.280660948506,554.0173127704709,554.7539645924355,555.4906164144004,556.2272682363653,556.96392005833,557.7005718802948,558.4372237022596,559.1738755242245,559.9105273461893,560.647179168154,561.3838309901189,562.1204828120838,562.8571346340484,563.5937864560133,564.3304382779781,565.0670900999429,565.8037419219077,566.5403937438725,567.2770455658374,568.0136973878022,568.7503492097669,569.4870010317318,570.2236528536966,570.9603046756614,571.6969564976262,572.433608319591,573.1702601415559,573.9069119635205,574.6435637854854,575.3802156074503,576.116867429415,576.8535192513798,577.5901710733447,578.3268228953094,579.0634747172743,579.800126539239,580.5367783612039,581.2734301831687,582.0100820051335,582.7467338270983,583.4833856490632,584.2200374710279,584.9566892929927,585.6933411149575,586.4299929369223,587.1666447588872,587.9032965808519,588.6399484028168,589.3766002247816,590.1132520467464,590.8499038687112,591.586555690676,592.3232075126408,593.0598593346056,593.7965111565704,594.5331629785353,595.2698148005,596.0064666224648,596.7431184444297,597.4797702663944,598.2164220883592,598.9530739103241,599.6897257322889,600.4263775542537,601.1630293762184,601.8996811981833,602.6363330201482,603.3729848421129,604.1096366640777,604.8462884860426,605.5829403080074,606.3195921299721,607.056243951937,607.7928957739018,608.5295475958666,609.2661994178313,610.0028512397962,610.7395030617611,611.4761548837258,612.2128067056906,612.9494585276555,613.6861103496203,614.422762171585,615.1594139935498,615.8960658155147,616.6327176374795,617.3693694594442,618.1060212814091,618.8426731033738,619.5793249253387,620.3159767473035,621.0526285692683,621.7892803912332,622.525932213198,623.2625840351627,623.9992358571276,624.7358876790925,625.4725395010571,626.209191323022,626.9458431449868,627.6824949669516,628.4191467889164,629.1557986108812,629.892450432846,630.6291022548108,631.3657540767756,632.1024058987405,632.8390577207052,633.57570954267],\"xaxis\":\"x\",\"y\":[0.00015411052517567023,0.0001589943905992703,0.00016389021236759286,0.00016879431285815293,0.00017370335567304675,0.00017861437256513836,0.00018352478794975225,0.00018843244087160142,0.0001933356043232719,0.00019823300183782503,0.00020312382130361918,0.00020800772597401838,0.0002128848626680135,0.00021775586717970226,0.000222621866934986,0.0002274844809525706,0.00023234581718344273,0.00023720846731836338,0.0002420754991666185,0.0002469504467213825,0.0002518372980375679,0.0002567404810571608,0.0002616648475246984,0.0002666156551419879,0.0002715985481162982,0.00027661953626026924,0.0002816849728045925,0.0002868015310862559,0.00029197618027568294,0.0002972161603055091,0.0003025289561619489,0.0003079222716965851,0.0003134040031120917,0.0003189822122695514,0.0003246650999578947,0.0003304609792572631,0.0003363782491180151,0.00034242536826550445,0.00034861082952782134,0.0003549431346695424,0.00036143076979923584,0.0003680821814023933,0.0003749057530347609,0.0003819097826941399,0.00038910246087192385,0.00039649184926946677,0.0004040858601491727,0.0004118922362765322,0.00041991853139767155,0.0004281720911877682,0.0004366600345994768,0.00044538923553759597,0.0004543663047871274,0.00046359757212671124,0.00047308906856863286,0.00048284650868004323,0.0004928752729578666,0.0005031803902519269,0.0005137665202567286,0.0005246379361218931,0.0005357985072636782,0.0005472516824948482,0.0005590004736265182,0.0005710474397325506,0.0005833946723037378,0.0005960437815541621,0.000608995884174793,0.0006222515928582972,0.0006358110079431861,0.0006496737115435331,0.000663838764541702,0.000678304706824732,0.000693069561139481,0.0007081308409266528,0.0007234855624688807,0.0007391302616529154,0.000755061015600486,0.0007712734693668423,0.0007877628678406536,0.0008045240929045776,0.0008215517058333049,0.0008388399948163323,0.0008563830273976084,0.0008741747075249266,0.0008922088368005426,0.000910479179422514,0.0009289795302061527,0.0009477037849784302,0.0009666460125475991,0.0009858005273677283,0.0010051619619452497,0.0010247253379741185,0.001044486135139449,0.001064440356498177,0.0010845845893307762,0.0011049160603614572,0.0011254326842662964,0.001146133104429966,0.0011670167249722657,0.0011880837331451032,0.0012093351112985133,0.0012307726377297186,0.0012523988758606677,0.0012742171513353971,0.0012962315167869998,0.0013184467041925411,0.001340868064910602,0.0013635014976774167,0.001386353365021097,0.0014094303987362145,0.0014327395952398,0.0014562881018023476,0.0014800830948096429,0.0015041316513617377,0.0015284406156502136,0.0015530164616727354,0.0015778651539418455,0.001602992007921727,0.0016284015519803289,0.0016540973926741473,0.0016800820851878297,0.0017063570107306145,0.0017329222626466338,0.0017597765429258417,0.0017869170707091112,0.0018143395042643673,0.0018420378777734597,0.0018700045541126683,0.0018982301946359724,0.00192670374678169,0.0019554124501221207,0.001984341861265796,0.0020134758978046278,0.0020427969012779003,0.0020722857189030028,0.0021019218036037067,0.002131683331651684,0.002161547337030204,0.0021914898614319714,0.0022214861186188534,0.0022515106717020954,0.00228153762174907,0.0023115408059893082,0.0023414940037788205,0.0023713711483903718,0.0024011465426276254,0.0024307950762156327,0.002460292442897379,0.0024896153551679547,0.002518741754603199,0.002547651015788025,0.002576324141921118,0.002604743950265213,0.002632895245725629,0.002660764980971625,0.0026883424016646605,0.0027156191755220334,0.002742589504122176,0.002769250216546039,0.002795600844145709,0.002821643675933564,0.002847383794289841,0.0028728290908916283,0.002897990262967882,0.002922880790180913,0.0029475168926221466,0.0029719174705854054,0.0029961040269425275,0.0030201005730911322,0.0030439335195703364,0.0030676315525458523,0.0030912254974489843,0.0031147481711139573,0.0031382342237936097,0.0031617199724446217,0.003185243226660436,0.0032088431085934813,0.0032325598681491184,0.003256434694654434,0.0032805095261070113,0.0033048268569949107,0.0033294295455532047,0.0033543606211866948,0.003379663092647775,0.003405379757416083,0.00343155301258725,0.0034582246674450296,0.0034854357577697166,0.003513226361828581,0.0035416354179055257,0.0035707005431607004,0.003600457853568113,0.0036309417846639627,0.0036621849128508615,0.003694217777044797,0.0037270687005222956,0.003760763612924458,0.003795325872500189,0.0038307760888212973,0.0038671319463732894,0.003904408029614718,0.003942615650298971,0.003981762678061716,0.004021853375488145,0.004062888239080986,0.004104863847747679,0.00414777272060509,0.004191603186059328,0.0042363392642474915,0.004281960565025275,0.004328442203742451,0.00437575473706353,0.004423864121061232,0.004472731693731616,0.004522314183952406,0.004572563748728294,0.004623428040341449,0.004674850304752242,0.004726769512279767,0.004779120521236389,0.004831834274801422,0.004884838031003476,0.004938055625243149,0.0049914077643387145,0.005044812350622646,0.005098184834166178,0.005151438590770501,0.005204485322945764,0.005257235480710133,0.005309598698689613,0.005361484245691164,0.005412801482664621,0.0054634603247673,0.0055133717031037015,0.005562448021636088,0.005610603604748814,0.005657755131005593,0.0057038220487589135,0.0057487269694576175,0.005792396034745615,0.005834759253750867,0.005875750807321629,0.005915309316372863,0.005953378071950993,0.005989905225104268,0.0060248439351497825,0.006058152475448954,0.006089794296333745,0.006119738045355492,0.0061479575455520965,0.006174431732935838,0.00619914455489021,0.0062220848316187505,0.006243246083209499,0.0062626263252574576,0.006280227836321064,0.006296056900773062,0.006310123530837742,0.00632244117178519,0.00633302639437465,0.006341898578706839,0.006349079593655627,0.006354593476007405,0.006358466113341106,0.00636072493453707,0.006361398611611149,0.006360516776335139,0.006358109754829696,0.006354208323005474,0.0063488434853866006,0.006342046279482577,0.006333847607484465,0.0063242780966546435,0.006313367989360277,0.006301147063273924,0.006287644581836548,0.006272889274651108,0.006256909347056378,0.0062397325177220115,0.006221386082714971,0.006201897004116153,0.006181292020919223,0.00615959777962573,0.0061368409816648616,0.006113048544515495,0.006088247773197129,0.006062466538626175,0.006035733459208319,0.006008078081958002,0.005979531059403933,0.005950124318556518,0.005919891218279519,0.005888866691523664,0.005857087369045264,0.00582459168144537,0.005791419936623628,0.005757614370044108,0.005723219165553028,0.0056882804448692426,0.005652846224281454,0.005616966337527443,0.005580692324294895,0.005544077284264703,0.005507175697109274,0.005470043209355242,0.005432736389513574,0.005395312453365177,0.005357828961758175,0.005320343493719263,0.005282913298096745,0.005245594927333105,0.005208443857302322,0.005171514097437039,0.005134857795608387,0.0050985248424011914,0.005062562479547555,0.0050270149173388635,0.004991922965827735,0.004957323684558069,0.004923250055421394,0.004889730683033771,0.004856789526760454,0.0048244456681889826,0.004792713117469472,0.0047616006615069624,0.004731111756513227,0.004701244466906854,0.004671991452001827,0.0046433400013499914,0.004615272119012947,0.004587764656439605,0.004560789493027054,0.00453431376285256,0.0045083001254913385,0.004482707078287373,0.004457489306930027,0.004432598070715567,0.004407981618446144,0.004383585630546519,0.0043593536826648065,0.004335227725773638,0.004311148577604679,0.00428705642013634,0.004262891297811836,0.004238593611193887,0.004214104600862415,0.00418936681653055,0.0041643245665898745,0.004138924343593536,0.004113115221542058,0.0040868492212442565,0.004060081640480111,0.004032771346184411,0.0040048810263945194,0.003976377400252089,0.003947231384910401,0.0039174182187669436,0.0038869175410064898,0.0038557134279946655,0.0038237943875979188,0.0037911533130149822,0.0037577873981799997,0.003723698017231693,0.003688890570930908,0.003653374303244695,0.003617162091595492,0.003580270214494465,0.003542718100438351,0.00350452806204605,0.003465725019445841,0.0034263362168973893,0.0033863909365458673,0.003345920213062086,0.0033049565527261573,0.0032635336602673103,0.003221686176484493,0.003179449429347539,0.0031368592009225604,0.0030939515120858864,0.003050762426594464,0.003007327875674097,0.0029636835038787317,0.00291986453656994,0.002875905668972838,0.002831840976389958,0.0027877038448029783,0.002743526920770389,0.002699342079239803,0.002655180407642942,0.0026110722044309287,0.0025670469900401544,0.0025231335281565965,0.0024793598550689497,0.0024357533148689986,0.0023923405982698206,0.0023491477828663423,0.00230620037275802,0.002263523335584138,0.0022211411351871764,0.002179077758312979,0.0021373567339749936,0.0020960011443470396,0.0020550336263017357,0.00201447636297293,0.001974351064986614,0.001934678941269444,0.0018954806596030102,0.00185677629734079,0.0018185852829385055,0.001780926329163818,0.0017438173590446514,0.001707275425783896,0.0016713166280094027,0.0016359560218406175,0.0016012075313354252,0.0015670838589326877,0.0015335963975270923,0.001500755145804206,0.0014685686284262912,0.0014370438225944596,0.0014061860924232917,0.001375999132450821,0.0013464849214745122,0.0013176436877536226,0.0012894738864544562,0.0012619721900400966,0.0012351334921238371,0.0012089509251183544,0.00118341589182475,0.0011585181109185947,0.0011342456761081776,0.0011105851285646297,0.0010875215420576533,0.0010650386200755256,0.0010431188040660943,0.0010217433918075236,0.0010008926648051356,0.000980546023514162,0.000960682129108359,0.0009412790504513573,0.0009223144148813686,0.0009037655613901347,0.0008856096947635454,0.0008678240392536721,0.0008503859903689398,0.00083327326340098,0.0008164640373514411,0.000799937092979768,0.0007836719437621485,0.0007676489586321552,0.0007518494754633183,0.000736255904353177,0.0007208518198751442,0.0007056220415787893,0.0006905527021393366,0.0006756313026826303,0.0006608467549414175,0.0006461894100313999,0.00063165107377019,0.0006172250085976773,0.000602905922291428,0.0005886899438039391,0.0005745745866789368,0.0005605587006296159,0.0005466424119818302,0.0005328270537977483,0.0005191150865994705,0.0005055100107059097,0.000492016271278407,0.0004786391572401531,0.0004653846952900044,0.0004522595402720885,0.0004392708631875853,0.0004264262381437314,0.00041373352952729084,0.0004012007806650068,0.0003888361051922632,0.0003766475822938076,0.00036464315690763527,0.00035283054589588383,0.0003412171510863597,0.0003298099799764718,0.0003186155747696858,0.00030763995028522644,0.0002968885411464415,0.0002863661585146602,0.00027607695649547564,0.00026602440820566156,0.0002562112913536192,0.0002466396830566749,0.00023731096349676248,0.00022822582790376915,0.00021938430625532997,0.00021078578999406857,0.0002024290649897959,0.00019431234991571465,0.00018643333916508063,0.00017878924940800952,0.0001713768688775954,0.0001641926084794142],\"yaxis\":\"y\",\"type\":\"scatter\",\"fill\":\"tozeroy\",\"hovertemplate\":\"\\u003cb\\u003eSynthetic\\u003c\\u002fb\\u003e\\u003cbr\\u003eValue: %{x}\\u003cbr\\u003eFrequency: %{y}\\u003cextra\\u003e\\u003c\\u002fextra\\u003e\"}],                        {\"barmode\":\"overlay\",\"hovermode\":\"closest\",\"legend\":{\"traceorder\":\"reversed\"},\"xaxis\":{\"anchor\":\"y2\",\"domain\":[0.0,1.0],\"zeroline\":false,\"title\":{\"text\":\"Value\"}},\"yaxis\":{\"anchor\":\"free\",\"domain\":[0.0,1],\"position\":0.0,\"title\":{\"text\":\"Frequency\"}},\"template\":{\"data\":{\"histogram2dcontour\":[{\"type\":\"histogram2dcontour\",\"colorbar\":{\"outlinewidth\":0,\"ticks\":\"\"},\"colorscale\":[[0.0,\"#0d0887\"],[0.1111111111111111,\"#46039f\"],[0.2222222222222222,\"#7201a8\"],[0.3333333333333333,\"#9c179e\"],[0.4444444444444444,\"#bd3786\"],[0.5555555555555556,\"#d8576b\"],[0.6666666666666666,\"#ed7953\"],[0.7777777777777778,\"#fb9f3a\"],[0.8888888888888888,\"#fdca26\"],[1.0,\"#f0f921\"]]}],\"choropleth\":[{\"type\":\"choropleth\",\"colorbar\":{\"outlinewidth\":0,\"ticks\":\"\"}}],\"histogram2d\":[{\"type\":\"histogram2d\",\"colorbar\":{\"outlinewidth\":0,\"ticks\":\"\"},\"colorscale\":[[0.0,\"#0d0887\"],[0.1111111111111111,\"#46039f\"],[0.2222222222222222,\"#7201a8\"],[0.3333333333333333,\"#9c179e\"],[0.4444444444444444,\"#bd3786\"],[0.5555555555555556,\"#d8576b\"],[0.6666666666666666,\"#ed7953\"],[0.7777777777777778,\"#fb9f3a\"],[0.8888888888888888,\"#fdca26\"],[1.0,\"#f0f921\"]]}],\"heatmap\":[{\"type\":\"heatmap\",\"colorbar\":{\"outlinewidth\":0,\"ticks\":\"\"},\"colorscale\":[[0.0,\"#0d0887\"],[0.1111111111111111,\"#46039f\"],[0.2222222222222222,\"#7201a8\"],[0.3333333333333333,\"#9c179e\"],[0.4444444444444444,\"#bd3786\"],[0.5555555555555556,\"#d8576b\"],[0.6666666666666666,\"#ed7953\"],[0.7777777777777778,\"#fb9f3a\"],[0.8888888888888888,\"#fdca26\"],[1.0,\"#f0f921\"]]}],\"heatmapgl\":[{\"type\":\"heatmapgl\",\"colorbar\":{\"outlinewidth\":0,\"ticks\":\"\"},\"colorscale\":[[0.0,\"#0d0887\"],[0.1111111111111111,\"#46039f\"],[0.2222222222222222,\"#7201a8\"],[0.3333333333333333,\"#9c179e\"],[0.4444444444444444,\"#bd3786\"],[0.5555555555555556,\"#d8576b\"],[0.6666666666666666,\"#ed7953\"],[0.7777777777777778,\"#fb9f3a\"],[0.8888888888888888,\"#fdca26\"],[1.0,\"#f0f921\"]]}],\"contourcarpet\":[{\"type\":\"contourcarpet\",\"colorbar\":{\"outlinewidth\":0,\"ticks\":\"\"}}],\"contour\":[{\"type\":\"contour\",\"colorbar\":{\"outlinewidth\":0,\"ticks\":\"\"},\"colorscale\":[[0.0,\"#0d0887\"],[0.1111111111111111,\"#46039f\"],[0.2222222222222222,\"#7201a8\"],[0.3333333333333333,\"#9c179e\"],[0.4444444444444444,\"#bd3786\"],[0.5555555555555556,\"#d8576b\"],[0.6666666666666666,\"#ed7953\"],[0.7777777777777778,\"#fb9f3a\"],[0.8888888888888888,\"#fdca26\"],[1.0,\"#f0f921\"]]}],\"surface\":[{\"type\":\"surface\",\"colorbar\":{\"outlinewidth\":0,\"ticks\":\"\"},\"colorscale\":[[0.0,\"#0d0887\"],[0.1111111111111111,\"#46039f\"],[0.2222222222222222,\"#7201a8\"],[0.3333333333333333,\"#9c179e\"],[0.4444444444444444,\"#bd3786\"],[0.5555555555555556,\"#d8576b\"],[0.6666666666666666,\"#ed7953\"],[0.7777777777777778,\"#fb9f3a\"],[0.8888888888888888,\"#fdca26\"],[1.0,\"#f0f921\"]]}],\"mesh3d\":[{\"type\":\"mesh3d\",\"colorbar\":{\"outlinewidth\":0,\"ticks\":\"\"}}],\"scatter\":[{\"fillpattern\":{\"fillmode\":\"overlay\",\"size\":10,\"solidity\":0.2},\"type\":\"scatter\"}],\"parcoords\":[{\"type\":\"parcoords\",\"line\":{\"colorbar\":{\"outlinewidth\":0,\"ticks\":\"\"}}}],\"scatterpolargl\":[{\"type\":\"scatterpolargl\",\"marker\":{\"colorbar\":{\"outlinewidth\":0,\"ticks\":\"\"}}}],\"bar\":[{\"error_x\":{\"color\":\"#2a3f5f\"},\"error_y\":{\"color\":\"#2a3f5f\"},\"marker\":{\"line\":{\"color\":\"#E5ECF6\",\"width\":0.5},\"pattern\":{\"fillmode\":\"overlay\",\"size\":10,\"solidity\":0.2}},\"type\":\"bar\"}],\"scattergeo\":[{\"type\":\"scattergeo\",\"marker\":{\"colorbar\":{\"outlinewidth\":0,\"ticks\":\"\"}}}],\"scatterpolar\":[{\"type\":\"scatterpolar\",\"marker\":{\"colorbar\":{\"outlinewidth\":0,\"ticks\":\"\"}}}],\"histogram\":[{\"marker\":{\"pattern\":{\"fillmode\":\"overlay\",\"size\":10,\"solidity\":0.2}},\"type\":\"histogram\"}],\"scattergl\":[{\"type\":\"scattergl\",\"marker\":{\"colorbar\":{\"outlinewidth\":0,\"ticks\":\"\"}}}],\"scatter3d\":[{\"type\":\"scatter3d\",\"line\":{\"colorbar\":{\"outlinewidth\":0,\"ticks\":\"\"}},\"marker\":{\"colorbar\":{\"outlinewidth\":0,\"ticks\":\"\"}}}],\"scattermapbox\":[{\"type\":\"scattermapbox\",\"marker\":{\"colorbar\":{\"outlinewidth\":0,\"ticks\":\"\"}}}],\"scatterternary\":[{\"type\":\"scatterternary\",\"marker\":{\"colorbar\":{\"outlinewidth\":0,\"ticks\":\"\"}}}],\"scattercarpet\":[{\"type\":\"scattercarpet\",\"marker\":{\"colorbar\":{\"outlinewidth\":0,\"ticks\":\"\"}}}],\"carpet\":[{\"aaxis\":{\"endlinecolor\":\"#2a3f5f\",\"gridcolor\":\"white\",\"linecolor\":\"white\",\"minorgridcolor\":\"white\",\"startlinecolor\":\"#2a3f5f\"},\"baxis\":{\"endlinecolor\":\"#2a3f5f\",\"gridcolor\":\"white\",\"linecolor\":\"white\",\"minorgridcolor\":\"white\",\"startlinecolor\":\"#2a3f5f\"},\"type\":\"carpet\"}],\"table\":[{\"cells\":{\"fill\":{\"color\":\"#EBF0F8\"},\"line\":{\"color\":\"white\"}},\"header\":{\"fill\":{\"color\":\"#C8D4E3\"},\"line\":{\"color\":\"white\"}},\"type\":\"table\"}],\"barpolar\":[{\"marker\":{\"line\":{\"color\":\"#E5ECF6\",\"width\":0.5},\"pattern\":{\"fillmode\":\"overlay\",\"size\":10,\"solidity\":0.2}},\"type\":\"barpolar\"}],\"pie\":[{\"automargin\":true,\"type\":\"pie\"}]},\"layout\":{\"autotypenumbers\":\"strict\",\"colorway\":[\"#636efa\",\"#EF553B\",\"#00cc96\",\"#ab63fa\",\"#FFA15A\",\"#19d3f3\",\"#FF6692\",\"#B6E880\",\"#FF97FF\",\"#FECB52\"],\"font\":{\"color\":\"#2a3f5f\"},\"hovermode\":\"closest\",\"hoverlabel\":{\"align\":\"left\"},\"paper_bgcolor\":\"white\",\"plot_bgcolor\":\"#E5ECF6\",\"polar\":{\"bgcolor\":\"#E5ECF6\",\"angularaxis\":{\"gridcolor\":\"white\",\"linecolor\":\"white\",\"ticks\":\"\"},\"radialaxis\":{\"gridcolor\":\"white\",\"linecolor\":\"white\",\"ticks\":\"\"}},\"ternary\":{\"bgcolor\":\"#E5ECF6\",\"aaxis\":{\"gridcolor\":\"white\",\"linecolor\":\"white\",\"ticks\":\"\"},\"baxis\":{\"gridcolor\":\"white\",\"linecolor\":\"white\",\"ticks\":\"\"},\"caxis\":{\"gridcolor\":\"white\",\"linecolor\":\"white\",\"ticks\":\"\"}},\"coloraxis\":{\"colorbar\":{\"outlinewidth\":0,\"ticks\":\"\"}},\"colorscale\":{\"sequential\":[[0.0,\"#0d0887\"],[0.1111111111111111,\"#46039f\"],[0.2222222222222222,\"#7201a8\"],[0.3333333333333333,\"#9c179e\"],[0.4444444444444444,\"#bd3786\"],[0.5555555555555556,\"#d8576b\"],[0.6666666666666666,\"#ed7953\"],[0.7777777777777778,\"#fb9f3a\"],[0.8888888888888888,\"#fdca26\"],[1.0,\"#f0f921\"]],\"sequentialminus\":[[0.0,\"#0d0887\"],[0.1111111111111111,\"#46039f\"],[0.2222222222222222,\"#7201a8\"],[0.3333333333333333,\"#9c179e\"],[0.4444444444444444,\"#bd3786\"],[0.5555555555555556,\"#d8576b\"],[0.6666666666666666,\"#ed7953\"],[0.7777777777777778,\"#fb9f3a\"],[0.8888888888888888,\"#fdca26\"],[1.0,\"#f0f921\"]],\"diverging\":[[0,\"#8e0152\"],[0.1,\"#c51b7d\"],[0.2,\"#de77ae\"],[0.3,\"#f1b6da\"],[0.4,\"#fde0ef\"],[0.5,\"#f7f7f7\"],[0.6,\"#e6f5d0\"],[0.7,\"#b8e186\"],[0.8,\"#7fbc41\"],[0.9,\"#4d9221\"],[1,\"#276419\"]]},\"xaxis\":{\"gridcolor\":\"white\",\"linecolor\":\"white\",\"ticks\":\"\",\"title\":{\"standoff\":15},\"zerolinecolor\":\"white\",\"automargin\":true,\"zerolinewidth\":2},\"yaxis\":{\"gridcolor\":\"white\",\"linecolor\":\"white\",\"ticks\":\"\",\"title\":{\"standoff\":15},\"zerolinecolor\":\"white\",\"automargin\":true,\"zerolinewidth\":2},\"scene\":{\"xaxis\":{\"backgroundcolor\":\"#E5ECF6\",\"gridcolor\":\"white\",\"linecolor\":\"white\",\"showbackground\":true,\"ticks\":\"\",\"zerolinecolor\":\"white\",\"gridwidth\":2},\"yaxis\":{\"backgroundcolor\":\"#E5ECF6\",\"gridcolor\":\"white\",\"linecolor\":\"white\",\"showbackground\":true,\"ticks\":\"\",\"zerolinecolor\":\"white\",\"gridwidth\":2},\"zaxis\":{\"backgroundcolor\":\"#E5ECF6\",\"gridcolor\":\"white\",\"linecolor\":\"white\",\"showbackground\":true,\"ticks\":\"\",\"zerolinecolor\":\"white\",\"gridwidth\":2}},\"shapedefaults\":{\"line\":{\"color\":\"#2a3f5f\"}},\"annotationdefaults\":{\"arrowcolor\":\"#2a3f5f\",\"arrowhead\":0,\"arrowwidth\":1},\"geo\":{\"bgcolor\":\"white\",\"landcolor\":\"#E5ECF6\",\"subunitcolor\":\"white\",\"showland\":true,\"showlakes\":true,\"lakecolor\":\"white\"},\"title\":{\"x\":0.05},\"mapbox\":{\"style\":\"light\"}}},\"title\":{\"text\":\"Real vs. Synthetic Data for column power_smoothed\"},\"plot_bgcolor\":\"#F5F5F8\"},                        {\"responsive\": true}                    ).then(function(){\n",
       "                            \n",
       "var gd = document.getElementById('70bf0401-978e-4b39-90da-66f5b9f59841');\n",
       "var x = new MutationObserver(function (mutations, observer) {{\n",
       "        var display = window.getComputedStyle(gd).display;\n",
       "        if (!display || display === 'none') {{\n",
       "            console.log([gd, 'removed!']);\n",
       "            Plotly.purge(gd);\n",
       "            observer.disconnect();\n",
       "        }}\n",
       "}});\n",
       "\n",
       "// Listen for the removal of the full notebook cells\n",
       "var notebookContainer = gd.closest('#notebook-container');\n",
       "if (notebookContainer) {{\n",
       "    x.observe(notebookContainer, {childList: true});\n",
       "}}\n",
       "\n",
       "// Listen for the clearing of the current output cell\n",
       "var outputEl = gd.closest('.output');\n",
       "if (outputEl) {{\n",
       "    x.observe(outputEl, {childList: true});\n",
       "}}\n",
       "\n",
       "                        })                };                });            </script>        </div>"
      ]
     },
     "metadata": {},
     "output_type": "display_data"
    }
   ],
   "source": [
    "from sdv.evaluation.single_table import get_column_plot\n",
    "\n",
    "fig = get_column_plot(\n",
    "    real_data=real_data_flight1,\n",
    "    synthetic_data=synthetic_data_Gaussian_flight1,\n",
    "    column_name='power_smoothed',\n",
    "    metadata=metadata_flight1\n",
    ")\n",
    "    \n",
    "fig.show()"
   ]
  },
  {
   "cell_type": "code",
   "execution_count": 73,
   "metadata": {},
   "outputs": [],
   "source": [
    "from sdmetrics.reports.single_table import DiagnosticReport\n",
    "\n",
    "report = DiagnosticReport()"
   ]
  },
  {
   "cell_type": "code",
   "execution_count": 74,
   "metadata": {},
   "outputs": [
    {
     "name": "stderr",
     "output_type": "stream",
     "text": [
      "Creating report: 100%|██████████| 4/4 [00:07<00:00,  1.96s/it]"
     ]
    },
    {
     "name": "stdout",
     "output_type": "stream",
     "text": [
      "\n",
      "DiagnosticResults:\n",
      "\n",
      "SUCCESS:\n",
      "✓ Over 90% of the synthetic rows are not copies of the real data\n",
      "✓ The synthetic data follows over 90% of the min/max boundaries set by the real data\n",
      "\n",
      "WARNING:\n",
      "! The synthetic data is missing more than 10% of the numerical ranges present in the real data\n"
     ]
    },
    {
     "name": "stderr",
     "output_type": "stream",
     "text": [
      "\n"
     ]
    }
   ],
   "source": [
    "report.generate(real_data_flight1, synthetic_data_Gaussian_flight1, metadata_flight1)"
   ]
  },
  {
   "cell_type": "code",
   "execution_count": 75,
   "metadata": {},
   "outputs": [
    {
     "data": {
      "text/plain": [
       "{'SUCCESS': ['Over 90% of the synthetic rows are not copies of the real data',\n",
       "  'The synthetic data follows over 90% of the min/max boundaries set by the real data'],\n",
       " 'WARNING': ['The synthetic data is missing more than 10% of the numerical ranges present in the real data'],\n",
       " 'DANGER': []}"
      ]
     },
     "execution_count": 75,
     "metadata": {},
     "output_type": "execute_result"
    }
   ],
   "source": [
    "report.get_results()"
   ]
  },
  {
   "cell_type": "code",
   "execution_count": 76,
   "metadata": {},
   "outputs": [
    {
     "data": {
      "text/plain": [
       "{'Coverage': 0.7328827737725258, 'Synthesis': 1.0, 'Boundaries': 1.0}"
      ]
     },
     "execution_count": 76,
     "metadata": {},
     "output_type": "execute_result"
    }
   ],
   "source": [
    "report.get_properties()"
   ]
  },
  {
   "cell_type": "code",
   "execution_count": 77,
   "metadata": {},
   "outputs": [
    {
     "name": "stdout",
     "output_type": "stream",
     "text": [
      "-> Synthesis:              Metric  Diagnostic Score  Num Matched Rows  Num New Rows\n",
      "0  NewRowSynthesis               1.0                 0           815\n",
      "-> Coverage:                     Column         Metric  Diagnostic Score\n",
      "0                    time  RangeCoverage          0.996578\n",
      "1              wind_speed  RangeCoverage          0.986451\n",
      "2              wind_angle  RangeCoverage          1.000000\n",
      "3              position_z  RangeCoverage          1.000000\n",
      "4           orientation_x  RangeCoverage          0.703319\n",
      "5           orientation_y  RangeCoverage          0.754121\n",
      "6           orientation_z  RangeCoverage          1.000000\n",
      "7           orientation_w  RangeCoverage          1.000000\n",
      "8              velocity_x  RangeCoverage          0.671126\n",
      "9              velocity_y  RangeCoverage          1.000000\n",
      "10             velocity_z  RangeCoverage          1.000000\n",
      "11              angular_x  RangeCoverage          0.389657\n",
      "12              angular_y  RangeCoverage          0.515915\n",
      "13              angular_z  RangeCoverage          0.512543\n",
      "14  linear_acceleration_x  RangeCoverage          0.873685\n",
      "15  linear_acceleration_y  RangeCoverage          0.000000\n",
      "16  linear_acceleration_z  RangeCoverage          0.266617\n",
      "17         power_smoothed  RangeCoverage          0.521877\n",
      "-> Boundaries:                     Column             Metric  Diagnostic Score\n",
      "0                  flight  BoundaryAdherence               1.0\n",
      "1                    time  BoundaryAdherence               1.0\n",
      "2              wind_speed  BoundaryAdherence               1.0\n",
      "3              wind_angle  BoundaryAdherence               1.0\n",
      "4              position_z  BoundaryAdherence               1.0\n",
      "5           orientation_x  BoundaryAdherence               1.0\n",
      "6           orientation_y  BoundaryAdherence               1.0\n",
      "7           orientation_z  BoundaryAdherence               1.0\n",
      "8           orientation_w  BoundaryAdherence               1.0\n",
      "9              velocity_x  BoundaryAdherence               1.0\n",
      "10             velocity_y  BoundaryAdherence               1.0\n",
      "11             velocity_z  BoundaryAdherence               1.0\n",
      "12              angular_x  BoundaryAdherence               1.0\n",
      "13              angular_y  BoundaryAdherence               1.0\n",
      "14              angular_z  BoundaryAdherence               1.0\n",
      "15  linear_acceleration_x  BoundaryAdherence               1.0\n",
      "16  linear_acceleration_y  BoundaryAdherence               1.0\n",
      "17  linear_acceleration_z  BoundaryAdherence               1.0\n",
      "18         power_smoothed  BoundaryAdherence               1.0\n"
     ]
    }
   ],
   "source": [
    "for i in ['Synthesis', 'Coverage', 'Boundaries']:\n",
    "    print(\"-> \" + str(i) + \": \", report.get_details(property_name=i))"
   ]
  },
  {
   "cell_type": "code",
   "execution_count": 78,
   "metadata": {},
   "outputs": [
    {
     "data": {
      "application/vnd.plotly.v1+json": {
       "config": {
        "plotlyServerURL": "https://plot.ly"
       },
       "data": [
        {
         "customdata": [
          [
           "Exact Matches"
          ],
          [
           "Novel Rows"
          ]
         ],
         "domain": {
          "x": [
           0,
           1
          ],
          "y": [
           0,
           1
          ]
         },
         "hole": 0.4,
         "hovertemplate": "<b>%{label}</b><br>%{value} rows",
         "labels": [
          "Exact Matches",
          "Novel Rows"
         ],
         "legendgroup": "",
         "marker": {
          "colors": [
           "#F16141",
           "#36B37E"
          ]
         },
         "name": "",
         "showlegend": true,
         "type": "pie",
         "values": [
          0,
          815
         ]
        }
       ],
       "layout": {
        "legend": {
         "tracegroupgap": 0
        },
        "template": {
         "data": {
          "bar": [
           {
            "error_x": {
             "color": "#2a3f5f"
            },
            "error_y": {
             "color": "#2a3f5f"
            },
            "marker": {
             "line": {
              "color": "#E5ECF6",
              "width": 0.5
             },
             "pattern": {
              "fillmode": "overlay",
              "size": 10,
              "solidity": 0.2
             }
            },
            "type": "bar"
           }
          ],
          "barpolar": [
           {
            "marker": {
             "line": {
              "color": "#E5ECF6",
              "width": 0.5
             },
             "pattern": {
              "fillmode": "overlay",
              "size": 10,
              "solidity": 0.2
             }
            },
            "type": "barpolar"
           }
          ],
          "carpet": [
           {
            "aaxis": {
             "endlinecolor": "#2a3f5f",
             "gridcolor": "white",
             "linecolor": "white",
             "minorgridcolor": "white",
             "startlinecolor": "#2a3f5f"
            },
            "baxis": {
             "endlinecolor": "#2a3f5f",
             "gridcolor": "white",
             "linecolor": "white",
             "minorgridcolor": "white",
             "startlinecolor": "#2a3f5f"
            },
            "type": "carpet"
           }
          ],
          "choropleth": [
           {
            "colorbar": {
             "outlinewidth": 0,
             "ticks": ""
            },
            "type": "choropleth"
           }
          ],
          "contour": [
           {
            "colorbar": {
             "outlinewidth": 0,
             "ticks": ""
            },
            "colorscale": [
             [
              0,
              "#0d0887"
             ],
             [
              0.1111111111111111,
              "#46039f"
             ],
             [
              0.2222222222222222,
              "#7201a8"
             ],
             [
              0.3333333333333333,
              "#9c179e"
             ],
             [
              0.4444444444444444,
              "#bd3786"
             ],
             [
              0.5555555555555556,
              "#d8576b"
             ],
             [
              0.6666666666666666,
              "#ed7953"
             ],
             [
              0.7777777777777778,
              "#fb9f3a"
             ],
             [
              0.8888888888888888,
              "#fdca26"
             ],
             [
              1,
              "#f0f921"
             ]
            ],
            "type": "contour"
           }
          ],
          "contourcarpet": [
           {
            "colorbar": {
             "outlinewidth": 0,
             "ticks": ""
            },
            "type": "contourcarpet"
           }
          ],
          "heatmap": [
           {
            "colorbar": {
             "outlinewidth": 0,
             "ticks": ""
            },
            "colorscale": [
             [
              0,
              "#0d0887"
             ],
             [
              0.1111111111111111,
              "#46039f"
             ],
             [
              0.2222222222222222,
              "#7201a8"
             ],
             [
              0.3333333333333333,
              "#9c179e"
             ],
             [
              0.4444444444444444,
              "#bd3786"
             ],
             [
              0.5555555555555556,
              "#d8576b"
             ],
             [
              0.6666666666666666,
              "#ed7953"
             ],
             [
              0.7777777777777778,
              "#fb9f3a"
             ],
             [
              0.8888888888888888,
              "#fdca26"
             ],
             [
              1,
              "#f0f921"
             ]
            ],
            "type": "heatmap"
           }
          ],
          "heatmapgl": [
           {
            "colorbar": {
             "outlinewidth": 0,
             "ticks": ""
            },
            "colorscale": [
             [
              0,
              "#0d0887"
             ],
             [
              0.1111111111111111,
              "#46039f"
             ],
             [
              0.2222222222222222,
              "#7201a8"
             ],
             [
              0.3333333333333333,
              "#9c179e"
             ],
             [
              0.4444444444444444,
              "#bd3786"
             ],
             [
              0.5555555555555556,
              "#d8576b"
             ],
             [
              0.6666666666666666,
              "#ed7953"
             ],
             [
              0.7777777777777778,
              "#fb9f3a"
             ],
             [
              0.8888888888888888,
              "#fdca26"
             ],
             [
              1,
              "#f0f921"
             ]
            ],
            "type": "heatmapgl"
           }
          ],
          "histogram": [
           {
            "marker": {
             "pattern": {
              "fillmode": "overlay",
              "size": 10,
              "solidity": 0.2
             }
            },
            "type": "histogram"
           }
          ],
          "histogram2d": [
           {
            "colorbar": {
             "outlinewidth": 0,
             "ticks": ""
            },
            "colorscale": [
             [
              0,
              "#0d0887"
             ],
             [
              0.1111111111111111,
              "#46039f"
             ],
             [
              0.2222222222222222,
              "#7201a8"
             ],
             [
              0.3333333333333333,
              "#9c179e"
             ],
             [
              0.4444444444444444,
              "#bd3786"
             ],
             [
              0.5555555555555556,
              "#d8576b"
             ],
             [
              0.6666666666666666,
              "#ed7953"
             ],
             [
              0.7777777777777778,
              "#fb9f3a"
             ],
             [
              0.8888888888888888,
              "#fdca26"
             ],
             [
              1,
              "#f0f921"
             ]
            ],
            "type": "histogram2d"
           }
          ],
          "histogram2dcontour": [
           {
            "colorbar": {
             "outlinewidth": 0,
             "ticks": ""
            },
            "colorscale": [
             [
              0,
              "#0d0887"
             ],
             [
              0.1111111111111111,
              "#46039f"
             ],
             [
              0.2222222222222222,
              "#7201a8"
             ],
             [
              0.3333333333333333,
              "#9c179e"
             ],
             [
              0.4444444444444444,
              "#bd3786"
             ],
             [
              0.5555555555555556,
              "#d8576b"
             ],
             [
              0.6666666666666666,
              "#ed7953"
             ],
             [
              0.7777777777777778,
              "#fb9f3a"
             ],
             [
              0.8888888888888888,
              "#fdca26"
             ],
             [
              1,
              "#f0f921"
             ]
            ],
            "type": "histogram2dcontour"
           }
          ],
          "mesh3d": [
           {
            "colorbar": {
             "outlinewidth": 0,
             "ticks": ""
            },
            "type": "mesh3d"
           }
          ],
          "parcoords": [
           {
            "line": {
             "colorbar": {
              "outlinewidth": 0,
              "ticks": ""
             }
            },
            "type": "parcoords"
           }
          ],
          "pie": [
           {
            "automargin": true,
            "type": "pie"
           }
          ],
          "scatter": [
           {
            "fillpattern": {
             "fillmode": "overlay",
             "size": 10,
             "solidity": 0.2
            },
            "type": "scatter"
           }
          ],
          "scatter3d": [
           {
            "line": {
             "colorbar": {
              "outlinewidth": 0,
              "ticks": ""
             }
            },
            "marker": {
             "colorbar": {
              "outlinewidth": 0,
              "ticks": ""
             }
            },
            "type": "scatter3d"
           }
          ],
          "scattercarpet": [
           {
            "marker": {
             "colorbar": {
              "outlinewidth": 0,
              "ticks": ""
             }
            },
            "type": "scattercarpet"
           }
          ],
          "scattergeo": [
           {
            "marker": {
             "colorbar": {
              "outlinewidth": 0,
              "ticks": ""
             }
            },
            "type": "scattergeo"
           }
          ],
          "scattergl": [
           {
            "marker": {
             "colorbar": {
              "outlinewidth": 0,
              "ticks": ""
             }
            },
            "type": "scattergl"
           }
          ],
          "scattermapbox": [
           {
            "marker": {
             "colorbar": {
              "outlinewidth": 0,
              "ticks": ""
             }
            },
            "type": "scattermapbox"
           }
          ],
          "scatterpolar": [
           {
            "marker": {
             "colorbar": {
              "outlinewidth": 0,
              "ticks": ""
             }
            },
            "type": "scatterpolar"
           }
          ],
          "scatterpolargl": [
           {
            "marker": {
             "colorbar": {
              "outlinewidth": 0,
              "ticks": ""
             }
            },
            "type": "scatterpolargl"
           }
          ],
          "scatterternary": [
           {
            "marker": {
             "colorbar": {
              "outlinewidth": 0,
              "ticks": ""
             }
            },
            "type": "scatterternary"
           }
          ],
          "surface": [
           {
            "colorbar": {
             "outlinewidth": 0,
             "ticks": ""
            },
            "colorscale": [
             [
              0,
              "#0d0887"
             ],
             [
              0.1111111111111111,
              "#46039f"
             ],
             [
              0.2222222222222222,
              "#7201a8"
             ],
             [
              0.3333333333333333,
              "#9c179e"
             ],
             [
              0.4444444444444444,
              "#bd3786"
             ],
             [
              0.5555555555555556,
              "#d8576b"
             ],
             [
              0.6666666666666666,
              "#ed7953"
             ],
             [
              0.7777777777777778,
              "#fb9f3a"
             ],
             [
              0.8888888888888888,
              "#fdca26"
             ],
             [
              1,
              "#f0f921"
             ]
            ],
            "type": "surface"
           }
          ],
          "table": [
           {
            "cells": {
             "fill": {
              "color": "#EBF0F8"
             },
             "line": {
              "color": "white"
             }
            },
            "header": {
             "fill": {
              "color": "#C8D4E3"
             },
             "line": {
              "color": "white"
             }
            },
            "type": "table"
           }
          ]
         },
         "layout": {
          "annotationdefaults": {
           "arrowcolor": "#2a3f5f",
           "arrowhead": 0,
           "arrowwidth": 1
          },
          "autotypenumbers": "strict",
          "coloraxis": {
           "colorbar": {
            "outlinewidth": 0,
            "ticks": ""
           }
          },
          "colorscale": {
           "diverging": [
            [
             0,
             "#8e0152"
            ],
            [
             0.1,
             "#c51b7d"
            ],
            [
             0.2,
             "#de77ae"
            ],
            [
             0.3,
             "#f1b6da"
            ],
            [
             0.4,
             "#fde0ef"
            ],
            [
             0.5,
             "#f7f7f7"
            ],
            [
             0.6,
             "#e6f5d0"
            ],
            [
             0.7,
             "#b8e186"
            ],
            [
             0.8,
             "#7fbc41"
            ],
            [
             0.9,
             "#4d9221"
            ],
            [
             1,
             "#276419"
            ]
           ],
           "sequential": [
            [
             0,
             "#0d0887"
            ],
            [
             0.1111111111111111,
             "#46039f"
            ],
            [
             0.2222222222222222,
             "#7201a8"
            ],
            [
             0.3333333333333333,
             "#9c179e"
            ],
            [
             0.4444444444444444,
             "#bd3786"
            ],
            [
             0.5555555555555556,
             "#d8576b"
            ],
            [
             0.6666666666666666,
             "#ed7953"
            ],
            [
             0.7777777777777778,
             "#fb9f3a"
            ],
            [
             0.8888888888888888,
             "#fdca26"
            ],
            [
             1,
             "#f0f921"
            ]
           ],
           "sequentialminus": [
            [
             0,
             "#0d0887"
            ],
            [
             0.1111111111111111,
             "#46039f"
            ],
            [
             0.2222222222222222,
             "#7201a8"
            ],
            [
             0.3333333333333333,
             "#9c179e"
            ],
            [
             0.4444444444444444,
             "#bd3786"
            ],
            [
             0.5555555555555556,
             "#d8576b"
            ],
            [
             0.6666666666666666,
             "#ed7953"
            ],
            [
             0.7777777777777778,
             "#fb9f3a"
            ],
            [
             0.8888888888888888,
             "#fdca26"
            ],
            [
             1,
             "#f0f921"
            ]
           ]
          },
          "colorway": [
           "#636efa",
           "#EF553B",
           "#00cc96",
           "#ab63fa",
           "#FFA15A",
           "#19d3f3",
           "#FF6692",
           "#B6E880",
           "#FF97FF",
           "#FECB52"
          ],
          "font": {
           "color": "#2a3f5f"
          },
          "geo": {
           "bgcolor": "white",
           "lakecolor": "white",
           "landcolor": "#E5ECF6",
           "showlakes": true,
           "showland": true,
           "subunitcolor": "white"
          },
          "hoverlabel": {
           "align": "left"
          },
          "hovermode": "closest",
          "mapbox": {
           "style": "light"
          },
          "paper_bgcolor": "white",
          "plot_bgcolor": "#E5ECF6",
          "polar": {
           "angularaxis": {
            "gridcolor": "white",
            "linecolor": "white",
            "ticks": ""
           },
           "bgcolor": "#E5ECF6",
           "radialaxis": {
            "gridcolor": "white",
            "linecolor": "white",
            "ticks": ""
           }
          },
          "scene": {
           "xaxis": {
            "backgroundcolor": "#E5ECF6",
            "gridcolor": "white",
            "gridwidth": 2,
            "linecolor": "white",
            "showbackground": true,
            "ticks": "",
            "zerolinecolor": "white"
           },
           "yaxis": {
            "backgroundcolor": "#E5ECF6",
            "gridcolor": "white",
            "gridwidth": 2,
            "linecolor": "white",
            "showbackground": true,
            "ticks": "",
            "zerolinecolor": "white"
           },
           "zaxis": {
            "backgroundcolor": "#E5ECF6",
            "gridcolor": "white",
            "gridwidth": 2,
            "linecolor": "white",
            "showbackground": true,
            "ticks": "",
            "zerolinecolor": "white"
           }
          },
          "shapedefaults": {
           "line": {
            "color": "#2a3f5f"
           }
          },
          "ternary": {
           "aaxis": {
            "gridcolor": "white",
            "linecolor": "white",
            "ticks": ""
           },
           "baxis": {
            "gridcolor": "white",
            "linecolor": "white",
            "ticks": ""
           },
           "bgcolor": "#E5ECF6",
           "caxis": {
            "gridcolor": "white",
            "linecolor": "white",
            "ticks": ""
           }
          },
          "title": {
           "x": 0.05
          },
          "xaxis": {
           "automargin": true,
           "gridcolor": "white",
           "linecolor": "white",
           "ticks": "",
           "title": {
            "standoff": 15
           },
           "zerolinecolor": "white",
           "zerolinewidth": 2
          },
          "yaxis": {
           "automargin": true,
           "gridcolor": "white",
           "linecolor": "white",
           "ticks": "",
           "title": {
            "standoff": 15
           },
           "zerolinecolor": "white",
           "zerolinewidth": 2
          }
         }
        },
        "title": {
         "text": "Data Diagnostic: Synthesis (Score=1.0)"
        }
       }
      },
      "text/html": [
       "<div>                            <div id=\"0d66634a-afc1-4db5-a199-bd778032fc56\" class=\"plotly-graph-div\" style=\"height:525px; width:100%;\"></div>            <script type=\"text/javascript\">                require([\"plotly\"], function(Plotly) {                    window.PLOTLYENV=window.PLOTLYENV || {};                                    if (document.getElementById(\"0d66634a-afc1-4db5-a199-bd778032fc56\")) {                    Plotly.newPlot(                        \"0d66634a-afc1-4db5-a199-bd778032fc56\",                        [{\"customdata\":[[\"Exact Matches\"],[\"Novel Rows\"]],\"domain\":{\"x\":[0.0,1.0],\"y\":[0.0,1.0]},\"hole\":0.4,\"hovertemplate\":\"\\u003cb\\u003e%{label}\\u003c\\u002fb\\u003e\\u003cbr\\u003e%{value} rows\",\"labels\":[\"Exact Matches\",\"Novel Rows\"],\"legendgroup\":\"\",\"marker\":{\"colors\":[\"#F16141\",\"#36B37E\"]},\"name\":\"\",\"showlegend\":true,\"values\":[0,815],\"type\":\"pie\"}],                        {\"template\":{\"data\":{\"histogram2dcontour\":[{\"type\":\"histogram2dcontour\",\"colorbar\":{\"outlinewidth\":0,\"ticks\":\"\"},\"colorscale\":[[0.0,\"#0d0887\"],[0.1111111111111111,\"#46039f\"],[0.2222222222222222,\"#7201a8\"],[0.3333333333333333,\"#9c179e\"],[0.4444444444444444,\"#bd3786\"],[0.5555555555555556,\"#d8576b\"],[0.6666666666666666,\"#ed7953\"],[0.7777777777777778,\"#fb9f3a\"],[0.8888888888888888,\"#fdca26\"],[1.0,\"#f0f921\"]]}],\"choropleth\":[{\"type\":\"choropleth\",\"colorbar\":{\"outlinewidth\":0,\"ticks\":\"\"}}],\"histogram2d\":[{\"type\":\"histogram2d\",\"colorbar\":{\"outlinewidth\":0,\"ticks\":\"\"},\"colorscale\":[[0.0,\"#0d0887\"],[0.1111111111111111,\"#46039f\"],[0.2222222222222222,\"#7201a8\"],[0.3333333333333333,\"#9c179e\"],[0.4444444444444444,\"#bd3786\"],[0.5555555555555556,\"#d8576b\"],[0.6666666666666666,\"#ed7953\"],[0.7777777777777778,\"#fb9f3a\"],[0.8888888888888888,\"#fdca26\"],[1.0,\"#f0f921\"]]}],\"heatmap\":[{\"type\":\"heatmap\",\"colorbar\":{\"outlinewidth\":0,\"ticks\":\"\"},\"colorscale\":[[0.0,\"#0d0887\"],[0.1111111111111111,\"#46039f\"],[0.2222222222222222,\"#7201a8\"],[0.3333333333333333,\"#9c179e\"],[0.4444444444444444,\"#bd3786\"],[0.5555555555555556,\"#d8576b\"],[0.6666666666666666,\"#ed7953\"],[0.7777777777777778,\"#fb9f3a\"],[0.8888888888888888,\"#fdca26\"],[1.0,\"#f0f921\"]]}],\"heatmapgl\":[{\"type\":\"heatmapgl\",\"colorbar\":{\"outlinewidth\":0,\"ticks\":\"\"},\"colorscale\":[[0.0,\"#0d0887\"],[0.1111111111111111,\"#46039f\"],[0.2222222222222222,\"#7201a8\"],[0.3333333333333333,\"#9c179e\"],[0.4444444444444444,\"#bd3786\"],[0.5555555555555556,\"#d8576b\"],[0.6666666666666666,\"#ed7953\"],[0.7777777777777778,\"#fb9f3a\"],[0.8888888888888888,\"#fdca26\"],[1.0,\"#f0f921\"]]}],\"contourcarpet\":[{\"type\":\"contourcarpet\",\"colorbar\":{\"outlinewidth\":0,\"ticks\":\"\"}}],\"contour\":[{\"type\":\"contour\",\"colorbar\":{\"outlinewidth\":0,\"ticks\":\"\"},\"colorscale\":[[0.0,\"#0d0887\"],[0.1111111111111111,\"#46039f\"],[0.2222222222222222,\"#7201a8\"],[0.3333333333333333,\"#9c179e\"],[0.4444444444444444,\"#bd3786\"],[0.5555555555555556,\"#d8576b\"],[0.6666666666666666,\"#ed7953\"],[0.7777777777777778,\"#fb9f3a\"],[0.8888888888888888,\"#fdca26\"],[1.0,\"#f0f921\"]]}],\"surface\":[{\"type\":\"surface\",\"colorbar\":{\"outlinewidth\":0,\"ticks\":\"\"},\"colorscale\":[[0.0,\"#0d0887\"],[0.1111111111111111,\"#46039f\"],[0.2222222222222222,\"#7201a8\"],[0.3333333333333333,\"#9c179e\"],[0.4444444444444444,\"#bd3786\"],[0.5555555555555556,\"#d8576b\"],[0.6666666666666666,\"#ed7953\"],[0.7777777777777778,\"#fb9f3a\"],[0.8888888888888888,\"#fdca26\"],[1.0,\"#f0f921\"]]}],\"mesh3d\":[{\"type\":\"mesh3d\",\"colorbar\":{\"outlinewidth\":0,\"ticks\":\"\"}}],\"scatter\":[{\"fillpattern\":{\"fillmode\":\"overlay\",\"size\":10,\"solidity\":0.2},\"type\":\"scatter\"}],\"parcoords\":[{\"type\":\"parcoords\",\"line\":{\"colorbar\":{\"outlinewidth\":0,\"ticks\":\"\"}}}],\"scatterpolargl\":[{\"type\":\"scatterpolargl\",\"marker\":{\"colorbar\":{\"outlinewidth\":0,\"ticks\":\"\"}}}],\"bar\":[{\"error_x\":{\"color\":\"#2a3f5f\"},\"error_y\":{\"color\":\"#2a3f5f\"},\"marker\":{\"line\":{\"color\":\"#E5ECF6\",\"width\":0.5},\"pattern\":{\"fillmode\":\"overlay\",\"size\":10,\"solidity\":0.2}},\"type\":\"bar\"}],\"scattergeo\":[{\"type\":\"scattergeo\",\"marker\":{\"colorbar\":{\"outlinewidth\":0,\"ticks\":\"\"}}}],\"scatterpolar\":[{\"type\":\"scatterpolar\",\"marker\":{\"colorbar\":{\"outlinewidth\":0,\"ticks\":\"\"}}}],\"histogram\":[{\"marker\":{\"pattern\":{\"fillmode\":\"overlay\",\"size\":10,\"solidity\":0.2}},\"type\":\"histogram\"}],\"scattergl\":[{\"type\":\"scattergl\",\"marker\":{\"colorbar\":{\"outlinewidth\":0,\"ticks\":\"\"}}}],\"scatter3d\":[{\"type\":\"scatter3d\",\"line\":{\"colorbar\":{\"outlinewidth\":0,\"ticks\":\"\"}},\"marker\":{\"colorbar\":{\"outlinewidth\":0,\"ticks\":\"\"}}}],\"scattermapbox\":[{\"type\":\"scattermapbox\",\"marker\":{\"colorbar\":{\"outlinewidth\":0,\"ticks\":\"\"}}}],\"scatterternary\":[{\"type\":\"scatterternary\",\"marker\":{\"colorbar\":{\"outlinewidth\":0,\"ticks\":\"\"}}}],\"scattercarpet\":[{\"type\":\"scattercarpet\",\"marker\":{\"colorbar\":{\"outlinewidth\":0,\"ticks\":\"\"}}}],\"carpet\":[{\"aaxis\":{\"endlinecolor\":\"#2a3f5f\",\"gridcolor\":\"white\",\"linecolor\":\"white\",\"minorgridcolor\":\"white\",\"startlinecolor\":\"#2a3f5f\"},\"baxis\":{\"endlinecolor\":\"#2a3f5f\",\"gridcolor\":\"white\",\"linecolor\":\"white\",\"minorgridcolor\":\"white\",\"startlinecolor\":\"#2a3f5f\"},\"type\":\"carpet\"}],\"table\":[{\"cells\":{\"fill\":{\"color\":\"#EBF0F8\"},\"line\":{\"color\":\"white\"}},\"header\":{\"fill\":{\"color\":\"#C8D4E3\"},\"line\":{\"color\":\"white\"}},\"type\":\"table\"}],\"barpolar\":[{\"marker\":{\"line\":{\"color\":\"#E5ECF6\",\"width\":0.5},\"pattern\":{\"fillmode\":\"overlay\",\"size\":10,\"solidity\":0.2}},\"type\":\"barpolar\"}],\"pie\":[{\"automargin\":true,\"type\":\"pie\"}]},\"layout\":{\"autotypenumbers\":\"strict\",\"colorway\":[\"#636efa\",\"#EF553B\",\"#00cc96\",\"#ab63fa\",\"#FFA15A\",\"#19d3f3\",\"#FF6692\",\"#B6E880\",\"#FF97FF\",\"#FECB52\"],\"font\":{\"color\":\"#2a3f5f\"},\"hovermode\":\"closest\",\"hoverlabel\":{\"align\":\"left\"},\"paper_bgcolor\":\"white\",\"plot_bgcolor\":\"#E5ECF6\",\"polar\":{\"bgcolor\":\"#E5ECF6\",\"angularaxis\":{\"gridcolor\":\"white\",\"linecolor\":\"white\",\"ticks\":\"\"},\"radialaxis\":{\"gridcolor\":\"white\",\"linecolor\":\"white\",\"ticks\":\"\"}},\"ternary\":{\"bgcolor\":\"#E5ECF6\",\"aaxis\":{\"gridcolor\":\"white\",\"linecolor\":\"white\",\"ticks\":\"\"},\"baxis\":{\"gridcolor\":\"white\",\"linecolor\":\"white\",\"ticks\":\"\"},\"caxis\":{\"gridcolor\":\"white\",\"linecolor\":\"white\",\"ticks\":\"\"}},\"coloraxis\":{\"colorbar\":{\"outlinewidth\":0,\"ticks\":\"\"}},\"colorscale\":{\"sequential\":[[0.0,\"#0d0887\"],[0.1111111111111111,\"#46039f\"],[0.2222222222222222,\"#7201a8\"],[0.3333333333333333,\"#9c179e\"],[0.4444444444444444,\"#bd3786\"],[0.5555555555555556,\"#d8576b\"],[0.6666666666666666,\"#ed7953\"],[0.7777777777777778,\"#fb9f3a\"],[0.8888888888888888,\"#fdca26\"],[1.0,\"#f0f921\"]],\"sequentialminus\":[[0.0,\"#0d0887\"],[0.1111111111111111,\"#46039f\"],[0.2222222222222222,\"#7201a8\"],[0.3333333333333333,\"#9c179e\"],[0.4444444444444444,\"#bd3786\"],[0.5555555555555556,\"#d8576b\"],[0.6666666666666666,\"#ed7953\"],[0.7777777777777778,\"#fb9f3a\"],[0.8888888888888888,\"#fdca26\"],[1.0,\"#f0f921\"]],\"diverging\":[[0,\"#8e0152\"],[0.1,\"#c51b7d\"],[0.2,\"#de77ae\"],[0.3,\"#f1b6da\"],[0.4,\"#fde0ef\"],[0.5,\"#f7f7f7\"],[0.6,\"#e6f5d0\"],[0.7,\"#b8e186\"],[0.8,\"#7fbc41\"],[0.9,\"#4d9221\"],[1,\"#276419\"]]},\"xaxis\":{\"gridcolor\":\"white\",\"linecolor\":\"white\",\"ticks\":\"\",\"title\":{\"standoff\":15},\"zerolinecolor\":\"white\",\"automargin\":true,\"zerolinewidth\":2},\"yaxis\":{\"gridcolor\":\"white\",\"linecolor\":\"white\",\"ticks\":\"\",\"title\":{\"standoff\":15},\"zerolinecolor\":\"white\",\"automargin\":true,\"zerolinewidth\":2},\"scene\":{\"xaxis\":{\"backgroundcolor\":\"#E5ECF6\",\"gridcolor\":\"white\",\"linecolor\":\"white\",\"showbackground\":true,\"ticks\":\"\",\"zerolinecolor\":\"white\",\"gridwidth\":2},\"yaxis\":{\"backgroundcolor\":\"#E5ECF6\",\"gridcolor\":\"white\",\"linecolor\":\"white\",\"showbackground\":true,\"ticks\":\"\",\"zerolinecolor\":\"white\",\"gridwidth\":2},\"zaxis\":{\"backgroundcolor\":\"#E5ECF6\",\"gridcolor\":\"white\",\"linecolor\":\"white\",\"showbackground\":true,\"ticks\":\"\",\"zerolinecolor\":\"white\",\"gridwidth\":2}},\"shapedefaults\":{\"line\":{\"color\":\"#2a3f5f\"}},\"annotationdefaults\":{\"arrowcolor\":\"#2a3f5f\",\"arrowhead\":0,\"arrowwidth\":1},\"geo\":{\"bgcolor\":\"white\",\"landcolor\":\"#E5ECF6\",\"subunitcolor\":\"white\",\"showland\":true,\"showlakes\":true,\"lakecolor\":\"white\"},\"title\":{\"x\":0.05},\"mapbox\":{\"style\":\"light\"}}},\"legend\":{\"tracegroupgap\":0},\"title\":{\"text\":\"Data Diagnostic: Synthesis (Score=1.0)\"}},                        {\"responsive\": true}                    ).then(function(){\n",
       "                            \n",
       "var gd = document.getElementById('0d66634a-afc1-4db5-a199-bd778032fc56');\n",
       "var x = new MutationObserver(function (mutations, observer) {{\n",
       "        var display = window.getComputedStyle(gd).display;\n",
       "        if (!display || display === 'none') {{\n",
       "            console.log([gd, 'removed!']);\n",
       "            Plotly.purge(gd);\n",
       "            observer.disconnect();\n",
       "        }}\n",
       "}});\n",
       "\n",
       "// Listen for the removal of the full notebook cells\n",
       "var notebookContainer = gd.closest('#notebook-container');\n",
       "if (notebookContainer) {{\n",
       "    x.observe(notebookContainer, {childList: true});\n",
       "}}\n",
       "\n",
       "// Listen for the clearing of the current output cell\n",
       "var outputEl = gd.closest('.output');\n",
       "if (outputEl) {{\n",
       "    x.observe(outputEl, {childList: true});\n",
       "}}\n",
       "\n",
       "                        })                };                });            </script>        </div>"
      ]
     },
     "metadata": {},
     "output_type": "display_data"
    },
    {
     "data": {
      "application/vnd.plotly.v1+json": {
       "config": {
        "plotlyServerURL": "https://plot.ly"
       },
       "data": [
        {
         "alignmentgroup": "True",
         "customdata": [
          [
           "RangeCoverage"
          ],
          [
           "RangeCoverage"
          ],
          [
           "RangeCoverage"
          ],
          [
           "RangeCoverage"
          ],
          [
           "RangeCoverage"
          ],
          [
           "RangeCoverage"
          ],
          [
           "RangeCoverage"
          ],
          [
           "RangeCoverage"
          ],
          [
           "RangeCoverage"
          ],
          [
           "RangeCoverage"
          ],
          [
           "RangeCoverage"
          ],
          [
           "RangeCoverage"
          ],
          [
           "RangeCoverage"
          ],
          [
           "RangeCoverage"
          ],
          [
           "RangeCoverage"
          ],
          [
           "RangeCoverage"
          ],
          [
           "RangeCoverage"
          ],
          [
           "RangeCoverage"
          ]
         ],
         "hovertemplate": "<b>%{hovertext}</b><br><br>Metric=%{customdata[0]}<br>Diagnostic Score=%{y}<extra></extra>",
         "hovertext": [
          "time",
          "wind_speed",
          "wind_angle",
          "position_z",
          "orientation_x",
          "orientation_y",
          "orientation_z",
          "orientation_w",
          "velocity_x",
          "velocity_y",
          "velocity_z",
          "angular_x",
          "angular_y",
          "angular_z",
          "linear_acceleration_x",
          "linear_acceleration_y",
          "linear_acceleration_z",
          "power_smoothed"
         ],
         "legendgroup": "RangeCoverage",
         "marker": {
          "color": "#000036",
          "pattern": {
           "shape": ""
          }
         },
         "name": "RangeCoverage",
         "offsetgroup": "RangeCoverage",
         "orientation": "v",
         "showlegend": true,
         "textposition": "auto",
         "type": "bar",
         "x": [
          "time",
          "wind_speed",
          "wind_angle",
          "position_z",
          "orientation_x",
          "orientation_y",
          "orientation_z",
          "orientation_w",
          "velocity_x",
          "velocity_y",
          "velocity_z",
          "angular_x",
          "angular_y",
          "angular_z",
          "linear_acceleration_x",
          "linear_acceleration_y",
          "linear_acceleration_z",
          "power_smoothed"
         ],
         "xaxis": "x",
         "y": [
          0.9965777827052102,
          0.9864513948765442,
          1,
          0.9999999999948822,
          0.7033194296520819,
          0.7541214157184593,
          0.9999999284492039,
          0.9999999292202006,
          0.6711261640873022,
          1,
          1,
          0.3896566855538004,
          0.5159153121050254,
          0.5125434511049489,
          0.8736848055082476,
          0,
          0.2666170859606988,
          0.5218765429688601
         ],
         "yaxis": "y"
        }
       ],
       "layout": {
        "barmode": "relative",
        "legend": {
         "title": {
          "text": "Metric"
         },
         "tracegroupgap": 0
        },
        "margin": {
         "t": 150
        },
        "plot_bgcolor": "#F5F5F8",
        "template": {
         "data": {
          "bar": [
           {
            "error_x": {
             "color": "#2a3f5f"
            },
            "error_y": {
             "color": "#2a3f5f"
            },
            "marker": {
             "line": {
              "color": "#E5ECF6",
              "width": 0.5
             },
             "pattern": {
              "fillmode": "overlay",
              "size": 10,
              "solidity": 0.2
             }
            },
            "type": "bar"
           }
          ],
          "barpolar": [
           {
            "marker": {
             "line": {
              "color": "#E5ECF6",
              "width": 0.5
             },
             "pattern": {
              "fillmode": "overlay",
              "size": 10,
              "solidity": 0.2
             }
            },
            "type": "barpolar"
           }
          ],
          "carpet": [
           {
            "aaxis": {
             "endlinecolor": "#2a3f5f",
             "gridcolor": "white",
             "linecolor": "white",
             "minorgridcolor": "white",
             "startlinecolor": "#2a3f5f"
            },
            "baxis": {
             "endlinecolor": "#2a3f5f",
             "gridcolor": "white",
             "linecolor": "white",
             "minorgridcolor": "white",
             "startlinecolor": "#2a3f5f"
            },
            "type": "carpet"
           }
          ],
          "choropleth": [
           {
            "colorbar": {
             "outlinewidth": 0,
             "ticks": ""
            },
            "type": "choropleth"
           }
          ],
          "contour": [
           {
            "colorbar": {
             "outlinewidth": 0,
             "ticks": ""
            },
            "colorscale": [
             [
              0,
              "#0d0887"
             ],
             [
              0.1111111111111111,
              "#46039f"
             ],
             [
              0.2222222222222222,
              "#7201a8"
             ],
             [
              0.3333333333333333,
              "#9c179e"
             ],
             [
              0.4444444444444444,
              "#bd3786"
             ],
             [
              0.5555555555555556,
              "#d8576b"
             ],
             [
              0.6666666666666666,
              "#ed7953"
             ],
             [
              0.7777777777777778,
              "#fb9f3a"
             ],
             [
              0.8888888888888888,
              "#fdca26"
             ],
             [
              1,
              "#f0f921"
             ]
            ],
            "type": "contour"
           }
          ],
          "contourcarpet": [
           {
            "colorbar": {
             "outlinewidth": 0,
             "ticks": ""
            },
            "type": "contourcarpet"
           }
          ],
          "heatmap": [
           {
            "colorbar": {
             "outlinewidth": 0,
             "ticks": ""
            },
            "colorscale": [
             [
              0,
              "#0d0887"
             ],
             [
              0.1111111111111111,
              "#46039f"
             ],
             [
              0.2222222222222222,
              "#7201a8"
             ],
             [
              0.3333333333333333,
              "#9c179e"
             ],
             [
              0.4444444444444444,
              "#bd3786"
             ],
             [
              0.5555555555555556,
              "#d8576b"
             ],
             [
              0.6666666666666666,
              "#ed7953"
             ],
             [
              0.7777777777777778,
              "#fb9f3a"
             ],
             [
              0.8888888888888888,
              "#fdca26"
             ],
             [
              1,
              "#f0f921"
             ]
            ],
            "type": "heatmap"
           }
          ],
          "heatmapgl": [
           {
            "colorbar": {
             "outlinewidth": 0,
             "ticks": ""
            },
            "colorscale": [
             [
              0,
              "#0d0887"
             ],
             [
              0.1111111111111111,
              "#46039f"
             ],
             [
              0.2222222222222222,
              "#7201a8"
             ],
             [
              0.3333333333333333,
              "#9c179e"
             ],
             [
              0.4444444444444444,
              "#bd3786"
             ],
             [
              0.5555555555555556,
              "#d8576b"
             ],
             [
              0.6666666666666666,
              "#ed7953"
             ],
             [
              0.7777777777777778,
              "#fb9f3a"
             ],
             [
              0.8888888888888888,
              "#fdca26"
             ],
             [
              1,
              "#f0f921"
             ]
            ],
            "type": "heatmapgl"
           }
          ],
          "histogram": [
           {
            "marker": {
             "pattern": {
              "fillmode": "overlay",
              "size": 10,
              "solidity": 0.2
             }
            },
            "type": "histogram"
           }
          ],
          "histogram2d": [
           {
            "colorbar": {
             "outlinewidth": 0,
             "ticks": ""
            },
            "colorscale": [
             [
              0,
              "#0d0887"
             ],
             [
              0.1111111111111111,
              "#46039f"
             ],
             [
              0.2222222222222222,
              "#7201a8"
             ],
             [
              0.3333333333333333,
              "#9c179e"
             ],
             [
              0.4444444444444444,
              "#bd3786"
             ],
             [
              0.5555555555555556,
              "#d8576b"
             ],
             [
              0.6666666666666666,
              "#ed7953"
             ],
             [
              0.7777777777777778,
              "#fb9f3a"
             ],
             [
              0.8888888888888888,
              "#fdca26"
             ],
             [
              1,
              "#f0f921"
             ]
            ],
            "type": "histogram2d"
           }
          ],
          "histogram2dcontour": [
           {
            "colorbar": {
             "outlinewidth": 0,
             "ticks": ""
            },
            "colorscale": [
             [
              0,
              "#0d0887"
             ],
             [
              0.1111111111111111,
              "#46039f"
             ],
             [
              0.2222222222222222,
              "#7201a8"
             ],
             [
              0.3333333333333333,
              "#9c179e"
             ],
             [
              0.4444444444444444,
              "#bd3786"
             ],
             [
              0.5555555555555556,
              "#d8576b"
             ],
             [
              0.6666666666666666,
              "#ed7953"
             ],
             [
              0.7777777777777778,
              "#fb9f3a"
             ],
             [
              0.8888888888888888,
              "#fdca26"
             ],
             [
              1,
              "#f0f921"
             ]
            ],
            "type": "histogram2dcontour"
           }
          ],
          "mesh3d": [
           {
            "colorbar": {
             "outlinewidth": 0,
             "ticks": ""
            },
            "type": "mesh3d"
           }
          ],
          "parcoords": [
           {
            "line": {
             "colorbar": {
              "outlinewidth": 0,
              "ticks": ""
             }
            },
            "type": "parcoords"
           }
          ],
          "pie": [
           {
            "automargin": true,
            "type": "pie"
           }
          ],
          "scatter": [
           {
            "fillpattern": {
             "fillmode": "overlay",
             "size": 10,
             "solidity": 0.2
            },
            "type": "scatter"
           }
          ],
          "scatter3d": [
           {
            "line": {
             "colorbar": {
              "outlinewidth": 0,
              "ticks": ""
             }
            },
            "marker": {
             "colorbar": {
              "outlinewidth": 0,
              "ticks": ""
             }
            },
            "type": "scatter3d"
           }
          ],
          "scattercarpet": [
           {
            "marker": {
             "colorbar": {
              "outlinewidth": 0,
              "ticks": ""
             }
            },
            "type": "scattercarpet"
           }
          ],
          "scattergeo": [
           {
            "marker": {
             "colorbar": {
              "outlinewidth": 0,
              "ticks": ""
             }
            },
            "type": "scattergeo"
           }
          ],
          "scattergl": [
           {
            "marker": {
             "colorbar": {
              "outlinewidth": 0,
              "ticks": ""
             }
            },
            "type": "scattergl"
           }
          ],
          "scattermapbox": [
           {
            "marker": {
             "colorbar": {
              "outlinewidth": 0,
              "ticks": ""
             }
            },
            "type": "scattermapbox"
           }
          ],
          "scatterpolar": [
           {
            "marker": {
             "colorbar": {
              "outlinewidth": 0,
              "ticks": ""
             }
            },
            "type": "scatterpolar"
           }
          ],
          "scatterpolargl": [
           {
            "marker": {
             "colorbar": {
              "outlinewidth": 0,
              "ticks": ""
             }
            },
            "type": "scatterpolargl"
           }
          ],
          "scatterternary": [
           {
            "marker": {
             "colorbar": {
              "outlinewidth": 0,
              "ticks": ""
             }
            },
            "type": "scatterternary"
           }
          ],
          "surface": [
           {
            "colorbar": {
             "outlinewidth": 0,
             "ticks": ""
            },
            "colorscale": [
             [
              0,
              "#0d0887"
             ],
             [
              0.1111111111111111,
              "#46039f"
             ],
             [
              0.2222222222222222,
              "#7201a8"
             ],
             [
              0.3333333333333333,
              "#9c179e"
             ],
             [
              0.4444444444444444,
              "#bd3786"
             ],
             [
              0.5555555555555556,
              "#d8576b"
             ],
             [
              0.6666666666666666,
              "#ed7953"
             ],
             [
              0.7777777777777778,
              "#fb9f3a"
             ],
             [
              0.8888888888888888,
              "#fdca26"
             ],
             [
              1,
              "#f0f921"
             ]
            ],
            "type": "surface"
           }
          ],
          "table": [
           {
            "cells": {
             "fill": {
              "color": "#EBF0F8"
             },
             "line": {
              "color": "white"
             }
            },
            "header": {
             "fill": {
              "color": "#C8D4E3"
             },
             "line": {
              "color": "white"
             }
            },
            "type": "table"
           }
          ]
         },
         "layout": {
          "annotationdefaults": {
           "arrowcolor": "#2a3f5f",
           "arrowhead": 0,
           "arrowwidth": 1
          },
          "autotypenumbers": "strict",
          "coloraxis": {
           "colorbar": {
            "outlinewidth": 0,
            "ticks": ""
           }
          },
          "colorscale": {
           "diverging": [
            [
             0,
             "#8e0152"
            ],
            [
             0.1,
             "#c51b7d"
            ],
            [
             0.2,
             "#de77ae"
            ],
            [
             0.3,
             "#f1b6da"
            ],
            [
             0.4,
             "#fde0ef"
            ],
            [
             0.5,
             "#f7f7f7"
            ],
            [
             0.6,
             "#e6f5d0"
            ],
            [
             0.7,
             "#b8e186"
            ],
            [
             0.8,
             "#7fbc41"
            ],
            [
             0.9,
             "#4d9221"
            ],
            [
             1,
             "#276419"
            ]
           ],
           "sequential": [
            [
             0,
             "#0d0887"
            ],
            [
             0.1111111111111111,
             "#46039f"
            ],
            [
             0.2222222222222222,
             "#7201a8"
            ],
            [
             0.3333333333333333,
             "#9c179e"
            ],
            [
             0.4444444444444444,
             "#bd3786"
            ],
            [
             0.5555555555555556,
             "#d8576b"
            ],
            [
             0.6666666666666666,
             "#ed7953"
            ],
            [
             0.7777777777777778,
             "#fb9f3a"
            ],
            [
             0.8888888888888888,
             "#fdca26"
            ],
            [
             1,
             "#f0f921"
            ]
           ],
           "sequentialminus": [
            [
             0,
             "#0d0887"
            ],
            [
             0.1111111111111111,
             "#46039f"
            ],
            [
             0.2222222222222222,
             "#7201a8"
            ],
            [
             0.3333333333333333,
             "#9c179e"
            ],
            [
             0.4444444444444444,
             "#bd3786"
            ],
            [
             0.5555555555555556,
             "#d8576b"
            ],
            [
             0.6666666666666666,
             "#ed7953"
            ],
            [
             0.7777777777777778,
             "#fb9f3a"
            ],
            [
             0.8888888888888888,
             "#fdca26"
            ],
            [
             1,
             "#f0f921"
            ]
           ]
          },
          "colorway": [
           "#636efa",
           "#EF553B",
           "#00cc96",
           "#ab63fa",
           "#FFA15A",
           "#19d3f3",
           "#FF6692",
           "#B6E880",
           "#FF97FF",
           "#FECB52"
          ],
          "font": {
           "color": "#2a3f5f"
          },
          "geo": {
           "bgcolor": "white",
           "lakecolor": "white",
           "landcolor": "#E5ECF6",
           "showlakes": true,
           "showland": true,
           "subunitcolor": "white"
          },
          "hoverlabel": {
           "align": "left"
          },
          "hovermode": "closest",
          "mapbox": {
           "style": "light"
          },
          "paper_bgcolor": "white",
          "plot_bgcolor": "#E5ECF6",
          "polar": {
           "angularaxis": {
            "gridcolor": "white",
            "linecolor": "white",
            "ticks": ""
           },
           "bgcolor": "#E5ECF6",
           "radialaxis": {
            "gridcolor": "white",
            "linecolor": "white",
            "ticks": ""
           }
          },
          "scene": {
           "xaxis": {
            "backgroundcolor": "#E5ECF6",
            "gridcolor": "white",
            "gridwidth": 2,
            "linecolor": "white",
            "showbackground": true,
            "ticks": "",
            "zerolinecolor": "white"
           },
           "yaxis": {
            "backgroundcolor": "#E5ECF6",
            "gridcolor": "white",
            "gridwidth": 2,
            "linecolor": "white",
            "showbackground": true,
            "ticks": "",
            "zerolinecolor": "white"
           },
           "zaxis": {
            "backgroundcolor": "#E5ECF6",
            "gridcolor": "white",
            "gridwidth": 2,
            "linecolor": "white",
            "showbackground": true,
            "ticks": "",
            "zerolinecolor": "white"
           }
          },
          "shapedefaults": {
           "line": {
            "color": "#2a3f5f"
           }
          },
          "ternary": {
           "aaxis": {
            "gridcolor": "white",
            "linecolor": "white",
            "ticks": ""
           },
           "baxis": {
            "gridcolor": "white",
            "linecolor": "white",
            "ticks": ""
           },
           "bgcolor": "#E5ECF6",
           "caxis": {
            "gridcolor": "white",
            "linecolor": "white",
            "ticks": ""
           }
          },
          "title": {
           "x": 0.05
          },
          "xaxis": {
           "automargin": true,
           "gridcolor": "white",
           "linecolor": "white",
           "ticks": "",
           "title": {
            "standoff": 15
           },
           "zerolinecolor": "white",
           "zerolinewidth": 2
          },
          "yaxis": {
           "automargin": true,
           "gridcolor": "white",
           "linecolor": "white",
           "ticks": "",
           "title": {
            "standoff": 15
           },
           "zerolinecolor": "white",
           "zerolinewidth": 2
          }
         }
        },
        "title": {
         "text": "Data Diagnostics: Column Coverage (Average Score=0.73)"
        },
        "xaxis": {
         "anchor": "y",
         "categoryorder": "total ascending",
         "domain": [
          0,
          1
         ],
         "title": {
          "text": "Column Name"
         }
        },
        "yaxis": {
         "anchor": "x",
         "domain": [
          0,
          1
         ],
         "range": [
          0,
          1
         ],
         "title": {
          "text": "Diagnostic Score"
         }
        }
       }
      },
      "text/html": [
       "<div>                            <div id=\"167a082d-019d-4820-8c4c-dd3d2368032f\" class=\"plotly-graph-div\" style=\"height:525px; width:100%;\"></div>            <script type=\"text/javascript\">                require([\"plotly\"], function(Plotly) {                    window.PLOTLYENV=window.PLOTLYENV || {};                                    if (document.getElementById(\"167a082d-019d-4820-8c4c-dd3d2368032f\")) {                    Plotly.newPlot(                        \"167a082d-019d-4820-8c4c-dd3d2368032f\",                        [{\"alignmentgroup\":\"True\",\"customdata\":[[\"RangeCoverage\"],[\"RangeCoverage\"],[\"RangeCoverage\"],[\"RangeCoverage\"],[\"RangeCoverage\"],[\"RangeCoverage\"],[\"RangeCoverage\"],[\"RangeCoverage\"],[\"RangeCoverage\"],[\"RangeCoverage\"],[\"RangeCoverage\"],[\"RangeCoverage\"],[\"RangeCoverage\"],[\"RangeCoverage\"],[\"RangeCoverage\"],[\"RangeCoverage\"],[\"RangeCoverage\"],[\"RangeCoverage\"]],\"hovertemplate\":\"\\u003cb\\u003e%{hovertext}\\u003c\\u002fb\\u003e\\u003cbr\\u003e\\u003cbr\\u003eMetric=%{customdata[0]}\\u003cbr\\u003eDiagnostic Score=%{y}\\u003cextra\\u003e\\u003c\\u002fextra\\u003e\",\"hovertext\":[\"time\",\"wind_speed\",\"wind_angle\",\"position_z\",\"orientation_x\",\"orientation_y\",\"orientation_z\",\"orientation_w\",\"velocity_x\",\"velocity_y\",\"velocity_z\",\"angular_x\",\"angular_y\",\"angular_z\",\"linear_acceleration_x\",\"linear_acceleration_y\",\"linear_acceleration_z\",\"power_smoothed\"],\"legendgroup\":\"RangeCoverage\",\"marker\":{\"color\":\"#000036\",\"pattern\":{\"shape\":\"\"}},\"name\":\"RangeCoverage\",\"offsetgroup\":\"RangeCoverage\",\"orientation\":\"v\",\"showlegend\":true,\"textposition\":\"auto\",\"x\":[\"time\",\"wind_speed\",\"wind_angle\",\"position_z\",\"orientation_x\",\"orientation_y\",\"orientation_z\",\"orientation_w\",\"velocity_x\",\"velocity_y\",\"velocity_z\",\"angular_x\",\"angular_y\",\"angular_z\",\"linear_acceleration_x\",\"linear_acceleration_y\",\"linear_acceleration_z\",\"power_smoothed\"],\"xaxis\":\"x\",\"y\":[0.9965777827052102,0.9864513948765442,1.0,0.9999999999948822,0.7033194296520819,0.7541214157184593,0.9999999284492039,0.9999999292202006,0.6711261640873022,1.0,1.0,0.3896566855538004,0.5159153121050254,0.5125434511049489,0.8736848055082476,0.0,0.2666170859606988,0.5218765429688601],\"yaxis\":\"y\",\"type\":\"bar\"}],                        {\"template\":{\"data\":{\"histogram2dcontour\":[{\"type\":\"histogram2dcontour\",\"colorbar\":{\"outlinewidth\":0,\"ticks\":\"\"},\"colorscale\":[[0.0,\"#0d0887\"],[0.1111111111111111,\"#46039f\"],[0.2222222222222222,\"#7201a8\"],[0.3333333333333333,\"#9c179e\"],[0.4444444444444444,\"#bd3786\"],[0.5555555555555556,\"#d8576b\"],[0.6666666666666666,\"#ed7953\"],[0.7777777777777778,\"#fb9f3a\"],[0.8888888888888888,\"#fdca26\"],[1.0,\"#f0f921\"]]}],\"choropleth\":[{\"type\":\"choropleth\",\"colorbar\":{\"outlinewidth\":0,\"ticks\":\"\"}}],\"histogram2d\":[{\"type\":\"histogram2d\",\"colorbar\":{\"outlinewidth\":0,\"ticks\":\"\"},\"colorscale\":[[0.0,\"#0d0887\"],[0.1111111111111111,\"#46039f\"],[0.2222222222222222,\"#7201a8\"],[0.3333333333333333,\"#9c179e\"],[0.4444444444444444,\"#bd3786\"],[0.5555555555555556,\"#d8576b\"],[0.6666666666666666,\"#ed7953\"],[0.7777777777777778,\"#fb9f3a\"],[0.8888888888888888,\"#fdca26\"],[1.0,\"#f0f921\"]]}],\"heatmap\":[{\"type\":\"heatmap\",\"colorbar\":{\"outlinewidth\":0,\"ticks\":\"\"},\"colorscale\":[[0.0,\"#0d0887\"],[0.1111111111111111,\"#46039f\"],[0.2222222222222222,\"#7201a8\"],[0.3333333333333333,\"#9c179e\"],[0.4444444444444444,\"#bd3786\"],[0.5555555555555556,\"#d8576b\"],[0.6666666666666666,\"#ed7953\"],[0.7777777777777778,\"#fb9f3a\"],[0.8888888888888888,\"#fdca26\"],[1.0,\"#f0f921\"]]}],\"heatmapgl\":[{\"type\":\"heatmapgl\",\"colorbar\":{\"outlinewidth\":0,\"ticks\":\"\"},\"colorscale\":[[0.0,\"#0d0887\"],[0.1111111111111111,\"#46039f\"],[0.2222222222222222,\"#7201a8\"],[0.3333333333333333,\"#9c179e\"],[0.4444444444444444,\"#bd3786\"],[0.5555555555555556,\"#d8576b\"],[0.6666666666666666,\"#ed7953\"],[0.7777777777777778,\"#fb9f3a\"],[0.8888888888888888,\"#fdca26\"],[1.0,\"#f0f921\"]]}],\"contourcarpet\":[{\"type\":\"contourcarpet\",\"colorbar\":{\"outlinewidth\":0,\"ticks\":\"\"}}],\"contour\":[{\"type\":\"contour\",\"colorbar\":{\"outlinewidth\":0,\"ticks\":\"\"},\"colorscale\":[[0.0,\"#0d0887\"],[0.1111111111111111,\"#46039f\"],[0.2222222222222222,\"#7201a8\"],[0.3333333333333333,\"#9c179e\"],[0.4444444444444444,\"#bd3786\"],[0.5555555555555556,\"#d8576b\"],[0.6666666666666666,\"#ed7953\"],[0.7777777777777778,\"#fb9f3a\"],[0.8888888888888888,\"#fdca26\"],[1.0,\"#f0f921\"]]}],\"surface\":[{\"type\":\"surface\",\"colorbar\":{\"outlinewidth\":0,\"ticks\":\"\"},\"colorscale\":[[0.0,\"#0d0887\"],[0.1111111111111111,\"#46039f\"],[0.2222222222222222,\"#7201a8\"],[0.3333333333333333,\"#9c179e\"],[0.4444444444444444,\"#bd3786\"],[0.5555555555555556,\"#d8576b\"],[0.6666666666666666,\"#ed7953\"],[0.7777777777777778,\"#fb9f3a\"],[0.8888888888888888,\"#fdca26\"],[1.0,\"#f0f921\"]]}],\"mesh3d\":[{\"type\":\"mesh3d\",\"colorbar\":{\"outlinewidth\":0,\"ticks\":\"\"}}],\"scatter\":[{\"fillpattern\":{\"fillmode\":\"overlay\",\"size\":10,\"solidity\":0.2},\"type\":\"scatter\"}],\"parcoords\":[{\"type\":\"parcoords\",\"line\":{\"colorbar\":{\"outlinewidth\":0,\"ticks\":\"\"}}}],\"scatterpolargl\":[{\"type\":\"scatterpolargl\",\"marker\":{\"colorbar\":{\"outlinewidth\":0,\"ticks\":\"\"}}}],\"bar\":[{\"error_x\":{\"color\":\"#2a3f5f\"},\"error_y\":{\"color\":\"#2a3f5f\"},\"marker\":{\"line\":{\"color\":\"#E5ECF6\",\"width\":0.5},\"pattern\":{\"fillmode\":\"overlay\",\"size\":10,\"solidity\":0.2}},\"type\":\"bar\"}],\"scattergeo\":[{\"type\":\"scattergeo\",\"marker\":{\"colorbar\":{\"outlinewidth\":0,\"ticks\":\"\"}}}],\"scatterpolar\":[{\"type\":\"scatterpolar\",\"marker\":{\"colorbar\":{\"outlinewidth\":0,\"ticks\":\"\"}}}],\"histogram\":[{\"marker\":{\"pattern\":{\"fillmode\":\"overlay\",\"size\":10,\"solidity\":0.2}},\"type\":\"histogram\"}],\"scattergl\":[{\"type\":\"scattergl\",\"marker\":{\"colorbar\":{\"outlinewidth\":0,\"ticks\":\"\"}}}],\"scatter3d\":[{\"type\":\"scatter3d\",\"line\":{\"colorbar\":{\"outlinewidth\":0,\"ticks\":\"\"}},\"marker\":{\"colorbar\":{\"outlinewidth\":0,\"ticks\":\"\"}}}],\"scattermapbox\":[{\"type\":\"scattermapbox\",\"marker\":{\"colorbar\":{\"outlinewidth\":0,\"ticks\":\"\"}}}],\"scatterternary\":[{\"type\":\"scatterternary\",\"marker\":{\"colorbar\":{\"outlinewidth\":0,\"ticks\":\"\"}}}],\"scattercarpet\":[{\"type\":\"scattercarpet\",\"marker\":{\"colorbar\":{\"outlinewidth\":0,\"ticks\":\"\"}}}],\"carpet\":[{\"aaxis\":{\"endlinecolor\":\"#2a3f5f\",\"gridcolor\":\"white\",\"linecolor\":\"white\",\"minorgridcolor\":\"white\",\"startlinecolor\":\"#2a3f5f\"},\"baxis\":{\"endlinecolor\":\"#2a3f5f\",\"gridcolor\":\"white\",\"linecolor\":\"white\",\"minorgridcolor\":\"white\",\"startlinecolor\":\"#2a3f5f\"},\"type\":\"carpet\"}],\"table\":[{\"cells\":{\"fill\":{\"color\":\"#EBF0F8\"},\"line\":{\"color\":\"white\"}},\"header\":{\"fill\":{\"color\":\"#C8D4E3\"},\"line\":{\"color\":\"white\"}},\"type\":\"table\"}],\"barpolar\":[{\"marker\":{\"line\":{\"color\":\"#E5ECF6\",\"width\":0.5},\"pattern\":{\"fillmode\":\"overlay\",\"size\":10,\"solidity\":0.2}},\"type\":\"barpolar\"}],\"pie\":[{\"automargin\":true,\"type\":\"pie\"}]},\"layout\":{\"autotypenumbers\":\"strict\",\"colorway\":[\"#636efa\",\"#EF553B\",\"#00cc96\",\"#ab63fa\",\"#FFA15A\",\"#19d3f3\",\"#FF6692\",\"#B6E880\",\"#FF97FF\",\"#FECB52\"],\"font\":{\"color\":\"#2a3f5f\"},\"hovermode\":\"closest\",\"hoverlabel\":{\"align\":\"left\"},\"paper_bgcolor\":\"white\",\"plot_bgcolor\":\"#E5ECF6\",\"polar\":{\"bgcolor\":\"#E5ECF6\",\"angularaxis\":{\"gridcolor\":\"white\",\"linecolor\":\"white\",\"ticks\":\"\"},\"radialaxis\":{\"gridcolor\":\"white\",\"linecolor\":\"white\",\"ticks\":\"\"}},\"ternary\":{\"bgcolor\":\"#E5ECF6\",\"aaxis\":{\"gridcolor\":\"white\",\"linecolor\":\"white\",\"ticks\":\"\"},\"baxis\":{\"gridcolor\":\"white\",\"linecolor\":\"white\",\"ticks\":\"\"},\"caxis\":{\"gridcolor\":\"white\",\"linecolor\":\"white\",\"ticks\":\"\"}},\"coloraxis\":{\"colorbar\":{\"outlinewidth\":0,\"ticks\":\"\"}},\"colorscale\":{\"sequential\":[[0.0,\"#0d0887\"],[0.1111111111111111,\"#46039f\"],[0.2222222222222222,\"#7201a8\"],[0.3333333333333333,\"#9c179e\"],[0.4444444444444444,\"#bd3786\"],[0.5555555555555556,\"#d8576b\"],[0.6666666666666666,\"#ed7953\"],[0.7777777777777778,\"#fb9f3a\"],[0.8888888888888888,\"#fdca26\"],[1.0,\"#f0f921\"]],\"sequentialminus\":[[0.0,\"#0d0887\"],[0.1111111111111111,\"#46039f\"],[0.2222222222222222,\"#7201a8\"],[0.3333333333333333,\"#9c179e\"],[0.4444444444444444,\"#bd3786\"],[0.5555555555555556,\"#d8576b\"],[0.6666666666666666,\"#ed7953\"],[0.7777777777777778,\"#fb9f3a\"],[0.8888888888888888,\"#fdca26\"],[1.0,\"#f0f921\"]],\"diverging\":[[0,\"#8e0152\"],[0.1,\"#c51b7d\"],[0.2,\"#de77ae\"],[0.3,\"#f1b6da\"],[0.4,\"#fde0ef\"],[0.5,\"#f7f7f7\"],[0.6,\"#e6f5d0\"],[0.7,\"#b8e186\"],[0.8,\"#7fbc41\"],[0.9,\"#4d9221\"],[1,\"#276419\"]]},\"xaxis\":{\"gridcolor\":\"white\",\"linecolor\":\"white\",\"ticks\":\"\",\"title\":{\"standoff\":15},\"zerolinecolor\":\"white\",\"automargin\":true,\"zerolinewidth\":2},\"yaxis\":{\"gridcolor\":\"white\",\"linecolor\":\"white\",\"ticks\":\"\",\"title\":{\"standoff\":15},\"zerolinecolor\":\"white\",\"automargin\":true,\"zerolinewidth\":2},\"scene\":{\"xaxis\":{\"backgroundcolor\":\"#E5ECF6\",\"gridcolor\":\"white\",\"linecolor\":\"white\",\"showbackground\":true,\"ticks\":\"\",\"zerolinecolor\":\"white\",\"gridwidth\":2},\"yaxis\":{\"backgroundcolor\":\"#E5ECF6\",\"gridcolor\":\"white\",\"linecolor\":\"white\",\"showbackground\":true,\"ticks\":\"\",\"zerolinecolor\":\"white\",\"gridwidth\":2},\"zaxis\":{\"backgroundcolor\":\"#E5ECF6\",\"gridcolor\":\"white\",\"linecolor\":\"white\",\"showbackground\":true,\"ticks\":\"\",\"zerolinecolor\":\"white\",\"gridwidth\":2}},\"shapedefaults\":{\"line\":{\"color\":\"#2a3f5f\"}},\"annotationdefaults\":{\"arrowcolor\":\"#2a3f5f\",\"arrowhead\":0,\"arrowwidth\":1},\"geo\":{\"bgcolor\":\"white\",\"landcolor\":\"#E5ECF6\",\"subunitcolor\":\"white\",\"showland\":true,\"showlakes\":true,\"lakecolor\":\"white\"},\"title\":{\"x\":0.05},\"mapbox\":{\"style\":\"light\"}}},\"xaxis\":{\"anchor\":\"y\",\"domain\":[0.0,1.0],\"title\":{\"text\":\"Column Name\"},\"categoryorder\":\"total ascending\"},\"yaxis\":{\"anchor\":\"x\",\"domain\":[0.0,1.0],\"title\":{\"text\":\"Diagnostic Score\"},\"range\":[0,1]},\"legend\":{\"title\":{\"text\":\"Metric\"},\"tracegroupgap\":0},\"title\":{\"text\":\"Data Diagnostics: Column Coverage (Average Score=0.73)\"},\"barmode\":\"relative\",\"margin\":{\"t\":150},\"plot_bgcolor\":\"#F5F5F8\"},                        {\"responsive\": true}                    ).then(function(){\n",
       "                            \n",
       "var gd = document.getElementById('167a082d-019d-4820-8c4c-dd3d2368032f');\n",
       "var x = new MutationObserver(function (mutations, observer) {{\n",
       "        var display = window.getComputedStyle(gd).display;\n",
       "        if (!display || display === 'none') {{\n",
       "            console.log([gd, 'removed!']);\n",
       "            Plotly.purge(gd);\n",
       "            observer.disconnect();\n",
       "        }}\n",
       "}});\n",
       "\n",
       "// Listen for the removal of the full notebook cells\n",
       "var notebookContainer = gd.closest('#notebook-container');\n",
       "if (notebookContainer) {{\n",
       "    x.observe(notebookContainer, {childList: true});\n",
       "}}\n",
       "\n",
       "// Listen for the clearing of the current output cell\n",
       "var outputEl = gd.closest('.output');\n",
       "if (outputEl) {{\n",
       "    x.observe(outputEl, {childList: true});\n",
       "}}\n",
       "\n",
       "                        })                };                });            </script>        </div>"
      ]
     },
     "metadata": {},
     "output_type": "display_data"
    },
    {
     "data": {
      "application/vnd.plotly.v1+json": {
       "config": {
        "plotlyServerURL": "https://plot.ly"
       },
       "data": [
        {
         "alignmentgroup": "True",
         "customdata": [
          [
           "BoundaryAdherence"
          ],
          [
           "BoundaryAdherence"
          ],
          [
           "BoundaryAdherence"
          ],
          [
           "BoundaryAdherence"
          ],
          [
           "BoundaryAdherence"
          ],
          [
           "BoundaryAdherence"
          ],
          [
           "BoundaryAdherence"
          ],
          [
           "BoundaryAdherence"
          ],
          [
           "BoundaryAdherence"
          ],
          [
           "BoundaryAdherence"
          ],
          [
           "BoundaryAdherence"
          ],
          [
           "BoundaryAdherence"
          ],
          [
           "BoundaryAdherence"
          ],
          [
           "BoundaryAdherence"
          ],
          [
           "BoundaryAdherence"
          ],
          [
           "BoundaryAdherence"
          ],
          [
           "BoundaryAdherence"
          ],
          [
           "BoundaryAdherence"
          ],
          [
           "BoundaryAdherence"
          ]
         ],
         "hovertemplate": "<b>%{hovertext}</b><br><br>Metric=%{customdata[0]}<br>Diagnostic Score=%{y}<extra></extra>",
         "hovertext": [
          "flight",
          "time",
          "wind_speed",
          "wind_angle",
          "position_z",
          "orientation_x",
          "orientation_y",
          "orientation_z",
          "orientation_w",
          "velocity_x",
          "velocity_y",
          "velocity_z",
          "angular_x",
          "angular_y",
          "angular_z",
          "linear_acceleration_x",
          "linear_acceleration_y",
          "linear_acceleration_z",
          "power_smoothed"
         ],
         "legendgroup": "BoundaryAdherence",
         "marker": {
          "color": "#000036",
          "pattern": {
           "shape": ""
          }
         },
         "name": "BoundaryAdherence",
         "offsetgroup": "BoundaryAdherence",
         "orientation": "v",
         "showlegend": true,
         "textposition": "auto",
         "type": "bar",
         "x": [
          "flight",
          "time",
          "wind_speed",
          "wind_angle",
          "position_z",
          "orientation_x",
          "orientation_y",
          "orientation_z",
          "orientation_w",
          "velocity_x",
          "velocity_y",
          "velocity_z",
          "angular_x",
          "angular_y",
          "angular_z",
          "linear_acceleration_x",
          "linear_acceleration_y",
          "linear_acceleration_z",
          "power_smoothed"
         ],
         "xaxis": "x",
         "y": [
          1,
          1,
          1,
          1,
          1,
          1,
          1,
          1,
          1,
          1,
          1,
          1,
          1,
          1,
          1,
          1,
          1,
          1,
          1
         ],
         "yaxis": "y"
        }
       ],
       "layout": {
        "barmode": "relative",
        "legend": {
         "title": {
          "text": "Metric"
         },
         "tracegroupgap": 0
        },
        "margin": {
         "t": 150
        },
        "plot_bgcolor": "#F5F5F8",
        "template": {
         "data": {
          "bar": [
           {
            "error_x": {
             "color": "#2a3f5f"
            },
            "error_y": {
             "color": "#2a3f5f"
            },
            "marker": {
             "line": {
              "color": "#E5ECF6",
              "width": 0.5
             },
             "pattern": {
              "fillmode": "overlay",
              "size": 10,
              "solidity": 0.2
             }
            },
            "type": "bar"
           }
          ],
          "barpolar": [
           {
            "marker": {
             "line": {
              "color": "#E5ECF6",
              "width": 0.5
             },
             "pattern": {
              "fillmode": "overlay",
              "size": 10,
              "solidity": 0.2
             }
            },
            "type": "barpolar"
           }
          ],
          "carpet": [
           {
            "aaxis": {
             "endlinecolor": "#2a3f5f",
             "gridcolor": "white",
             "linecolor": "white",
             "minorgridcolor": "white",
             "startlinecolor": "#2a3f5f"
            },
            "baxis": {
             "endlinecolor": "#2a3f5f",
             "gridcolor": "white",
             "linecolor": "white",
             "minorgridcolor": "white",
             "startlinecolor": "#2a3f5f"
            },
            "type": "carpet"
           }
          ],
          "choropleth": [
           {
            "colorbar": {
             "outlinewidth": 0,
             "ticks": ""
            },
            "type": "choropleth"
           }
          ],
          "contour": [
           {
            "colorbar": {
             "outlinewidth": 0,
             "ticks": ""
            },
            "colorscale": [
             [
              0,
              "#0d0887"
             ],
             [
              0.1111111111111111,
              "#46039f"
             ],
             [
              0.2222222222222222,
              "#7201a8"
             ],
             [
              0.3333333333333333,
              "#9c179e"
             ],
             [
              0.4444444444444444,
              "#bd3786"
             ],
             [
              0.5555555555555556,
              "#d8576b"
             ],
             [
              0.6666666666666666,
              "#ed7953"
             ],
             [
              0.7777777777777778,
              "#fb9f3a"
             ],
             [
              0.8888888888888888,
              "#fdca26"
             ],
             [
              1,
              "#f0f921"
             ]
            ],
            "type": "contour"
           }
          ],
          "contourcarpet": [
           {
            "colorbar": {
             "outlinewidth": 0,
             "ticks": ""
            },
            "type": "contourcarpet"
           }
          ],
          "heatmap": [
           {
            "colorbar": {
             "outlinewidth": 0,
             "ticks": ""
            },
            "colorscale": [
             [
              0,
              "#0d0887"
             ],
             [
              0.1111111111111111,
              "#46039f"
             ],
             [
              0.2222222222222222,
              "#7201a8"
             ],
             [
              0.3333333333333333,
              "#9c179e"
             ],
             [
              0.4444444444444444,
              "#bd3786"
             ],
             [
              0.5555555555555556,
              "#d8576b"
             ],
             [
              0.6666666666666666,
              "#ed7953"
             ],
             [
              0.7777777777777778,
              "#fb9f3a"
             ],
             [
              0.8888888888888888,
              "#fdca26"
             ],
             [
              1,
              "#f0f921"
             ]
            ],
            "type": "heatmap"
           }
          ],
          "heatmapgl": [
           {
            "colorbar": {
             "outlinewidth": 0,
             "ticks": ""
            },
            "colorscale": [
             [
              0,
              "#0d0887"
             ],
             [
              0.1111111111111111,
              "#46039f"
             ],
             [
              0.2222222222222222,
              "#7201a8"
             ],
             [
              0.3333333333333333,
              "#9c179e"
             ],
             [
              0.4444444444444444,
              "#bd3786"
             ],
             [
              0.5555555555555556,
              "#d8576b"
             ],
             [
              0.6666666666666666,
              "#ed7953"
             ],
             [
              0.7777777777777778,
              "#fb9f3a"
             ],
             [
              0.8888888888888888,
              "#fdca26"
             ],
             [
              1,
              "#f0f921"
             ]
            ],
            "type": "heatmapgl"
           }
          ],
          "histogram": [
           {
            "marker": {
             "pattern": {
              "fillmode": "overlay",
              "size": 10,
              "solidity": 0.2
             }
            },
            "type": "histogram"
           }
          ],
          "histogram2d": [
           {
            "colorbar": {
             "outlinewidth": 0,
             "ticks": ""
            },
            "colorscale": [
             [
              0,
              "#0d0887"
             ],
             [
              0.1111111111111111,
              "#46039f"
             ],
             [
              0.2222222222222222,
              "#7201a8"
             ],
             [
              0.3333333333333333,
              "#9c179e"
             ],
             [
              0.4444444444444444,
              "#bd3786"
             ],
             [
              0.5555555555555556,
              "#d8576b"
             ],
             [
              0.6666666666666666,
              "#ed7953"
             ],
             [
              0.7777777777777778,
              "#fb9f3a"
             ],
             [
              0.8888888888888888,
              "#fdca26"
             ],
             [
              1,
              "#f0f921"
             ]
            ],
            "type": "histogram2d"
           }
          ],
          "histogram2dcontour": [
           {
            "colorbar": {
             "outlinewidth": 0,
             "ticks": ""
            },
            "colorscale": [
             [
              0,
              "#0d0887"
             ],
             [
              0.1111111111111111,
              "#46039f"
             ],
             [
              0.2222222222222222,
              "#7201a8"
             ],
             [
              0.3333333333333333,
              "#9c179e"
             ],
             [
              0.4444444444444444,
              "#bd3786"
             ],
             [
              0.5555555555555556,
              "#d8576b"
             ],
             [
              0.6666666666666666,
              "#ed7953"
             ],
             [
              0.7777777777777778,
              "#fb9f3a"
             ],
             [
              0.8888888888888888,
              "#fdca26"
             ],
             [
              1,
              "#f0f921"
             ]
            ],
            "type": "histogram2dcontour"
           }
          ],
          "mesh3d": [
           {
            "colorbar": {
             "outlinewidth": 0,
             "ticks": ""
            },
            "type": "mesh3d"
           }
          ],
          "parcoords": [
           {
            "line": {
             "colorbar": {
              "outlinewidth": 0,
              "ticks": ""
             }
            },
            "type": "parcoords"
           }
          ],
          "pie": [
           {
            "automargin": true,
            "type": "pie"
           }
          ],
          "scatter": [
           {
            "fillpattern": {
             "fillmode": "overlay",
             "size": 10,
             "solidity": 0.2
            },
            "type": "scatter"
           }
          ],
          "scatter3d": [
           {
            "line": {
             "colorbar": {
              "outlinewidth": 0,
              "ticks": ""
             }
            },
            "marker": {
             "colorbar": {
              "outlinewidth": 0,
              "ticks": ""
             }
            },
            "type": "scatter3d"
           }
          ],
          "scattercarpet": [
           {
            "marker": {
             "colorbar": {
              "outlinewidth": 0,
              "ticks": ""
             }
            },
            "type": "scattercarpet"
           }
          ],
          "scattergeo": [
           {
            "marker": {
             "colorbar": {
              "outlinewidth": 0,
              "ticks": ""
             }
            },
            "type": "scattergeo"
           }
          ],
          "scattergl": [
           {
            "marker": {
             "colorbar": {
              "outlinewidth": 0,
              "ticks": ""
             }
            },
            "type": "scattergl"
           }
          ],
          "scattermapbox": [
           {
            "marker": {
             "colorbar": {
              "outlinewidth": 0,
              "ticks": ""
             }
            },
            "type": "scattermapbox"
           }
          ],
          "scatterpolar": [
           {
            "marker": {
             "colorbar": {
              "outlinewidth": 0,
              "ticks": ""
             }
            },
            "type": "scatterpolar"
           }
          ],
          "scatterpolargl": [
           {
            "marker": {
             "colorbar": {
              "outlinewidth": 0,
              "ticks": ""
             }
            },
            "type": "scatterpolargl"
           }
          ],
          "scatterternary": [
           {
            "marker": {
             "colorbar": {
              "outlinewidth": 0,
              "ticks": ""
             }
            },
            "type": "scatterternary"
           }
          ],
          "surface": [
           {
            "colorbar": {
             "outlinewidth": 0,
             "ticks": ""
            },
            "colorscale": [
             [
              0,
              "#0d0887"
             ],
             [
              0.1111111111111111,
              "#46039f"
             ],
             [
              0.2222222222222222,
              "#7201a8"
             ],
             [
              0.3333333333333333,
              "#9c179e"
             ],
             [
              0.4444444444444444,
              "#bd3786"
             ],
             [
              0.5555555555555556,
              "#d8576b"
             ],
             [
              0.6666666666666666,
              "#ed7953"
             ],
             [
              0.7777777777777778,
              "#fb9f3a"
             ],
             [
              0.8888888888888888,
              "#fdca26"
             ],
             [
              1,
              "#f0f921"
             ]
            ],
            "type": "surface"
           }
          ],
          "table": [
           {
            "cells": {
             "fill": {
              "color": "#EBF0F8"
             },
             "line": {
              "color": "white"
             }
            },
            "header": {
             "fill": {
              "color": "#C8D4E3"
             },
             "line": {
              "color": "white"
             }
            },
            "type": "table"
           }
          ]
         },
         "layout": {
          "annotationdefaults": {
           "arrowcolor": "#2a3f5f",
           "arrowhead": 0,
           "arrowwidth": 1
          },
          "autotypenumbers": "strict",
          "coloraxis": {
           "colorbar": {
            "outlinewidth": 0,
            "ticks": ""
           }
          },
          "colorscale": {
           "diverging": [
            [
             0,
             "#8e0152"
            ],
            [
             0.1,
             "#c51b7d"
            ],
            [
             0.2,
             "#de77ae"
            ],
            [
             0.3,
             "#f1b6da"
            ],
            [
             0.4,
             "#fde0ef"
            ],
            [
             0.5,
             "#f7f7f7"
            ],
            [
             0.6,
             "#e6f5d0"
            ],
            [
             0.7,
             "#b8e186"
            ],
            [
             0.8,
             "#7fbc41"
            ],
            [
             0.9,
             "#4d9221"
            ],
            [
             1,
             "#276419"
            ]
           ],
           "sequential": [
            [
             0,
             "#0d0887"
            ],
            [
             0.1111111111111111,
             "#46039f"
            ],
            [
             0.2222222222222222,
             "#7201a8"
            ],
            [
             0.3333333333333333,
             "#9c179e"
            ],
            [
             0.4444444444444444,
             "#bd3786"
            ],
            [
             0.5555555555555556,
             "#d8576b"
            ],
            [
             0.6666666666666666,
             "#ed7953"
            ],
            [
             0.7777777777777778,
             "#fb9f3a"
            ],
            [
             0.8888888888888888,
             "#fdca26"
            ],
            [
             1,
             "#f0f921"
            ]
           ],
           "sequentialminus": [
            [
             0,
             "#0d0887"
            ],
            [
             0.1111111111111111,
             "#46039f"
            ],
            [
             0.2222222222222222,
             "#7201a8"
            ],
            [
             0.3333333333333333,
             "#9c179e"
            ],
            [
             0.4444444444444444,
             "#bd3786"
            ],
            [
             0.5555555555555556,
             "#d8576b"
            ],
            [
             0.6666666666666666,
             "#ed7953"
            ],
            [
             0.7777777777777778,
             "#fb9f3a"
            ],
            [
             0.8888888888888888,
             "#fdca26"
            ],
            [
             1,
             "#f0f921"
            ]
           ]
          },
          "colorway": [
           "#636efa",
           "#EF553B",
           "#00cc96",
           "#ab63fa",
           "#FFA15A",
           "#19d3f3",
           "#FF6692",
           "#B6E880",
           "#FF97FF",
           "#FECB52"
          ],
          "font": {
           "color": "#2a3f5f"
          },
          "geo": {
           "bgcolor": "white",
           "lakecolor": "white",
           "landcolor": "#E5ECF6",
           "showlakes": true,
           "showland": true,
           "subunitcolor": "white"
          },
          "hoverlabel": {
           "align": "left"
          },
          "hovermode": "closest",
          "mapbox": {
           "style": "light"
          },
          "paper_bgcolor": "white",
          "plot_bgcolor": "#E5ECF6",
          "polar": {
           "angularaxis": {
            "gridcolor": "white",
            "linecolor": "white",
            "ticks": ""
           },
           "bgcolor": "#E5ECF6",
           "radialaxis": {
            "gridcolor": "white",
            "linecolor": "white",
            "ticks": ""
           }
          },
          "scene": {
           "xaxis": {
            "backgroundcolor": "#E5ECF6",
            "gridcolor": "white",
            "gridwidth": 2,
            "linecolor": "white",
            "showbackground": true,
            "ticks": "",
            "zerolinecolor": "white"
           },
           "yaxis": {
            "backgroundcolor": "#E5ECF6",
            "gridcolor": "white",
            "gridwidth": 2,
            "linecolor": "white",
            "showbackground": true,
            "ticks": "",
            "zerolinecolor": "white"
           },
           "zaxis": {
            "backgroundcolor": "#E5ECF6",
            "gridcolor": "white",
            "gridwidth": 2,
            "linecolor": "white",
            "showbackground": true,
            "ticks": "",
            "zerolinecolor": "white"
           }
          },
          "shapedefaults": {
           "line": {
            "color": "#2a3f5f"
           }
          },
          "ternary": {
           "aaxis": {
            "gridcolor": "white",
            "linecolor": "white",
            "ticks": ""
           },
           "baxis": {
            "gridcolor": "white",
            "linecolor": "white",
            "ticks": ""
           },
           "bgcolor": "#E5ECF6",
           "caxis": {
            "gridcolor": "white",
            "linecolor": "white",
            "ticks": ""
           }
          },
          "title": {
           "x": 0.05
          },
          "xaxis": {
           "automargin": true,
           "gridcolor": "white",
           "linecolor": "white",
           "ticks": "",
           "title": {
            "standoff": 15
           },
           "zerolinecolor": "white",
           "zerolinewidth": 2
          },
          "yaxis": {
           "automargin": true,
           "gridcolor": "white",
           "linecolor": "white",
           "ticks": "",
           "title": {
            "standoff": 15
           },
           "zerolinecolor": "white",
           "zerolinewidth": 2
          }
         }
        },
        "title": {
         "text": "Data Diagnostics: Column Boundaries (Average Score=1.0)"
        },
        "xaxis": {
         "anchor": "y",
         "categoryorder": "total ascending",
         "domain": [
          0,
          1
         ],
         "title": {
          "text": "Column Name"
         }
        },
        "yaxis": {
         "anchor": "x",
         "domain": [
          0,
          1
         ],
         "range": [
          0,
          1
         ],
         "title": {
          "text": "Diagnostic Score"
         }
        }
       }
      },
      "text/html": [
       "<div>                            <div id=\"1fcc5851-d499-42fa-9394-45c2ac81f79e\" class=\"plotly-graph-div\" style=\"height:525px; width:100%;\"></div>            <script type=\"text/javascript\">                require([\"plotly\"], function(Plotly) {                    window.PLOTLYENV=window.PLOTLYENV || {};                                    if (document.getElementById(\"1fcc5851-d499-42fa-9394-45c2ac81f79e\")) {                    Plotly.newPlot(                        \"1fcc5851-d499-42fa-9394-45c2ac81f79e\",                        [{\"alignmentgroup\":\"True\",\"customdata\":[[\"BoundaryAdherence\"],[\"BoundaryAdherence\"],[\"BoundaryAdherence\"],[\"BoundaryAdherence\"],[\"BoundaryAdherence\"],[\"BoundaryAdherence\"],[\"BoundaryAdherence\"],[\"BoundaryAdherence\"],[\"BoundaryAdherence\"],[\"BoundaryAdherence\"],[\"BoundaryAdherence\"],[\"BoundaryAdherence\"],[\"BoundaryAdherence\"],[\"BoundaryAdherence\"],[\"BoundaryAdherence\"],[\"BoundaryAdherence\"],[\"BoundaryAdherence\"],[\"BoundaryAdherence\"],[\"BoundaryAdherence\"]],\"hovertemplate\":\"\\u003cb\\u003e%{hovertext}\\u003c\\u002fb\\u003e\\u003cbr\\u003e\\u003cbr\\u003eMetric=%{customdata[0]}\\u003cbr\\u003eDiagnostic Score=%{y}\\u003cextra\\u003e\\u003c\\u002fextra\\u003e\",\"hovertext\":[\"flight\",\"time\",\"wind_speed\",\"wind_angle\",\"position_z\",\"orientation_x\",\"orientation_y\",\"orientation_z\",\"orientation_w\",\"velocity_x\",\"velocity_y\",\"velocity_z\",\"angular_x\",\"angular_y\",\"angular_z\",\"linear_acceleration_x\",\"linear_acceleration_y\",\"linear_acceleration_z\",\"power_smoothed\"],\"legendgroup\":\"BoundaryAdherence\",\"marker\":{\"color\":\"#000036\",\"pattern\":{\"shape\":\"\"}},\"name\":\"BoundaryAdherence\",\"offsetgroup\":\"BoundaryAdherence\",\"orientation\":\"v\",\"showlegend\":true,\"textposition\":\"auto\",\"x\":[\"flight\",\"time\",\"wind_speed\",\"wind_angle\",\"position_z\",\"orientation_x\",\"orientation_y\",\"orientation_z\",\"orientation_w\",\"velocity_x\",\"velocity_y\",\"velocity_z\",\"angular_x\",\"angular_y\",\"angular_z\",\"linear_acceleration_x\",\"linear_acceleration_y\",\"linear_acceleration_z\",\"power_smoothed\"],\"xaxis\":\"x\",\"y\":[1.0,1.0,1.0,1.0,1.0,1.0,1.0,1.0,1.0,1.0,1.0,1.0,1.0,1.0,1.0,1.0,1.0,1.0,1.0],\"yaxis\":\"y\",\"type\":\"bar\"}],                        {\"template\":{\"data\":{\"histogram2dcontour\":[{\"type\":\"histogram2dcontour\",\"colorbar\":{\"outlinewidth\":0,\"ticks\":\"\"},\"colorscale\":[[0.0,\"#0d0887\"],[0.1111111111111111,\"#46039f\"],[0.2222222222222222,\"#7201a8\"],[0.3333333333333333,\"#9c179e\"],[0.4444444444444444,\"#bd3786\"],[0.5555555555555556,\"#d8576b\"],[0.6666666666666666,\"#ed7953\"],[0.7777777777777778,\"#fb9f3a\"],[0.8888888888888888,\"#fdca26\"],[1.0,\"#f0f921\"]]}],\"choropleth\":[{\"type\":\"choropleth\",\"colorbar\":{\"outlinewidth\":0,\"ticks\":\"\"}}],\"histogram2d\":[{\"type\":\"histogram2d\",\"colorbar\":{\"outlinewidth\":0,\"ticks\":\"\"},\"colorscale\":[[0.0,\"#0d0887\"],[0.1111111111111111,\"#46039f\"],[0.2222222222222222,\"#7201a8\"],[0.3333333333333333,\"#9c179e\"],[0.4444444444444444,\"#bd3786\"],[0.5555555555555556,\"#d8576b\"],[0.6666666666666666,\"#ed7953\"],[0.7777777777777778,\"#fb9f3a\"],[0.8888888888888888,\"#fdca26\"],[1.0,\"#f0f921\"]]}],\"heatmap\":[{\"type\":\"heatmap\",\"colorbar\":{\"outlinewidth\":0,\"ticks\":\"\"},\"colorscale\":[[0.0,\"#0d0887\"],[0.1111111111111111,\"#46039f\"],[0.2222222222222222,\"#7201a8\"],[0.3333333333333333,\"#9c179e\"],[0.4444444444444444,\"#bd3786\"],[0.5555555555555556,\"#d8576b\"],[0.6666666666666666,\"#ed7953\"],[0.7777777777777778,\"#fb9f3a\"],[0.8888888888888888,\"#fdca26\"],[1.0,\"#f0f921\"]]}],\"heatmapgl\":[{\"type\":\"heatmapgl\",\"colorbar\":{\"outlinewidth\":0,\"ticks\":\"\"},\"colorscale\":[[0.0,\"#0d0887\"],[0.1111111111111111,\"#46039f\"],[0.2222222222222222,\"#7201a8\"],[0.3333333333333333,\"#9c179e\"],[0.4444444444444444,\"#bd3786\"],[0.5555555555555556,\"#d8576b\"],[0.6666666666666666,\"#ed7953\"],[0.7777777777777778,\"#fb9f3a\"],[0.8888888888888888,\"#fdca26\"],[1.0,\"#f0f921\"]]}],\"contourcarpet\":[{\"type\":\"contourcarpet\",\"colorbar\":{\"outlinewidth\":0,\"ticks\":\"\"}}],\"contour\":[{\"type\":\"contour\",\"colorbar\":{\"outlinewidth\":0,\"ticks\":\"\"},\"colorscale\":[[0.0,\"#0d0887\"],[0.1111111111111111,\"#46039f\"],[0.2222222222222222,\"#7201a8\"],[0.3333333333333333,\"#9c179e\"],[0.4444444444444444,\"#bd3786\"],[0.5555555555555556,\"#d8576b\"],[0.6666666666666666,\"#ed7953\"],[0.7777777777777778,\"#fb9f3a\"],[0.8888888888888888,\"#fdca26\"],[1.0,\"#f0f921\"]]}],\"surface\":[{\"type\":\"surface\",\"colorbar\":{\"outlinewidth\":0,\"ticks\":\"\"},\"colorscale\":[[0.0,\"#0d0887\"],[0.1111111111111111,\"#46039f\"],[0.2222222222222222,\"#7201a8\"],[0.3333333333333333,\"#9c179e\"],[0.4444444444444444,\"#bd3786\"],[0.5555555555555556,\"#d8576b\"],[0.6666666666666666,\"#ed7953\"],[0.7777777777777778,\"#fb9f3a\"],[0.8888888888888888,\"#fdca26\"],[1.0,\"#f0f921\"]]}],\"mesh3d\":[{\"type\":\"mesh3d\",\"colorbar\":{\"outlinewidth\":0,\"ticks\":\"\"}}],\"scatter\":[{\"fillpattern\":{\"fillmode\":\"overlay\",\"size\":10,\"solidity\":0.2},\"type\":\"scatter\"}],\"parcoords\":[{\"type\":\"parcoords\",\"line\":{\"colorbar\":{\"outlinewidth\":0,\"ticks\":\"\"}}}],\"scatterpolargl\":[{\"type\":\"scatterpolargl\",\"marker\":{\"colorbar\":{\"outlinewidth\":0,\"ticks\":\"\"}}}],\"bar\":[{\"error_x\":{\"color\":\"#2a3f5f\"},\"error_y\":{\"color\":\"#2a3f5f\"},\"marker\":{\"line\":{\"color\":\"#E5ECF6\",\"width\":0.5},\"pattern\":{\"fillmode\":\"overlay\",\"size\":10,\"solidity\":0.2}},\"type\":\"bar\"}],\"scattergeo\":[{\"type\":\"scattergeo\",\"marker\":{\"colorbar\":{\"outlinewidth\":0,\"ticks\":\"\"}}}],\"scatterpolar\":[{\"type\":\"scatterpolar\",\"marker\":{\"colorbar\":{\"outlinewidth\":0,\"ticks\":\"\"}}}],\"histogram\":[{\"marker\":{\"pattern\":{\"fillmode\":\"overlay\",\"size\":10,\"solidity\":0.2}},\"type\":\"histogram\"}],\"scattergl\":[{\"type\":\"scattergl\",\"marker\":{\"colorbar\":{\"outlinewidth\":0,\"ticks\":\"\"}}}],\"scatter3d\":[{\"type\":\"scatter3d\",\"line\":{\"colorbar\":{\"outlinewidth\":0,\"ticks\":\"\"}},\"marker\":{\"colorbar\":{\"outlinewidth\":0,\"ticks\":\"\"}}}],\"scattermapbox\":[{\"type\":\"scattermapbox\",\"marker\":{\"colorbar\":{\"outlinewidth\":0,\"ticks\":\"\"}}}],\"scatterternary\":[{\"type\":\"scatterternary\",\"marker\":{\"colorbar\":{\"outlinewidth\":0,\"ticks\":\"\"}}}],\"scattercarpet\":[{\"type\":\"scattercarpet\",\"marker\":{\"colorbar\":{\"outlinewidth\":0,\"ticks\":\"\"}}}],\"carpet\":[{\"aaxis\":{\"endlinecolor\":\"#2a3f5f\",\"gridcolor\":\"white\",\"linecolor\":\"white\",\"minorgridcolor\":\"white\",\"startlinecolor\":\"#2a3f5f\"},\"baxis\":{\"endlinecolor\":\"#2a3f5f\",\"gridcolor\":\"white\",\"linecolor\":\"white\",\"minorgridcolor\":\"white\",\"startlinecolor\":\"#2a3f5f\"},\"type\":\"carpet\"}],\"table\":[{\"cells\":{\"fill\":{\"color\":\"#EBF0F8\"},\"line\":{\"color\":\"white\"}},\"header\":{\"fill\":{\"color\":\"#C8D4E3\"},\"line\":{\"color\":\"white\"}},\"type\":\"table\"}],\"barpolar\":[{\"marker\":{\"line\":{\"color\":\"#E5ECF6\",\"width\":0.5},\"pattern\":{\"fillmode\":\"overlay\",\"size\":10,\"solidity\":0.2}},\"type\":\"barpolar\"}],\"pie\":[{\"automargin\":true,\"type\":\"pie\"}]},\"layout\":{\"autotypenumbers\":\"strict\",\"colorway\":[\"#636efa\",\"#EF553B\",\"#00cc96\",\"#ab63fa\",\"#FFA15A\",\"#19d3f3\",\"#FF6692\",\"#B6E880\",\"#FF97FF\",\"#FECB52\"],\"font\":{\"color\":\"#2a3f5f\"},\"hovermode\":\"closest\",\"hoverlabel\":{\"align\":\"left\"},\"paper_bgcolor\":\"white\",\"plot_bgcolor\":\"#E5ECF6\",\"polar\":{\"bgcolor\":\"#E5ECF6\",\"angularaxis\":{\"gridcolor\":\"white\",\"linecolor\":\"white\",\"ticks\":\"\"},\"radialaxis\":{\"gridcolor\":\"white\",\"linecolor\":\"white\",\"ticks\":\"\"}},\"ternary\":{\"bgcolor\":\"#E5ECF6\",\"aaxis\":{\"gridcolor\":\"white\",\"linecolor\":\"white\",\"ticks\":\"\"},\"baxis\":{\"gridcolor\":\"white\",\"linecolor\":\"white\",\"ticks\":\"\"},\"caxis\":{\"gridcolor\":\"white\",\"linecolor\":\"white\",\"ticks\":\"\"}},\"coloraxis\":{\"colorbar\":{\"outlinewidth\":0,\"ticks\":\"\"}},\"colorscale\":{\"sequential\":[[0.0,\"#0d0887\"],[0.1111111111111111,\"#46039f\"],[0.2222222222222222,\"#7201a8\"],[0.3333333333333333,\"#9c179e\"],[0.4444444444444444,\"#bd3786\"],[0.5555555555555556,\"#d8576b\"],[0.6666666666666666,\"#ed7953\"],[0.7777777777777778,\"#fb9f3a\"],[0.8888888888888888,\"#fdca26\"],[1.0,\"#f0f921\"]],\"sequentialminus\":[[0.0,\"#0d0887\"],[0.1111111111111111,\"#46039f\"],[0.2222222222222222,\"#7201a8\"],[0.3333333333333333,\"#9c179e\"],[0.4444444444444444,\"#bd3786\"],[0.5555555555555556,\"#d8576b\"],[0.6666666666666666,\"#ed7953\"],[0.7777777777777778,\"#fb9f3a\"],[0.8888888888888888,\"#fdca26\"],[1.0,\"#f0f921\"]],\"diverging\":[[0,\"#8e0152\"],[0.1,\"#c51b7d\"],[0.2,\"#de77ae\"],[0.3,\"#f1b6da\"],[0.4,\"#fde0ef\"],[0.5,\"#f7f7f7\"],[0.6,\"#e6f5d0\"],[0.7,\"#b8e186\"],[0.8,\"#7fbc41\"],[0.9,\"#4d9221\"],[1,\"#276419\"]]},\"xaxis\":{\"gridcolor\":\"white\",\"linecolor\":\"white\",\"ticks\":\"\",\"title\":{\"standoff\":15},\"zerolinecolor\":\"white\",\"automargin\":true,\"zerolinewidth\":2},\"yaxis\":{\"gridcolor\":\"white\",\"linecolor\":\"white\",\"ticks\":\"\",\"title\":{\"standoff\":15},\"zerolinecolor\":\"white\",\"automargin\":true,\"zerolinewidth\":2},\"scene\":{\"xaxis\":{\"backgroundcolor\":\"#E5ECF6\",\"gridcolor\":\"white\",\"linecolor\":\"white\",\"showbackground\":true,\"ticks\":\"\",\"zerolinecolor\":\"white\",\"gridwidth\":2},\"yaxis\":{\"backgroundcolor\":\"#E5ECF6\",\"gridcolor\":\"white\",\"linecolor\":\"white\",\"showbackground\":true,\"ticks\":\"\",\"zerolinecolor\":\"white\",\"gridwidth\":2},\"zaxis\":{\"backgroundcolor\":\"#E5ECF6\",\"gridcolor\":\"white\",\"linecolor\":\"white\",\"showbackground\":true,\"ticks\":\"\",\"zerolinecolor\":\"white\",\"gridwidth\":2}},\"shapedefaults\":{\"line\":{\"color\":\"#2a3f5f\"}},\"annotationdefaults\":{\"arrowcolor\":\"#2a3f5f\",\"arrowhead\":0,\"arrowwidth\":1},\"geo\":{\"bgcolor\":\"white\",\"landcolor\":\"#E5ECF6\",\"subunitcolor\":\"white\",\"showland\":true,\"showlakes\":true,\"lakecolor\":\"white\"},\"title\":{\"x\":0.05},\"mapbox\":{\"style\":\"light\"}}},\"xaxis\":{\"anchor\":\"y\",\"domain\":[0.0,1.0],\"title\":{\"text\":\"Column Name\"},\"categoryorder\":\"total ascending\"},\"yaxis\":{\"anchor\":\"x\",\"domain\":[0.0,1.0],\"title\":{\"text\":\"Diagnostic Score\"},\"range\":[0,1]},\"legend\":{\"title\":{\"text\":\"Metric\"},\"tracegroupgap\":0},\"title\":{\"text\":\"Data Diagnostics: Column Boundaries (Average Score=1.0)\"},\"barmode\":\"relative\",\"margin\":{\"t\":150},\"plot_bgcolor\":\"#F5F5F8\"},                        {\"responsive\": true}                    ).then(function(){\n",
       "                            \n",
       "var gd = document.getElementById('1fcc5851-d499-42fa-9394-45c2ac81f79e');\n",
       "var x = new MutationObserver(function (mutations, observer) {{\n",
       "        var display = window.getComputedStyle(gd).display;\n",
       "        if (!display || display === 'none') {{\n",
       "            console.log([gd, 'removed!']);\n",
       "            Plotly.purge(gd);\n",
       "            observer.disconnect();\n",
       "        }}\n",
       "}});\n",
       "\n",
       "// Listen for the removal of the full notebook cells\n",
       "var notebookContainer = gd.closest('#notebook-container');\n",
       "if (notebookContainer) {{\n",
       "    x.observe(notebookContainer, {childList: true});\n",
       "}}\n",
       "\n",
       "// Listen for the clearing of the current output cell\n",
       "var outputEl = gd.closest('.output');\n",
       "if (outputEl) {{\n",
       "    x.observe(outputEl, {childList: true});\n",
       "}}\n",
       "\n",
       "                        })                };                });            </script>        </div>"
      ]
     },
     "metadata": {},
     "output_type": "display_data"
    }
   ],
   "source": [
    "for i in ['Synthesis', 'Coverage', 'Boundaries']:\n",
    "    fig = report.get_visualization(property_name=i)\n",
    "    fig.show()"
   ]
  },
  {
   "cell_type": "code",
   "execution_count": 79,
   "metadata": {},
   "outputs": [
    {
     "name": "stdout",
     "output_type": "stream",
     "text": [
      "RD_min 3.2630269885449703\n",
      "RD_max 709.0351409967071\n",
      "SD_min 265.98645038223094\n",
      "SD_max 634.3123613646349\n"
     ]
    }
   ],
   "source": [
    "print(\"RD_min\", real_data_flight1['power_smoothed'].min())\n",
    "print(\"RD_max\", real_data_flight1['power_smoothed'].max())\n",
    "print(\"SD_min\", synthetic_data_Gaussian_flight1['power_smoothed'].min())\n",
    "print(\"SD_max\", synthetic_data_Gaussian_flight1['power_smoothed'].max())"
   ]
  },
  {
   "cell_type": "code",
   "execution_count": null,
   "metadata": {},
   "outputs": [],
   "source": []
  }
 ],
 "metadata": {
  "kernelspec": {
   "display_name": "base",
   "language": "python",
   "name": "python3"
  },
  "language_info": {
   "codemirror_mode": {
    "name": "ipython",
    "version": 3
   },
   "file_extension": ".py",
   "mimetype": "text/x-python",
   "name": "python",
   "nbconvert_exporter": "python",
   "pygments_lexer": "ipython3",
   "version": "3.8.12"
  },
  "orig_nbformat": 4
 },
 "nbformat": 4,
 "nbformat_minor": 2
}
