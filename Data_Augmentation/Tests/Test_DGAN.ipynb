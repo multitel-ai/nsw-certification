{
 "cells": [
  {
   "cell_type": "code",
   "execution_count": 3,
   "metadata": {},
   "outputs": [
    {
     "name": "stdout",
     "output_type": "stream",
     "text": [
      "Defaulting to user installation because normal site-packages is not writeable\n",
      "Requirement already satisfied: gretel_synthetics in /home/user/.local/lib/python3.8/site-packages (0.20.0)\n",
      "Requirement already satisfied: loky==2.9.0 in /home/user/.local/lib/python3.8/site-packages (from gretel_synthetics) (2.9.0)\n",
      "Requirement already satisfied: tqdm<5.0 in /opt/conda/lib/python3.8/site-packages (from gretel_synthetics) (4.43.0)\n",
      "Requirement already satisfied: tensorflow-estimator==2.8 in /home/user/.local/lib/python3.8/site-packages (from gretel_synthetics) (2.8.0)\n",
      "Requirement already satisfied: tensorflow-probability==0.16.0 in /home/user/.local/lib/python3.8/site-packages (from gretel_synthetics) (0.16.0)\n",
      "Requirement already satisfied: category-encoders==2.2.2 in /home/user/.local/lib/python3.8/site-packages (from gretel_synthetics) (2.2.2)\n",
      "Requirement already satisfied: sentencepiece==0.1.97 in /home/user/.local/lib/python3.8/site-packages (from gretel_synthetics) (0.1.97)\n",
      "Requirement already satisfied: pandas>=1.1.0 in /home/user/.local/lib/python3.8/site-packages (from gretel_synthetics) (2.0.3)\n",
      "Requirement already satisfied: smart-open<6.0,>=2.1.0 in /home/user/.local/lib/python3.8/site-packages (from gretel_synthetics) (5.2.1)\n",
      "Requirement already satisfied: numpy>=1.18.0 in /home/user/.local/lib/python3.8/site-packages (from gretel_synthetics) (1.24.4)\n",
      "Requirement already satisfied: tensorflow-privacy==0.7.3 in /home/user/.local/lib/python3.8/site-packages (from gretel_synthetics) (0.7.3)\n",
      "Requirement already satisfied: scipy>=1.0.0 in /opt/conda/lib/python3.8/site-packages (from category-encoders==2.2.2->gretel_synthetics) (1.10.1)\n",
      "Requirement already satisfied: patsy>=0.5.1 in /home/user/.local/lib/python3.8/site-packages (from category-encoders==2.2.2->gretel_synthetics) (0.5.3)\n",
      "Requirement already satisfied: scikit-learn>=0.20.0 in /opt/conda/lib/python3.8/site-packages (from category-encoders==2.2.2->gretel_synthetics) (0.24.2)\n",
      "Requirement already satisfied: statsmodels>=0.9.0 in /home/user/.local/lib/python3.8/site-packages (from category-encoders==2.2.2->gretel_synthetics) (0.14.0)\n",
      "Requirement already satisfied: cloudpickle in /opt/conda/lib/python3.8/site-packages (from loky==2.9.0->gretel_synthetics) (2.2.1)\n",
      "Requirement already satisfied: tensorflow-datasets>=4.4.0 in /home/user/.local/lib/python3.8/site-packages (from tensorflow-privacy==0.7.3->gretel_synthetics) (4.9.2)\n",
      "Requirement already satisfied: dm-tree~=0.1.1 in /opt/conda/lib/python3.8/site-packages (from tensorflow-privacy==0.7.3->gretel_synthetics) (0.1.8)\n",
      "Requirement already satisfied: mpmath in /home/user/.local/lib/python3.8/site-packages (from tensorflow-privacy==0.7.3->gretel_synthetics) (1.3.0)\n",
      "Requirement already satisfied: attrs>=21.2.0 in /opt/conda/lib/python3.8/site-packages (from tensorflow-privacy==0.7.3->gretel_synthetics) (23.1.0)\n",
      "Requirement already satisfied: six>=1.10.0 in /opt/conda/lib/python3.8/site-packages (from tensorflow-probability==0.16.0->gretel_synthetics) (1.16.0)\n",
      "Requirement already satisfied: gast>=0.3.2 in /opt/conda/lib/python3.8/site-packages (from tensorflow-probability==0.16.0->gretel_synthetics) (0.4.0)\n",
      "Requirement already satisfied: absl-py in /opt/conda/lib/python3.8/site-packages (from tensorflow-probability==0.16.0->gretel_synthetics) (1.4.0)\n",
      "Requirement already satisfied: decorator in /opt/conda/lib/python3.8/site-packages (from tensorflow-probability==0.16.0->gretel_synthetics) (5.1.1)\n",
      "Requirement already satisfied: tzdata>=2022.1 in /home/user/.local/lib/python3.8/site-packages (from pandas>=1.1.0->gretel_synthetics) (2023.3)\n",
      "Requirement already satisfied: python-dateutil>=2.8.2 in /opt/conda/lib/python3.8/site-packages (from pandas>=1.1.0->gretel_synthetics) (2.8.2)\n",
      "Requirement already satisfied: pytz>=2020.1 in /opt/conda/lib/python3.8/site-packages (from pandas>=1.1.0->gretel_synthetics) (2021.3)\n",
      "Requirement already satisfied: joblib>=0.11 in /opt/conda/lib/python3.8/site-packages (from scikit-learn>=0.20.0->category-encoders==2.2.2->gretel_synthetics) (1.3.2)\n",
      "Requirement already satisfied: threadpoolctl>=2.0.0 in /opt/conda/lib/python3.8/site-packages (from scikit-learn>=0.20.0->category-encoders==2.2.2->gretel_synthetics) (3.2.0)\n",
      "Requirement already satisfied: packaging>=21.3 in /opt/conda/lib/python3.8/site-packages (from statsmodels>=0.9.0->category-encoders==2.2.2->gretel_synthetics) (23.1)\n",
      "Requirement already satisfied: requests>=2.19.0 in /opt/conda/lib/python3.8/site-packages (from tensorflow-datasets>=4.4.0->tensorflow-privacy==0.7.3->gretel_synthetics) (2.31.0)\n",
      "Requirement already satisfied: etils[enp,epath]>=0.9.0 in /home/user/.local/lib/python3.8/site-packages (from tensorflow-datasets>=4.4.0->tensorflow-privacy==0.7.3->gretel_synthetics) (1.3.0)\n",
      "Requirement already satisfied: termcolor in /opt/conda/lib/python3.8/site-packages (from tensorflow-datasets>=4.4.0->tensorflow-privacy==0.7.3->gretel_synthetics) (2.3.0)\n",
      "Requirement already satisfied: array-record in /home/user/.local/lib/python3.8/site-packages (from tensorflow-datasets>=4.4.0->tensorflow-privacy==0.7.3->gretel_synthetics) (0.4.0)\n",
      "Requirement already satisfied: wrapt in /opt/conda/lib/python3.8/site-packages (from tensorflow-datasets>=4.4.0->tensorflow-privacy==0.7.3->gretel_synthetics) (1.15.0)\n",
      "Requirement already satisfied: protobuf>=3.20 in /home/user/.local/lib/python3.8/site-packages (from tensorflow-datasets>=4.4.0->tensorflow-privacy==0.7.3->gretel_synthetics) (3.20.3)\n",
      "Requirement already satisfied: click in /home/user/.local/lib/python3.8/site-packages (from tensorflow-datasets>=4.4.0->tensorflow-privacy==0.7.3->gretel_synthetics) (8.1.7)\n",
      "Requirement already satisfied: psutil in /opt/conda/lib/python3.8/site-packages (from tensorflow-datasets>=4.4.0->tensorflow-privacy==0.7.3->gretel_synthetics) (5.8.0)\n",
      "Requirement already satisfied: toml in /home/user/.local/lib/python3.8/site-packages (from tensorflow-datasets>=4.4.0->tensorflow-privacy==0.7.3->gretel_synthetics) (0.10.2)\n",
      "Requirement already satisfied: tensorflow-metadata in /home/user/.local/lib/python3.8/site-packages (from tensorflow-datasets>=4.4.0->tensorflow-privacy==0.7.3->gretel_synthetics) (1.14.0)\n",
      "Requirement already satisfied: promise in /home/user/.local/lib/python3.8/site-packages (from tensorflow-datasets>=4.4.0->tensorflow-privacy==0.7.3->gretel_synthetics) (2.3)\n",
      "Requirement already satisfied: importlib-resources in /opt/conda/lib/python3.8/site-packages (from tensorflow-datasets>=4.4.0->tensorflow-privacy==0.7.3->gretel_synthetics) (6.0.1)\n",
      "Requirement already satisfied: typing_extensions in /opt/conda/lib/python3.8/site-packages (from etils[enp,epath]>=0.9.0->tensorflow-datasets>=4.4.0->tensorflow-privacy==0.7.3->gretel_synthetics) (4.5.0)\n",
      "Requirement already satisfied: zipp in /opt/conda/lib/python3.8/site-packages (from etils[enp,epath]>=0.9.0->tensorflow-datasets>=4.4.0->tensorflow-privacy==0.7.3->gretel_synthetics) (3.16.2)\n",
      "Requirement already satisfied: charset-normalizer<4,>=2 in /opt/conda/lib/python3.8/site-packages (from requests>=2.19.0->tensorflow-datasets>=4.4.0->tensorflow-privacy==0.7.3->gretel_synthetics) (2.0.4)\n",
      "Requirement already satisfied: urllib3<3,>=1.21.1 in /opt/conda/lib/python3.8/site-packages (from requests>=2.19.0->tensorflow-datasets>=4.4.0->tensorflow-privacy==0.7.3->gretel_synthetics) (1.26.7)\n",
      "Requirement already satisfied: certifi>=2017.4.17 in /opt/conda/lib/python3.8/site-packages (from requests>=2.19.0->tensorflow-datasets>=4.4.0->tensorflow-privacy==0.7.3->gretel_synthetics) (2021.10.8)\n",
      "Requirement already satisfied: idna<4,>=2.5 in /opt/conda/lib/python3.8/site-packages (from requests>=2.19.0->tensorflow-datasets>=4.4.0->tensorflow-privacy==0.7.3->gretel_synthetics) (3.3)\n",
      "Requirement already satisfied: googleapis-common-protos<2,>=1.52.0 in /home/user/.local/lib/python3.8/site-packages (from tensorflow-metadata->tensorflow-datasets>=4.4.0->tensorflow-privacy==0.7.3->gretel_synthetics) (1.60.0)\n"
     ]
    }
   ],
   "source": [
    "!pip install gretel_synthetics"
   ]
  },
  {
   "cell_type": "code",
   "execution_count": 12,
   "metadata": {},
   "outputs": [],
   "source": [
    "import numpy as np\n",
    "import pandas as pd\n",
    "from gretel_synthetics.timeseries_dgan.dgan import DGAN\n",
    "from gretel_synthetics.timeseries_dgan.config import DGANConfig\n"
   ]
  },
  {
   "cell_type": "code",
   "execution_count": 13,
   "metadata": {},
   "outputs": [
    {
     "ename": "ValueError",
     "evalue": "Must pass 2-d input. shape=(10000, 20, 2)",
     "output_type": "error",
     "traceback": [
      "\u001b[0;31m---------------------------------------------------------------------------\u001b[0m",
      "\u001b[0;31mValueError\u001b[0m                                Traceback (most recent call last)",
      "\u001b[0;32m/tmp/ipykernel_114940/769943672.py\u001b[0m in \u001b[0;36m<module>\u001b[0;34m\u001b[0m\n\u001b[1;32m      1\u001b[0m \u001b[0mattributes\u001b[0m \u001b[0;34m=\u001b[0m \u001b[0mpd\u001b[0m\u001b[0;34m.\u001b[0m\u001b[0mDataFrame\u001b[0m\u001b[0;34m(\u001b[0m\u001b[0mnp\u001b[0m\u001b[0;34m.\u001b[0m\u001b[0mrandom\u001b[0m\u001b[0;34m.\u001b[0m\u001b[0mrand\u001b[0m\u001b[0;34m(\u001b[0m\u001b[0;36m10000\u001b[0m\u001b[0;34m,\u001b[0m \u001b[0;36m3\u001b[0m\u001b[0;34m)\u001b[0m\u001b[0;34m)\u001b[0m\u001b[0;34m\u001b[0m\u001b[0;34m\u001b[0m\u001b[0m\n\u001b[0;32m----> 2\u001b[0;31m \u001b[0mfeatures\u001b[0m \u001b[0;34m=\u001b[0m \u001b[0mpd\u001b[0m\u001b[0;34m.\u001b[0m\u001b[0mDataFrame\u001b[0m\u001b[0;34m(\u001b[0m\u001b[0mnp\u001b[0m\u001b[0;34m.\u001b[0m\u001b[0mrandom\u001b[0m\u001b[0;34m.\u001b[0m\u001b[0mrand\u001b[0m\u001b[0;34m(\u001b[0m\u001b[0;36m10000\u001b[0m\u001b[0;34m,\u001b[0m \u001b[0;36m20\u001b[0m\u001b[0;34m,\u001b[0m \u001b[0;36m2\u001b[0m\u001b[0;34m)\u001b[0m\u001b[0;34m)\u001b[0m\u001b[0;34m\u001b[0m\u001b[0;34m\u001b[0m\u001b[0m\n\u001b[0m\u001b[1;32m      3\u001b[0m \u001b[0;34m\u001b[0m\u001b[0m\n\u001b[1;32m      4\u001b[0m config = DGANConfig(\n\u001b[1;32m      5\u001b[0m     \u001b[0mmax_sequence_len\u001b[0m\u001b[0;34m=\u001b[0m\u001b[0;36m20\u001b[0m\u001b[0;34m,\u001b[0m\u001b[0;34m\u001b[0m\u001b[0;34m\u001b[0m\u001b[0m\n",
      "\u001b[0;32m~/.local/lib/python3.8/site-packages/pandas/core/frame.py\u001b[0m in \u001b[0;36m__init__\u001b[0;34m(self, data, index, columns, dtype, copy)\u001b[0m\n\u001b[1;32m    756\u001b[0m                 )\n\u001b[1;32m    757\u001b[0m             \u001b[0;32melse\u001b[0m\u001b[0;34m:\u001b[0m\u001b[0;34m\u001b[0m\u001b[0;34m\u001b[0m\u001b[0m\n\u001b[0;32m--> 758\u001b[0;31m                 mgr = ndarray_to_mgr(\n\u001b[0m\u001b[1;32m    759\u001b[0m                     \u001b[0mdata\u001b[0m\u001b[0;34m,\u001b[0m\u001b[0;34m\u001b[0m\u001b[0;34m\u001b[0m\u001b[0m\n\u001b[1;32m    760\u001b[0m                     \u001b[0mindex\u001b[0m\u001b[0;34m,\u001b[0m\u001b[0;34m\u001b[0m\u001b[0;34m\u001b[0m\u001b[0m\n",
      "\u001b[0;32m~/.local/lib/python3.8/site-packages/pandas/core/internals/construction.py\u001b[0m in \u001b[0;36mndarray_to_mgr\u001b[0;34m(values, index, columns, dtype, copy, typ)\u001b[0m\n\u001b[1;32m    313\u001b[0m         )\n\u001b[1;32m    314\u001b[0m         \u001b[0mvalues\u001b[0m \u001b[0;34m=\u001b[0m \u001b[0mnp\u001b[0m\u001b[0;34m.\u001b[0m\u001b[0marray\u001b[0m\u001b[0;34m(\u001b[0m\u001b[0mvalues\u001b[0m\u001b[0;34m,\u001b[0m \u001b[0mcopy\u001b[0m\u001b[0;34m=\u001b[0m\u001b[0m_copy\u001b[0m\u001b[0;34m)\u001b[0m\u001b[0;34m\u001b[0m\u001b[0;34m\u001b[0m\u001b[0m\n\u001b[0;32m--> 315\u001b[0;31m         \u001b[0mvalues\u001b[0m \u001b[0;34m=\u001b[0m \u001b[0m_ensure_2d\u001b[0m\u001b[0;34m(\u001b[0m\u001b[0mvalues\u001b[0m\u001b[0;34m)\u001b[0m\u001b[0;34m\u001b[0m\u001b[0;34m\u001b[0m\u001b[0m\n\u001b[0m\u001b[1;32m    316\u001b[0m \u001b[0;34m\u001b[0m\u001b[0m\n\u001b[1;32m    317\u001b[0m     \u001b[0;32melse\u001b[0m\u001b[0;34m:\u001b[0m\u001b[0;34m\u001b[0m\u001b[0;34m\u001b[0m\u001b[0m\n",
      "\u001b[0;32m~/.local/lib/python3.8/site-packages/pandas/core/internals/construction.py\u001b[0m in \u001b[0;36m_ensure_2d\u001b[0;34m(values)\u001b[0m\n\u001b[1;32m    568\u001b[0m         \u001b[0mvalues\u001b[0m \u001b[0;34m=\u001b[0m \u001b[0mvalues\u001b[0m\u001b[0;34m.\u001b[0m\u001b[0mreshape\u001b[0m\u001b[0;34m(\u001b[0m\u001b[0;34m(\u001b[0m\u001b[0mvalues\u001b[0m\u001b[0;34m.\u001b[0m\u001b[0mshape\u001b[0m\u001b[0;34m[\u001b[0m\u001b[0;36m0\u001b[0m\u001b[0;34m]\u001b[0m\u001b[0;34m,\u001b[0m \u001b[0;36m1\u001b[0m\u001b[0;34m)\u001b[0m\u001b[0;34m)\u001b[0m\u001b[0;34m\u001b[0m\u001b[0;34m\u001b[0m\u001b[0m\n\u001b[1;32m    569\u001b[0m     \u001b[0;32melif\u001b[0m \u001b[0mvalues\u001b[0m\u001b[0;34m.\u001b[0m\u001b[0mndim\u001b[0m \u001b[0;34m!=\u001b[0m \u001b[0;36m2\u001b[0m\u001b[0;34m:\u001b[0m\u001b[0;34m\u001b[0m\u001b[0;34m\u001b[0m\u001b[0m\n\u001b[0;32m--> 570\u001b[0;31m         \u001b[0;32mraise\u001b[0m \u001b[0mValueError\u001b[0m\u001b[0;34m(\u001b[0m\u001b[0;34mf\"Must pass 2-d input. shape={values.shape}\"\u001b[0m\u001b[0;34m)\u001b[0m\u001b[0;34m\u001b[0m\u001b[0;34m\u001b[0m\u001b[0m\n\u001b[0m\u001b[1;32m    571\u001b[0m     \u001b[0;32mreturn\u001b[0m \u001b[0mvalues\u001b[0m\u001b[0;34m\u001b[0m\u001b[0;34m\u001b[0m\u001b[0m\n\u001b[1;32m    572\u001b[0m \u001b[0;34m\u001b[0m\u001b[0m\n",
      "\u001b[0;31mValueError\u001b[0m: Must pass 2-d input. shape=(10000, 20, 2)"
     ]
    }
   ],
   "source": [
    "attributes = pd.DataFrame(np.random.rand(10000, 3))\n",
    "features = pd.DataFrame(np.random.rand(10000, 20, 2))\n",
    "\n",
    "config = DGANConfig(\n",
    "    max_sequence_len=20,\n",
    "    sample_len=5,\n",
    "    batch_size=1000,\n",
    "    epochs=10\n",
    ")\n",
    "model = DGAN(config)\n",
    "\n",
    "model.train_numpy(attributes, features)\n",
    "\n",
    "synthetic_attributes, synthetic_features = model.generate(1000)"
   ]
  },
  {
   "cell_type": "code",
   "execution_count": null,
   "metadata": {},
   "outputs": [],
   "source": []
  }
 ],
 "metadata": {
  "kernelspec": {
   "display_name": "base",
   "language": "python",
   "name": "python3"
  },
  "language_info": {
   "codemirror_mode": {
    "name": "ipython",
    "version": 3
   },
   "file_extension": ".py",
   "mimetype": "text/x-python",
   "name": "python",
   "nbconvert_exporter": "python",
   "pygments_lexer": "ipython3",
   "version": "3.8.12"
  },
  "orig_nbformat": 4
 },
 "nbformat": 4,
 "nbformat_minor": 2
}
